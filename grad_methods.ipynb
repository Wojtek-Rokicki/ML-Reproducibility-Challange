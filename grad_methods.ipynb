{
 "cells": [
  {
   "cell_type": "code",
   "execution_count": null,
   "metadata": {},
   "outputs": [],
   "source": [
    "import numpy as np\n",
    "### AdaGrad\n",
    "\n",
    "\n",
    "### SpiderBoost\n",
    "# sgd is a function returning stochastic gradient descent for logistic cost function for \"w\" weights and \"i-th\" sample\n",
    "def sgd(i, w):\n",
    "    pass\n",
    "# logistic cost function full gradient\n",
    "def grad(tx, y, w):\n",
    "    pass\n",
    "\n",
    "def compute_estimator_vk(S, w, w_prev, prev_vk):\n",
    "    '''\n",
    "    \n",
    "    '''\n",
    "    res = 0\n",
    "    for i in S:\n",
    "        partial_sum = sgd(i, w) - sgd(i, w_prev) + prev_vk\n",
    "        res = res + partial_sum\n",
    "    return res/len(S)\n",
    "\n",
    "def spider_boost(L, q, K, tx, y):\n",
    "    \"\"\"Algorithm for gradient optimization, which estimates gradients and reduces their iterative variance.\n",
    "\n",
    "    Parameters\n",
    "    ----------\n",
    "    L : float\n",
    "        Lipshitz constant.\n",
    "    q : int\n",
    "        Parameter, for which each q-th iteration standard gradient is computed.\n",
    "    K : int\n",
    "        Number of iterations for algorithm\n",
    "    tx : ndarray of shape (N, D+1)\n",
    "        Array of input features\n",
    "    y : ndarray of shape (N, 1)\n",
    "        Array of output\n",
    "\n",
    "    Returns\n",
    "    -------\n",
    "    grads : ndarray of shape (K, 1)\n",
    "        Array of gradient estimators in each step of the algorithm.\n",
    "    \"\"\"\n",
    "    eta = 1/(2*L)\n",
    "    N = len(tx)\n",
    "    w = w_prev = np.zeros(tx.shape[1]) # weights initialization\n",
    "    grads = []\n",
    "    for k in range(K):\n",
    "        if k%q == 0:\n",
    "            v_k = grad(tx, y, w) # logistic cost function full gradient\n",
    "        else:\n",
    "            S = np.random.choice(N)\n",
    "            v_k = compute_estimator_vk(S, w, w_prev, v_k)\n",
    "        w_prev = w\n",
    "        w = w_prev - eta*v_k\n",
    "        grads.append(v_k)\n",
    "    return grads\n"
   ]
  }
 ],
 "metadata": {
  "kernelspec": {
   "display_name": "Python 3.10.6 ('venv': venv)",
   "language": "python",
   "name": "python3"
  },
  "language_info": {
   "name": "python",
   "version": "3.10.6"
  },
  "orig_nbformat": 4,
  "vscode": {
   "interpreter": {
    "hash": "bddca6f205aebd86508050b416256222382b98c4aa05f61f33afbd3d1facfd66"
   }
  }
 },
 "nbformat": 4,
 "nbformat_minor": 2
}
