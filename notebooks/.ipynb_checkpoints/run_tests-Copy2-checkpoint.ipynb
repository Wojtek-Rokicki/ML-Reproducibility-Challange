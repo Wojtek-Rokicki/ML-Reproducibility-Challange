{
 "cells": [
  {
   "cell_type": "code",
   "execution_count": 2,
   "metadata": {
    "pycharm": {
     "name": "#%%\n"
    },
    "tags": []
   },
   "outputs": [],
   "source": [
    "import matplotlib.pyplot as plt\n",
    "import numpy as np\n",
    "import dsdl\n",
    "import numpy.random\n",
    "from typing import Callable, List\n",
    "import pandas as pd\n",
    "import json\n",
    "\n",
    "%load_ext autoreload\n",
    "%autoreload 2\n",
    "%matplotlib inline"
   ]
  },
  {
   "cell_type": "code",
   "execution_count": 3,
   "metadata": {
    "tags": []
   },
   "outputs": [],
   "source": [
    "# !pip install git+https://github.com/fkunstner/dataset-downloader.git"
   ]
  },
  {
   "cell_type": "code",
   "execution_count": 4,
   "metadata": {
    "pycharm": {
     "name": "#%%\n"
    },
    "tags": []
   },
   "outputs": [],
   "source": [
    "DATASETS = ['a1a', 'mushrooms', 'a6a', 'w1a', 'w5a', 'ionosphere']\n",
    "METHODS = ['SGD', 'AdaSpider', 'Spider', 'SpiderBoost', 'SVRG', 'AdaGrad', 'AdaSVRG']"
   ]
  },
  {
   "cell_type": "code",
   "execution_count": 5,
   "metadata": {
    "tags": []
   },
   "outputs": [],
   "source": [
    "import os\n",
    "import sys\n",
    "module_path = \"/root/ML-Reproducibility-Challange/\"\n",
    "if module_path not in sys.path:\n",
    "    sys.path.append(module_path)"
   ]
  },
  {
   "cell_type": "code",
   "execution_count": 6,
   "metadata": {
    "tags": []
   },
   "outputs": [],
   "source": [
    "from sklearn.preprocessing import Normalizer "
   ]
  },
  {
   "cell_type": "markdown",
   "metadata": {
    "pycharm": {
     "name": "#%% md\n"
    }
   },
   "source": [
    "# Logistic regression"
   ]
  },
  {
   "cell_type": "code",
   "execution_count": 7,
   "metadata": {
    "pycharm": {
     "name": "#%%\n"
    },
    "tags": []
   },
   "outputs": [],
   "source": [
    "# for dataset_name in DATASETS:\n",
    "#     X, y = get_data(dataset_name)\n",
    "#     pd.DataFrame(np.c_[X, y]).to_csv(f\"{dataset_name}.csv\", index=False)"
   ]
  },
  {
   "cell_type": "code",
   "execution_count": 8,
   "metadata": {
    "pycharm": {
     "name": "#%%\n"
    },
    "tags": []
   },
   "outputs": [],
   "source": [
    "from src.optimizers.Optimizer import Optimizer"
   ]
  },
  {
   "cell_type": "code",
   "execution_count": 9,
   "metadata": {
    "pycharm": {
     "name": "#%%\n"
    },
    "tags": []
   },
   "outputs": [],
   "source": [
    "def get_data(dataset_name: str):\n",
    "    \"\"\"\n",
    "    :param dataset_name: Name of the dataset from dsdl module.\n",
    "    :return: (X, y) train and target data.\n",
    "    \"\"\"\n",
    "    ds = dsdl.load(dataset_name)\n",
    "    X, y = ds.get_train()\n",
    "    X = X.toarray()\n",
    "    y = y.reshape(-1, 1)\n",
    "    return normalize(X, y)\n",
    "\n",
    "def normalize(X, y):\n",
    "    scaler_x = Normalizer().fit(X)\n",
    "    X_scaled = scaler_x.transform(X)\n",
    "    \n",
    "    scaler_y = Normalizer().fit(y)\n",
    "    y_scaled = scaler_x.transform(y)\n",
    "    return X_scaled, y_scaled\n",
    "\n",
    "def build_model(X, y):\n",
    "    \"\"\"\n",
    "    Joins weights\n",
    "    :param X: shape=(N, D). Train data\n",
    "    :param y: shape=(N, 1). Target data\n",
    "    :return: shape=(N, D+1). Built model for logistic regression.\n",
    "    \"\"\"\n",
    "    return np.c_[np.zeros((y.shape[0], 1)), X]\n",
    "\n",
    "def get_initial_weights(tx):\n",
    "    \"\"\"\n",
    "    Returns weights initialized from the uniform distribution [0, 1].\n",
    "    :param tx: shape=(N, D). Build model\n",
    "    :return: shape=(D, 1) Initial weights\n",
    "    \"\"\"\n",
    "    np.random.seed(2022)\n",
    "    return np.zeros(shape=(tx.shape[1], 1))\n",
    "\n",
    "def test_method(method: Optimizer,\n",
    "                initial_weights,\n",
    "                tx,\n",
    "                y,\n",
    "                max_iter: int,\n",
    "                *parameter):\n",
    "        \"\"\"\n",
    "        :param method: Optimization method implementation from src optimizers module.\n",
    "        :param dataset_name: Name of the dataset from dsdl module.\n",
    "        :param max_iter: Number of iterations to test.\n",
    "        :param parameters optional: Dataclass containing parameters used int optimization method.\n",
    "        :return: List of gradients from optimization method.\n",
    "        \"\"\"\n",
    "        gradients, loss = method.optimize(initial_weights, tx, y, max_iter)\n",
    "        return [np.linalg.norm(grad)**2 for grad in gradients], loss"
   ]
  },
  {
   "cell_type": "code",
   "execution_count": 11,
   "metadata": {
    "pycharm": {
     "name": "#%%\n"
    },
    "tags": []
   },
   "outputs": [],
   "source": [
    "from src.optimizers.SGD import SGD  # works\n",
    "from src.optimizers.AdaSpider import AdaSpider\n",
    "from src.optimizers.Spider import Spider  # works\n",
    "from src.optimizers.SpiderBoost import SpiderBoost\n",
    "from src.optimizers.SVRG import SVRG\n",
    "from src.optimizers.AdaGrad import AdaGrad # works\n",
    "from src.optimizers.AdaSVRG import AdaSVRG"
   ]
  },
  {
   "cell_type": "code",
   "execution_count": 78,
   "metadata": {
    "pycharm": {
     "name": "#%%\n"
    },
    "tags": []
   },
   "outputs": [],
   "source": [
    "N_ORACLE_CALLS = 0\n",
    "\n",
    "METHODS = [\n",
    "    SGD(lambda_=0.0001, q=N_ORACLE_CALLS),\n",
    "    AdaSpider(q=1500),\n",
    "    Spider(n_0 = 0.0005, lambda_=5e-05, epsilon=5e-05, q=3000),\n",
    "    SpiderBoost(lambda_=0.1, q=3000),\n",
    "    SVRG(lambda_=0.0001, q=4000),\n",
    "    AdaGrad(lambda_=0.0001, q=N_ORACLE_CALLS),\n",
    "    AdaSVRG(lambda_=0.0001, q=5000)\n",
    "]"
   ]
  },
  {
   "cell_type": "markdown",
   "metadata": {
    "pycharm": {
     "name": "#%% md\n"
    }
   },
   "source": [
    "## Run simulations"
   ]
  },
  {
   "cell_type": "code",
   "execution_count": 79,
   "metadata": {
    "tags": []
   },
   "outputs": [],
   "source": [
    "# run 2 # 20 mins on 8 cpu avs ml.c5.2xlarge\n",
    "# run 1 # 1 hour later on the 4 cpu machine \n",
    "# started at 2:30 AM"
   ]
  },
  {
   "cell_type": "code",
   "execution_count": null,
   "metadata": {
    "pycharm": {
     "name": "#%%\n"
    },
    "tags": []
   },
   "outputs": [
    {
     "name": "stdout",
     "output_type": "stream",
     "text": [
      "Dataset mushrooms\n",
      "Method SGD\n"
     ]
    }
   ],
   "source": [
    "ITERATIONS = 100000\n",
    "N_RUNS = 1\n",
    "\n",
    "all_gradients = []\n",
    "\n",
    "datasets_data = {}\n",
    "for i, dataset_name in enumerate([DATASETS[1]]):\n",
    "\n",
    "    print(\"Dataset\", dataset_name)\n",
    "\n",
    "    X, y = get_data(dataset_name)\n",
    "    tx = build_model(X, y)\n",
    "    initial_weights = get_initial_weights(tx)\n",
    "    methods_data = {}\n",
    "    for method in METHODS:\n",
    "        print(\"Method\", method.name)\n",
    "        \n",
    "        if method.name in ['SGD', 'AdaGrad']:\n",
    "            N_RUNS = 5\n",
    "        else:\n",
    "            N_RUNS = 1\n",
    "        \n",
    "        gradients_5_runs = list()\n",
    "        for _ in range(N_RUNS):\n",
    "            gradients, _ = test_method(method, initial_weights, tx, y, ITERATIONS)\n",
    "            gradients_5_runs.append(gradients)\n",
    "        gradients_mean = np.mean(gradients_5_runs, axis=0)\n",
    "\n",
    "        stddev = np.std(gradients_5_runs, axis=0)\n",
    "        lower = gradients_mean - stddev\n",
    "        upper = gradients_mean + stddev\n",
    "\n",
    "        methods_data[method.name] = {\n",
    "            \"gradient_mean\": list(gradients_mean),\n",
    "            \"lower\": list(lower),\n",
    "            \"upper\": list(upper),\n",
    "            \"n_runs\": N_RUNS,\n",
    "            \"n_iterations\": ITERATIONS,\n",
    "            \"gradient_calls\": method.q\n",
    "        }\n",
    "        datasets_data[dataset_name] = methods_data\n",
    "\n",
    "    break  # plot single dataset\n",
    "print(\"DONE\")"
   ]
  },
  {
   "cell_type": "code",
   "execution_count": null,
   "metadata": {
    "pycharm": {
     "name": "#%%\n"
    },
    "tags": []
   },
   "outputs": [],
   "source": [
    "with open('run_all_20_12_100k_mushroom.json', 'w') as file:\n",
    "    json.dump(datasets_data, file)"
   ]
  },
  {
   "cell_type": "code",
   "execution_count": null,
   "metadata": {
    "tags": []
   },
   "outputs": [],
   "source": [
    "print('DONE')"
   ]
  },
  {
   "cell_type": "code",
   "execution_count": 72,
   "metadata": {
    "tags": []
   },
   "outputs": [],
   "source": [
    "# with open('run_all_19_12_complete.json', 'r') as file:\n",
    "#     datasets_data1 = json.load(file)"
   ]
  },
  {
   "cell_type": "code",
   "execution_count": 73,
   "metadata": {
    "tags": []
   },
   "outputs": [],
   "source": [
    "# datasets_data['a1a']['SGD'] = datasets_data1['a1a']['SGD']\n",
    "# datasets_data['a1a']['AdaSpider'] = datasets_data1['a1a']['AdaSpider']"
   ]
  },
  {
   "cell_type": "code",
   "execution_count": 74,
   "metadata": {
    "tags": []
   },
   "outputs": [],
   "source": [
    "# with open('run_all_19_12_150k_spider_spiderboost.json', 'r') as file:\n",
    "#     datasets_data2 = json.load(file)\n",
    "    \n",
    "# with open('run_all_19_12_40k.json', 'r') as file:\n",
    "#     datasets_data1 = json.load(file)\n",
    "    "
   ]
  },
  {
   "cell_type": "code",
   "execution_count": 75,
   "metadata": {
    "tags": []
   },
   "outputs": [],
   "source": [
    "# datasets_data1['a1a']['Spider']['gradient_mean'] = datasets_data2['a1a']['Spider']['gradient_mean']\n",
    "# datasets_data1['a1a']['SpiderBoost']['gradient_mean'] = datasets_data2['a1a']['SpiderBoost']['gradient_mean']"
   ]
  },
  {
   "cell_type": "code",
   "execution_count": 11,
   "metadata": {
    "tags": []
   },
   "outputs": [],
   "source": [
    "# gradients = list(range(1,11))\n",
    "\n",
    "# new_list = []\n",
    "\n",
    "# ITERATIONS=100\n",
    "# q = 2\n",
    "\n",
    "# for idx in range(len(gradients)):\n",
    "#     new_list.append(gradients[idx])\n",
    "#     new_list.extend([None for _ in range(10)])"
   ]
  },
  {
   "cell_type": "markdown",
   "metadata": {
    "pycharm": {
     "name": "#%% md\n"
    },
    "tags": []
   },
   "source": [
    "### Plot"
   ]
  },
  {
   "cell_type": "code",
   "execution_count": 83,
   "metadata": {
    "pycharm": {
     "name": "#%%\n"
    },
    "tags": []
   },
   "outputs": [
    {
     "name": "stdout",
     "output_type": "stream",
     "text": [
      "Dataset mushrooms\n",
      "Method SGD\n",
      "Method AdaSpider\n",
      "Method Spider\n",
      "Method SpiderBoost\n",
      "Method SVRG\n",
      "Method AdaGrad\n",
      "Method AdaSVRG\n"
     ]
    },
    {
     "data": {
      "image/png": "[encoded data removed]",
      "text/plain": [
       "<Figure size 1200x1000 with 6 Axes>"
      ]
     },
     "metadata": {},
     "output_type": "display_data"
    }
   ],
   "source": [
    "X_LABEL = \"Stochastic oracle calls\"\n",
    "Y_LABEL = \"||\\u0394f(x)||^2\"\n",
    "\n",
    "fig, ax = plt.subplots(3, 2, figsize=(12, 10), sharey=False, sharex=False)  # 3, 2\n",
    "\n",
    "for i, dataset_name in enumerate([DATASETS[1]]):\n",
    "    print(\"Dataset\", dataset_name)\n",
    "\n",
    "    methods_data = datasets_data[dataset_name]\n",
    "\n",
    "    sbplt = ax[i%3, i%2]\n",
    "\n",
    "    for method_name, method_data in methods_data.items():\n",
    "        print(\"Method\", method_name)\n",
    "        gradients_mean = method_data['gradient_mean']\n",
    "        \n",
    "        \n",
    "        lower = method_data['lower']\n",
    "        upper = method_data['upper']\n",
    "        n_iterations = method_data['n_iterations']\n",
    "        gradient_calls = method_data['gradient_calls']\n",
    "        \n",
    "        if gradient_calls != 0:  \n",
    "            grad_x = [(gradient_calls*n)+1 for n in range(len(gradients_mean))]\n",
    "            sbplt.plot(grad_x, gradients_mean, label=method_name, linewidth=1)\n",
    "        else:\n",
    "            gradients_mean = gradients_mean[0::4]\n",
    "            grad_x = [(4*n)+1 for n in range(len(gradients_mean))]\n",
    "            sbplt.plot(grad_x, gradients_mean, label=method_name, linewidth=1)\n",
    "        \n",
    "        # sbplt.fill_between(grad_y, lower, upper, alpha=0.25,\n",
    "        #                    facecolor='red', edgecolor='red')\n",
    "\n",
    "    plt.grid(True, which='both')\n",
    "    \n",
    "    sbplt.set_xscale('log')\n",
    "    sbplt.set_yscale('log')\n",
    "    # sbplt.set_xticks([1, 10, 100, 1000, 10000, 100000])\n",
    "    sbplt.set_xticks([pow(10, e) for e in range(0, 7, 1)])\n",
    "    sbplt.set_yticks([pow(10, e) for e in range(-1, 1, 1)])\n",
    "    sbplt.set_title(dataset_name)\n",
    "    \n",
    "    sbplt.set_xlabel(X_LABEL)\n",
    "    sbplt.set_ylabel(Y_LABEL)\n",
    "    sbplt.legend(loc='lower left', fontsize='x-small')\n",
    "\n",
    "    break  # plot single dataset\n",
    "    \n",
    "fig.tight_layout(pad=2.0)\n",
    "fig.savefig(f'tests_logistic_regression_all_complete.jpg', dpi=300)\n",
    "\n",
    "# plot_data()"
   ]
  },
  {
   "cell_type": "code",
   "execution_count": null,
   "metadata": {},
   "outputs": [],
   "source": []
  },
  {
   "cell_type": "markdown",
   "metadata": {
    "pycharm": {
     "name": "#%% md\n"
    }
   },
   "source": [
    "## Do parameter sweep"
   ]
  },
  {
   "cell_type": "code",
   "execution_count": 53,
   "metadata": {
    "tags": []
   },
   "outputs": [],
   "source": [
    "powers = np.array([range(-5, 0)], dtype=float)\n",
    "parameters = 10**powers.flatten()"
   ]
  },
  {
   "cell_type": "code",
   "execution_count": 54,
   "metadata": {
    "tags": []
   },
   "outputs": [
    {
     "data": {
      "text/plain": [
       "array([1.e-05, 1.e-04, 1.e-03, 1.e-02, 1.e-01])"
      ]
     },
     "execution_count": 54,
     "metadata": {},
     "output_type": "execute_result"
    }
   ],
   "source": [
    "parameters"
   ]
  },
  {
   "cell_type": "code",
   "execution_count": 55,
   "metadata": {
    "pycharm": {
     "name": "#%%\n"
    },
    "tags": []
   },
   "outputs": [],
   "source": [
    "from itertools import product"
   ]
  },
  {
   "cell_type": "code",
   "execution_count": 56,
   "metadata": {
    "tags": []
   },
   "outputs": [
    {
     "data": {
      "text/plain": [
       "125"
      ]
     },
     "execution_count": 56,
     "metadata": {},
     "output_type": "execute_result"
    }
   ],
   "source": [
    "len(list(product(parameters, parameters, parameters)))"
   ]
  },
  {
   "cell_type": "code",
   "execution_count": null,
   "metadata": {},
   "outputs": [],
   "source": [
    "DF_COLUMNS = ['method_name', 'loss', 'parameters']\n",
    "df = pd.DataFrame(columns=DF_COLUMNS)"
   ]
  },
  {
   "cell_type": "code",
   "execution_count": 80,
   "metadata": {
    "pycharm": {
     "name": "#%%\n"
    },
    "tags": []
   },
   "outputs": [
    {
     "name": "stdout",
     "output_type": "stream",
     "text": [
      "Dataset a1a Iterations:  5000\n",
      "Parameters values:  [5.e-05 5.e-04 5.e-03 5.e-02 5.e-01 5.e+00 5.e+01 5.e+02 5.e+03 5.e+04]\n",
      "Full grad, iter: 0\n",
      "Full grad, iter: 4000\n",
      "done (5e-05, 5e-05) AdaSVRG 3463.809840881291\n",
      "Full grad, iter: 0\n",
      "Full grad, iter: 4000\n",
      "done (5e-05, 0.0005) AdaSVRG 1943674.02753144\n",
      "Full grad, iter: 0\n",
      "Full grad, iter: 4000\n",
      "done (5e-05, 0.005) AdaSVRG -321412.367520976\n",
      "Full grad, iter: 0\n"
     ]
    },
    {
     "name": "stderr",
     "output_type": "stream",
     "text": [
      "/root/ML-Reproducibility-Challange/src/logistic_regression/sigmoid.py:6: RuntimeWarning: overflow encountered in exp\n",
      "  return 1.0 / (1 + np.exp(-t))\n"
     ]
    },
    {
     "name": "stdout",
     "output_type": "stream",
     "text": [
      "Full grad, iter: 4000\n",
      "done (5e-05, 0.05) AdaSVRG -3737040.9637916703\n",
      "Full grad, iter: 0\n"
     ]
    },
    {
     "name": "stderr",
     "output_type": "stream",
     "text": [
      "/root/ML-Reproducibility-Challange/src/logistic_regression/log_reg.py:40: RuntimeWarning: overflow encountered in exp\n",
      "  first_component = np.log(1 + np.exp(tx.dot(w)))\n"
     ]
    },
    {
     "name": "stdout",
     "output_type": "stream",
     "text": [
      "Full grad, iter: 4000\n",
      "done (5e-05, 0.5) AdaSVRG inf\n",
      "Full grad, iter: 0\n",
      "Full grad, iter: 4000\n",
      "done (5e-05, 5.0) AdaSVRG -222166220.44176072\n",
      "Full grad, iter: 0\n",
      "Full grad, iter: 4000\n",
      "done (5e-05, 50.0) AdaSVRG -2222328549.02094\n",
      "Full grad, iter: 0\n",
      "Full grad, iter: 4000\n",
      "done (5e-05, 500.0) AdaSVRG -22198773195.353203\n",
      "Full grad, iter: 0\n",
      "Full grad, iter: 4000\n",
      "done (5e-05, 5000.0) AdaSVRG -222202185679.1651\n",
      "Full grad, iter: 0\n",
      "Full grad, iter: 4000\n",
      "done (5e-05, 50000.0) AdaSVRG -2220362967585.124\n",
      "Full grad, iter: 0\n",
      "Full grad, iter: 4000\n",
      "done (0.0005, 5e-05) AdaSVRG 3463.809833309784\n",
      "Full grad, iter: 0\n",
      "Full grad, iter: 4000\n",
      "done (0.0005, 0.0005) AdaSVRG 1939912.6441696836\n",
      "Full grad, iter: 0\n",
      "Full grad, iter: 4000\n",
      "done (0.0005, 0.005) AdaSVRG -222782.83819701133\n",
      "Full grad, iter: 0\n",
      "Full grad, iter: 4000\n",
      "done (0.0005, 0.05) AdaSVRG -1938349.5712126154\n",
      "Full grad, iter: 0\n",
      "Full grad, iter: 4000\n",
      "done (0.0005, 0.5) AdaSVRG inf\n",
      "Full grad, iter: 0\n",
      "Full grad, iter: 4000\n",
      "done (0.0005, 5.0) AdaSVRG -221962667.89928338\n",
      "Full grad, iter: 0\n",
      "Full grad, iter: 4000\n",
      "done (0.0005, 50.0) AdaSVRG -2221990365.982681\n",
      "Full grad, iter: 0\n",
      "Full grad, iter: 4000\n",
      "done (0.0005, 500.0) AdaSVRG -22209448611.65073\n",
      "Full grad, iter: 0\n",
      "Full grad, iter: 4000\n",
      "done (0.0005, 5000.0) AdaSVRG -222181522901.32214\n",
      "Full grad, iter: 0\n",
      "Full grad, iter: 4000\n",
      "done (0.0005, 50000.0) AdaSVRG -2221115220699.8823\n",
      "Full grad, iter: 0\n",
      "Full grad, iter: 4000\n",
      "done (0.005, 5e-05) AdaSVRG 3463.8098359117685\n",
      "Full grad, iter: 0\n",
      "Full grad, iter: 4000\n",
      "done (0.005, 0.0005) AdaSVRG 1938850.3900329145\n",
      "Full grad, iter: 0\n",
      "Full grad, iter: 4000\n",
      "done (0.005, 0.005) AdaSVRG -357817.8603984504\n",
      "Full grad, iter: 0\n",
      "Full grad, iter: 4000\n",
      "done (0.005, 0.05) AdaSVRG -3098839.183721287\n",
      "Full grad, iter: 0\n",
      "Full grad, iter: 4000\n",
      "done (0.005, 0.5) AdaSVRG inf\n",
      "Full grad, iter: 0\n",
      "Full grad, iter: 4000\n",
      "done (0.005, 5.0) AdaSVRG inf\n",
      "Full grad, iter: 0\n",
      "Full grad, iter: 4000\n",
      "done (0.005, 50.0) AdaSVRG -2220586466.4708047\n",
      "Full grad, iter: 0\n",
      "Full grad, iter: 4000\n",
      "done (0.005, 500.0) AdaSVRG -22207550161.848618\n",
      "Full grad, iter: 0\n",
      "Full grad, iter: 4000\n",
      "done (0.005, 5000.0) AdaSVRG -222078173584.86423\n",
      "Full grad, iter: 0\n",
      "Full grad, iter: 4000\n",
      "done (0.005, 50000.0) AdaSVRG -2221137499346.829\n",
      "Full grad, iter: 0\n",
      "Full grad, iter: 4000\n",
      "done (0.05, 5e-05) AdaSVRG 3463.8097991904533\n",
      "Full grad, iter: 0\n",
      "Full grad, iter: 4000\n",
      "done (0.05, 0.0005) AdaSVRG 1937478.5501998458\n",
      "Full grad, iter: 0\n",
      "Full grad, iter: 4000\n",
      "done (0.05, 0.005) AdaSVRG -349967.8671509932\n",
      "Full grad, iter: 0\n",
      "Full grad, iter: 4000\n",
      "done (0.05, 0.05) AdaSVRG -3062301.9653054946\n",
      "Full grad, iter: 0\n",
      "Full grad, iter: 4000\n",
      "done (0.05, 0.5) AdaSVRG inf\n",
      "Full grad, iter: 0\n",
      "Full grad, iter: 4000\n",
      "done (0.05, 5.0) AdaSVRG -222098524.00725424\n",
      "Full grad, iter: 0\n",
      "Full grad, iter: 4000\n",
      "done (0.05, 50.0) AdaSVRG -2221158424.24879\n",
      "Full grad, iter: 0\n",
      "Full grad, iter: 4000\n",
      "done (0.05, 500.0) AdaSVRG -22206650082.839497\n",
      "Full grad, iter: 0\n",
      "Full grad, iter: 4000\n",
      "done (0.05, 5000.0) AdaSVRG -222129961477.42218\n",
      "Full grad, iter: 0\n",
      "Full grad, iter: 4000\n",
      "done (0.05, 50000.0) AdaSVRG -2221465306199.12\n",
      "Full grad, iter: 0\n",
      "Full grad, iter: 4000\n",
      "done (0.5, 5e-05) AdaSVRG 3463.809505871739\n",
      "Full grad, iter: 0\n",
      "Full grad, iter: 4000\n",
      "done (0.5, 0.0005) AdaSVRG 1925237.7728735176\n",
      "Full grad, iter: 0\n",
      "Full grad, iter: 4000\n",
      "done (0.5, 0.005) AdaSVRG -31946.088037449572\n",
      "Full grad, iter: 0\n",
      "Full grad, iter: 4000\n",
      "done (0.5, 0.05) AdaSVRG -3533350.758636339\n",
      "Full grad, iter: 0\n",
      "Full grad, iter: 4000\n",
      "done (0.5, 0.5) AdaSVRG inf\n",
      "Full grad, iter: 0\n",
      "Full grad, iter: 4000\n",
      "done (0.5, 5.0) AdaSVRG -223154973.44243324\n",
      "Full grad, iter: 0\n",
      "Full grad, iter: 4000\n",
      "done (0.5, 50.0) AdaSVRG -2221587632.14622\n",
      "Full grad, iter: 0\n",
      "Full grad, iter: 4000\n",
      "done (0.5, 500.0) AdaSVRG -22209669232.664764\n",
      "Full grad, iter: 0\n",
      "Full grad, iter: 4000\n",
      "done (0.5, 5000.0) AdaSVRG -222143056204.0099\n",
      "Full grad, iter: 0\n",
      "Full grad, iter: 4000\n",
      "done (0.5, 50000.0) AdaSVRG -2221088554528.1807\n",
      "Full grad, iter: 0\n",
      "Full grad, iter: 4000\n",
      "done (5.0, 5e-05) AdaSVRG 3463.8065980355896\n",
      "Full grad, iter: 0\n",
      "Full grad, iter: 4000\n",
      "done (5.0, 0.0005) AdaSVRG 1922041.3771688403\n",
      "Full grad, iter: 0\n",
      "Full grad, iter: 4000\n",
      "done (5.0, 0.005) AdaSVRG -279557.4464564726\n",
      "Full grad, iter: 0\n",
      "Full grad, iter: 4000\n",
      "done (5.0, 0.05) AdaSVRG -3741686.6621621386\n",
      "Full grad, iter: 0\n",
      "Full grad, iter: 4000\n",
      "done (5.0, 0.5) AdaSVRG inf\n",
      "Full grad, iter: 0\n",
      "Full grad, iter: 4000\n",
      "done (5.0, 5.0) AdaSVRG -221975027.32010037\n",
      "Full grad, iter: 0\n",
      "Full grad, iter: 4000\n",
      "done (5.0, 50.0) AdaSVRG -2221899059.681224\n",
      "Full grad, iter: 0\n",
      "Full grad, iter: 4000\n",
      "done (5.0, 500.0) AdaSVRG -22215819153.316517\n",
      "Full grad, iter: 0\n",
      "Full grad, iter: 4000\n",
      "done (5.0, 5000.0) AdaSVRG -222113098222.0351\n",
      "Full grad, iter: 0\n",
      "Full grad, iter: 4000\n",
      "done (5.0, 50000.0) AdaSVRG -2222213631328.1465\n",
      "Full grad, iter: 0\n",
      "Full grad, iter: 4000\n",
      "done (50.0, 5e-05) AdaSVRG 3463.778761905912\n",
      "Full grad, iter: 0\n",
      "Full grad, iter: 4000\n",
      "done (50.0, 0.0005) AdaSVRG 1936294.201909585\n",
      "Full grad, iter: 0\n",
      "Full grad, iter: 4000\n",
      "done (50.0, 0.005) AdaSVRG -137124.59148802626\n",
      "Full grad, iter: 0\n",
      "Full grad, iter: 4000\n",
      "done (50.0, 0.05) AdaSVRG -2409626.293485823\n",
      "Full grad, iter: 0\n",
      "Full grad, iter: 4000\n",
      "done (50.0, 0.5) AdaSVRG inf\n",
      "Full grad, iter: 0\n",
      "Full grad, iter: 4000\n",
      "done (50.0, 5.0) AdaSVRG -223198623.4443858\n",
      "Full grad, iter: 0\n",
      "Full grad, iter: 4000\n",
      "done (50.0, 50.0) AdaSVRG -2221388788.643681\n",
      "Full grad, iter: 0\n",
      "Full grad, iter: 4000\n",
      "done (50.0, 500.0) AdaSVRG -22210858132.598007\n",
      "Full grad, iter: 0\n",
      "Full grad, iter: 4000\n",
      "done (50.0, 5000.0) AdaSVRG -222155797821.17743\n",
      "Full grad, iter: 0\n",
      "Full grad, iter: 4000\n",
      "done (50.0, 50000.0) AdaSVRG -2222331430060.375\n",
      "Full grad, iter: 0\n",
      "Full grad, iter: 4000\n",
      "done (500.0, 5e-05) AdaSVRG 3463.591242675833\n",
      "Full grad, iter: 0\n",
      "Full grad, iter: 4000\n",
      "done (500.0, 0.0005) AdaSVRG 1934770.6872680339\n",
      "Full grad, iter: 0\n",
      "Full grad, iter: 4000\n",
      "done (500.0, 0.005) AdaSVRG -276331.0355895577\n",
      "Full grad, iter: 0\n",
      "Full grad, iter: 4000\n",
      "done (500.0, 0.05) AdaSVRG -1347466.1381604036\n",
      "Full grad, iter: 0\n",
      "Full grad, iter: 4000\n",
      "done (500.0, 0.5) AdaSVRG inf\n",
      "Full grad, iter: 0\n",
      "Full grad, iter: 4000\n",
      "done (500.0, 5.0) AdaSVRG -223128014.1837498\n",
      "Full grad, iter: 0\n",
      "Full grad, iter: 4000\n",
      "done (500.0, 50.0) AdaSVRG -2221158337.8464603\n",
      "Full grad, iter: 0\n",
      "Full grad, iter: 4000\n",
      "done (500.0, 500.0) AdaSVRG -22211840448.464027\n",
      "Full grad, iter: 0\n",
      "Full grad, iter: 4000\n",
      "done (500.0, 5000.0) AdaSVRG -222096346832.60812\n",
      "Full grad, iter: 0\n",
      "Full grad, iter: 4000\n",
      "done (500.0, 50000.0) AdaSVRG -2222151825685.957\n",
      "Full grad, iter: 0\n",
      "Full grad, iter: 4000\n",
      "done (5000.0, 5e-05) AdaSVRG 3463.3201164019324\n",
      "Full grad, iter: 0\n",
      "Full grad, iter: 4000\n",
      "done (5000.0, 0.0005) AdaSVRG 1960355.3340913542\n",
      "Full grad, iter: 0\n",
      "Full grad, iter: 4000\n",
      "done (5000.0, 0.005) AdaSVRG -92943.74054487313\n",
      "Full grad, iter: 0\n",
      "Full grad, iter: 4000\n",
      "done (5000.0, 0.05) AdaSVRG -3571646.488624856\n",
      "Full grad, iter: 0\n",
      "Full grad, iter: 4000\n",
      "done (5000.0, 0.5) AdaSVRG inf\n",
      "Full grad, iter: 0\n",
      "Full grad, iter: 4000\n",
      "done (5000.0, 5.0) AdaSVRG -222000984.99592063\n",
      "Full grad, iter: 0\n",
      "Full grad, iter: 4000\n",
      "done (5000.0, 50.0) AdaSVRG -2221288405.853358\n",
      "Full grad, iter: 0\n",
      "Full grad, iter: 4000\n",
      "done (5000.0, 500.0) AdaSVRG -22220699552.134933\n",
      "Full grad, iter: 0\n",
      "Full grad, iter: 4000\n",
      "done (5000.0, 5000.0) AdaSVRG -222100507094.68225\n",
      "Full grad, iter: 0\n",
      "Full grad, iter: 4000\n",
      "done (5000.0, 50000.0) AdaSVRG -2220793049893.072\n",
      "Full grad, iter: 0\n",
      "Full grad, iter: 4000\n",
      "done (50000.0, 5e-05) AdaSVRG 3463.3003026607075\n",
      "Full grad, iter: 0\n",
      "Full grad, iter: 4000\n",
      "done (50000.0, 0.0005) AdaSVRG 1938173.0103031807\n",
      "Full grad, iter: 0\n",
      "Full grad, iter: 4000\n",
      "done (50000.0, 0.005) AdaSVRG -323474.6694305966\n",
      "Full grad, iter: 0\n",
      "Full grad, iter: 4000\n",
      "done (50000.0, 0.05) AdaSVRG inf\n",
      "Full grad, iter: 0\n",
      "Full grad, iter: 4000\n",
      "done (50000.0, 0.5) AdaSVRG inf\n",
      "Full grad, iter: 0\n",
      "Full grad, iter: 4000\n",
      "done (50000.0, 5.0) AdaSVRG -221991721.06472525\n",
      "Full grad, iter: 0\n",
      "Full grad, iter: 4000\n",
      "done (50000.0, 50.0) AdaSVRG -2221614355.8713484\n",
      "Full grad, iter: 0\n",
      "Full grad, iter: 4000\n",
      "done (50000.0, 500.0) AdaSVRG -22210775395.240753\n",
      "Full grad, iter: 0\n",
      "Full grad, iter: 4000\n",
      "done (50000.0, 5000.0) AdaSVRG -222104043909.04092\n",
      "Full grad, iter: 0\n",
      "Full grad, iter: 4000\n",
      "done (50000.0, 50000.0) AdaSVRG -2222135528478.3384\n"
     ]
    }
   ],
   "source": [
    "# N_ORACLE_CALLS = 150\n",
    "\n",
    "METHODS = [\n",
    "    # SGD(lambda_=0.0001, q=N_ORACLE_CALLS),\n",
    "    # AdaSpider(q=N_ORACLE_CALLS),\n",
    "    Spider(n_0 = 0.0005, lambda_=5e-05, epsilon=5e-05, q=3000),\n",
    "    SpiderBoost(lambda_=1000, q=3000),\n",
    "    # SVRG(lambda_=0.0001, q=5000),\n",
    "    # AdaGrad(lambda_=0.0001, epsilon= 0.0001, q=N_ORACLE_CALLS),\n",
    "    # AdaSVRG(lambda_=0.01, epsilon = 0.0001, q=4000)\n",
    "]\n",
    "\n",
    "dataset_name = 'a1a'\n",
    "ITERATIONS = 5000\n",
    "print(\"Dataset\", dataset_name, \"Iterations: \", ITERATIONS)\n",
    "\n",
    "powers = np.array([range(-5, 5)], dtype=float)\n",
    "parameters = 5*10**powers.flatten()\n",
    "\n",
    "X, y = get_data(dataset_name)\n",
    "tx = build_model(X, y)\n",
    "initial_weights = get_initial_weights(tx)\n",
    "\n",
    "print(\"Parameters values: \", parameters)\n",
    "\n",
    "for method in METHODS[3:]:\n",
    "    if method.n_params_to_tune == 2:\n",
    "        for param in list(product(parameters, parameters)):\n",
    "            method.set_params(param[0], param[1])\n",
    "            _, losses = test_method(method, initial_weights, tx, y, ITERATIONS)\n",
    "            df = df.append(dict(zip(DF_COLUMNS, [method, np.sum(losses), str(param)])), ignore_index=True)\n",
    "            print('done', param, method.name, np.sum(losses))\n",
    "            \n",
    "    elif method.n_params_to_tune == 3:\n",
    "        for param in list(product(parameters, parameters))[10:]:\n",
    "            method.set_params(param[0], 5e-05, param[1])\n",
    "            _, losses = test_method(method, initial_weights, tx, y, ITERATIONS)\n",
    "            df = df.append(dict(zip(DF_COLUMNS, [method.name, np.sum(losses), str(param)])), ignore_index=True)\n",
    "            print('done', param, method, np.sum(losses))\n",
    "    \n",
    "    elif method.n_params_to_tune == 1:\n",
    "        for param in parameters:\n",
    "            method.set_params(param)\n",
    "            _, losses = test_method(method, initial_weights, tx, y, ITERATIONS)\n",
    "            df = df.append(dict(zip(DF_COLUMNS, [method.name, np.sum(losses), str(param)])), ignore_index=True)\n",
    "            print('done', param, method, np.sum(losses))\n",
    "            \n",
    "    else:\n",
    "        param = None\n",
    "        _, losses = test_method(method, initial_weights, tx, y, ITERATIONS)\n",
    "        df = df.append(dict(zip(DF_COLUMNS, [method.name, np.sum(losses), str(param)])), ignore_index=True)\n",
    "        print('done', param, method, np.sum(losses))\n",
    "    "
   ]
  },
  {
   "cell_type": "code",
   "execution_count": 83,
   "metadata": {
    "tags": []
   },
   "outputs": [],
   "source": [
    "df.to_csv(\"param_run_19_12.csv\", index=False)"
   ]
  },
  {
   "cell_type": "code",
   "execution_count": 25,
   "metadata": {
    "tags": []
   },
   "outputs": [],
   "source": [
    "df = pd.read_csv(\"param_run_19_12.csv\")"
   ]
  },
  {
   "cell_type": "code",
   "execution_count": 28,
   "metadata": {
    "tags": []
   },
   "outputs": [
    {
     "data": {
      "text/html": [
       "<div>\n",
       "<style scoped>\n",
       "    .dataframe tbody tr th:only-of-type {\n",
       "        vertical-align: middle;\n",
       "    }\n",
       "\n",
       "    .dataframe tbody tr th {\n",
       "        vertical-align: top;\n",
       "    }\n",
       "\n",
       "    .dataframe thead th {\n",
       "        text-align: right;\n",
       "    }\n",
       "</style>\n",
       "<table border=\"1\" class=\"dataframe\">\n",
       "  <thead>\n",
       "    <tr style=\"text-align: right;\">\n",
       "      <th></th>\n",
       "      <th>method_name</th>\n",
       "      <th>loss</th>\n",
       "      <th>parameters</th>\n",
       "    </tr>\n",
       "  </thead>\n",
       "  <tbody>\n",
       "    <tr>\n",
       "      <th>0</th>\n",
       "      <td>Spider</td>\n",
       "      <td>-686.949064</td>\n",
       "      <td>(5e-05, 5e-05, 5e-05)</td>\n",
       "    </tr>\n",
       "    <tr>\n",
       "      <th>1</th>\n",
       "      <td>Spider</td>\n",
       "      <td>-687.024908</td>\n",
       "      <td>(5e-05, 5e-05, 0.0005)</td>\n",
       "    </tr>\n",
       "    <tr>\n",
       "      <th>2</th>\n",
       "      <td>Spider</td>\n",
       "      <td>-687.000072</td>\n",
       "      <td>(5e-05, 5e-05, 0.005)</td>\n",
       "    </tr>\n",
       "    <tr>\n",
       "      <th>3</th>\n",
       "      <td>Spider</td>\n",
       "      <td>-686.925763</td>\n",
       "      <td>(5e-05, 5e-05, 0.05)</td>\n",
       "    </tr>\n",
       "    <tr>\n",
       "      <th>4</th>\n",
       "      <td>Spider</td>\n",
       "      <td>-685.740359</td>\n",
       "      <td>(5e-05, 5e-05, 0.5)</td>\n",
       "    </tr>\n",
       "    <tr>\n",
       "      <th>5</th>\n",
       "      <td>Spider</td>\n",
       "      <td>-675.442067</td>\n",
       "      <td>(5e-05, 5e-05, 5.0)</td>\n",
       "    </tr>\n",
       "    <tr>\n",
       "      <th>6</th>\n",
       "      <td>Spider</td>\n",
       "      <td>-573.581975</td>\n",
       "      <td>(5e-05, 5e-05, 50.0)</td>\n",
       "    </tr>\n",
       "    <tr>\n",
       "      <th>7</th>\n",
       "      <td>Spider</td>\n",
       "      <td>226.716132</td>\n",
       "      <td>(5e-05, 5e-05, 500.0)</td>\n",
       "    </tr>\n",
       "    <tr>\n",
       "      <th>8</th>\n",
       "      <td>Spider</td>\n",
       "      <td>2383.402366</td>\n",
       "      <td>(5e-05, 5e-05, 5000.0)</td>\n",
       "    </tr>\n",
       "    <tr>\n",
       "      <th>9</th>\n",
       "      <td>Spider</td>\n",
       "      <td>3322.717889</td>\n",
       "      <td>(5e-05, 5e-05, 50000.0)</td>\n",
       "    </tr>\n",
       "    <tr>\n",
       "      <th>10</th>\n",
       "      <td>Spider</td>\n",
       "      <td>-27046.512022</td>\n",
       "      <td>(5e-05, 0.0005, 5e-05)</td>\n",
       "    </tr>\n",
       "    <tr>\n",
       "      <th>11</th>\n",
       "      <td>Spider</td>\n",
       "      <td>-27059.766044</td>\n",
       "      <td>(5e-05, 0.0005, 0.0005)</td>\n",
       "    </tr>\n",
       "    <tr>\n",
       "      <th>12</th>\n",
       "      <td>Spider</td>\n",
       "      <td>-27053.547385</td>\n",
       "      <td>(5e-05, 0.0005, 0.005)</td>\n",
       "    </tr>\n",
       "    <tr>\n",
       "      <th>13</th>\n",
       "      <td>Spider</td>\n",
       "      <td>-27052.660488</td>\n",
       "      <td>(5e-05, 0.0005, 0.05)</td>\n",
       "    </tr>\n",
       "    <tr>\n",
       "      <th>14</th>\n",
       "      <td>Spider</td>\n",
       "      <td>-27039.150246</td>\n",
       "      <td>(5e-05, 0.0005, 0.5)</td>\n",
       "    </tr>\n",
       "    <tr>\n",
       "      <th>15</th>\n",
       "      <td>Spider</td>\n",
       "      <td>-26958.972287</td>\n",
       "      <td>(5e-05, 0.0005, 5.0)</td>\n",
       "    </tr>\n",
       "    <tr>\n",
       "      <th>16</th>\n",
       "      <td>Spider</td>\n",
       "      <td>-26197.347917</td>\n",
       "      <td>(5e-05, 0.0005, 50.0)</td>\n",
       "    </tr>\n",
       "    <tr>\n",
       "      <th>17</th>\n",
       "      <td>Spider</td>\n",
       "      <td>-20414.395021</td>\n",
       "      <td>(5e-05, 0.0005, 500.0)</td>\n",
       "    </tr>\n",
       "    <tr>\n",
       "      <th>18</th>\n",
       "      <td>Spider</td>\n",
       "      <td>-5472.925027</td>\n",
       "      <td>(5e-05, 0.0005, 5000.0)</td>\n",
       "    </tr>\n",
       "    <tr>\n",
       "      <th>19</th>\n",
       "      <td>Spider</td>\n",
       "      <td>2089.644896</td>\n",
       "      <td>(5e-05, 0.0005, 50000.0)</td>\n",
       "    </tr>\n",
       "    <tr>\n",
       "      <th>20</th>\n",
       "      <td>Spider</td>\n",
       "      <td>-124731.485629</td>\n",
       "      <td>(5e-05, 0.005, 5e-05)</td>\n",
       "    </tr>\n",
       "    <tr>\n",
       "      <th>21</th>\n",
       "      <td>Spider</td>\n",
       "      <td>-130726.496587</td>\n",
       "      <td>(5e-05, 0.005, 0.0005)</td>\n",
       "    </tr>\n",
       "    <tr>\n",
       "      <th>22</th>\n",
       "      <td>Spider</td>\n",
       "      <td>-125539.151096</td>\n",
       "      <td>(5e-05, 0.005, 0.005)</td>\n",
       "    </tr>\n",
       "    <tr>\n",
       "      <th>23</th>\n",
       "      <td>Spider</td>\n",
       "      <td>-124076.065250</td>\n",
       "      <td>(5e-05, 0.005, 0.05)</td>\n",
       "    </tr>\n",
       "    <tr>\n",
       "      <th>24</th>\n",
       "      <td>Spider</td>\n",
       "      <td>-130905.044730</td>\n",
       "      <td>(5e-05, 0.005, 0.5)</td>\n",
       "    </tr>\n",
       "    <tr>\n",
       "      <th>25</th>\n",
       "      <td>Spider</td>\n",
       "      <td>-115338.451269</td>\n",
       "      <td>(5e-05, 0.005, 5.0)</td>\n",
       "    </tr>\n",
       "    <tr>\n",
       "      <th>26</th>\n",
       "      <td>Spider</td>\n",
       "      <td>-114421.290209</td>\n",
       "      <td>(5e-05, 0.005, 50.0)</td>\n",
       "    </tr>\n",
       "    <tr>\n",
       "      <th>27</th>\n",
       "      <td>Spider</td>\n",
       "      <td>-103517.690022</td>\n",
       "      <td>(5e-05, 0.005, 500.0)</td>\n",
       "    </tr>\n",
       "    <tr>\n",
       "      <th>28</th>\n",
       "      <td>Spider</td>\n",
       "      <td>-53481.716162</td>\n",
       "      <td>(5e-05, 0.005, 5000.0)</td>\n",
       "    </tr>\n",
       "    <tr>\n",
       "      <th>29</th>\n",
       "      <td>Spider</td>\n",
       "      <td>-7532.320529</td>\n",
       "      <td>(5e-05, 0.005, 50000.0)</td>\n",
       "    </tr>\n",
       "    <tr>\n",
       "      <th>30</th>\n",
       "      <td>Spider</td>\n",
       "      <td>-284139.073828</td>\n",
       "      <td>(5e-05, 0.05, 5e-05)</td>\n",
       "    </tr>\n",
       "    <tr>\n",
       "      <th>31</th>\n",
       "      <td>Spider</td>\n",
       "      <td>-404106.962486</td>\n",
       "      <td>(5e-05, 0.05, 0.0005)</td>\n",
       "    </tr>\n",
       "    <tr>\n",
       "      <th>32</th>\n",
       "      <td>Spider</td>\n",
       "      <td>-505676.409078</td>\n",
       "      <td>(5e-05, 0.05, 0.005)</td>\n",
       "    </tr>\n",
       "    <tr>\n",
       "      <th>33</th>\n",
       "      <td>Spider</td>\n",
       "      <td>-222655.697665</td>\n",
       "      <td>(5e-05, 0.05, 0.05)</td>\n",
       "    </tr>\n",
       "    <tr>\n",
       "      <th>34</th>\n",
       "      <td>Spider</td>\n",
       "      <td>-270622.236432</td>\n",
       "      <td>(5e-05, 0.05, 0.5)</td>\n",
       "    </tr>\n",
       "    <tr>\n",
       "      <th>35</th>\n",
       "      <td>Spider</td>\n",
       "      <td>-489536.064970</td>\n",
       "      <td>(5e-05, 0.05, 5.0)</td>\n",
       "    </tr>\n",
       "    <tr>\n",
       "      <th>36</th>\n",
       "      <td>Spider</td>\n",
       "      <td>-266042.117267</td>\n",
       "      <td>(5e-05, 0.05, 50.0)</td>\n",
       "    </tr>\n",
       "    <tr>\n",
       "      <th>37</th>\n",
       "      <td>Spider</td>\n",
       "      <td>-399591.274062</td>\n",
       "      <td>(5e-05, 0.05, 500.0)</td>\n",
       "    </tr>\n",
       "    <tr>\n",
       "      <th>38</th>\n",
       "      <td>Spider</td>\n",
       "      <td>3012.629320</td>\n",
       "      <td>(0.0005, 5e-05)</td>\n",
       "    </tr>\n",
       "    <tr>\n",
       "      <th>39</th>\n",
       "      <td>Spider</td>\n",
       "      <td>3012.629387</td>\n",
       "      <td>(0.0005, 0.0005)</td>\n",
       "    </tr>\n",
       "    <tr>\n",
       "      <th>40</th>\n",
       "      <td>Spider</td>\n",
       "      <td>3012.630622</td>\n",
       "      <td>(0.0005, 0.005)</td>\n",
       "    </tr>\n",
       "    <tr>\n",
       "      <th>41</th>\n",
       "      <td>Spider</td>\n",
       "      <td>3012.643181</td>\n",
       "      <td>(0.0005, 0.05)</td>\n",
       "    </tr>\n",
       "    <tr>\n",
       "      <th>42</th>\n",
       "      <td>Spider</td>\n",
       "      <td>3012.768333</td>\n",
       "      <td>(0.0005, 0.5)</td>\n",
       "    </tr>\n",
       "    <tr>\n",
       "      <th>43</th>\n",
       "      <td>Spider</td>\n",
       "      <td>3014.015498</td>\n",
       "      <td>(0.0005, 5.0)</td>\n",
       "    </tr>\n",
       "    <tr>\n",
       "      <th>44</th>\n",
       "      <td>Spider</td>\n",
       "      <td>3026.119339</td>\n",
       "      <td>(0.0005, 50.0)</td>\n",
       "    </tr>\n",
       "    <tr>\n",
       "      <th>45</th>\n",
       "      <td>Spider</td>\n",
       "      <td>3118.945494</td>\n",
       "      <td>(0.0005, 500.0)</td>\n",
       "    </tr>\n",
       "    <tr>\n",
       "      <th>46</th>\n",
       "      <td>Spider</td>\n",
       "      <td>3353.632188</td>\n",
       "      <td>(0.0005, 5000.0)</td>\n",
       "    </tr>\n",
       "    <tr>\n",
       "      <th>47</th>\n",
       "      <td>Spider</td>\n",
       "      <td>3450.568400</td>\n",
       "      <td>(0.0005, 50000.0)</td>\n",
       "    </tr>\n",
       "    <tr>\n",
       "      <th>48</th>\n",
       "      <td>Spider</td>\n",
       "      <td>3418.853712</td>\n",
       "      <td>(0.005, 5e-05)</td>\n",
       "    </tr>\n",
       "    <tr>\n",
       "      <th>49</th>\n",
       "      <td>Spider</td>\n",
       "      <td>3418.853725</td>\n",
       "      <td>(0.005, 0.0005)</td>\n",
       "    </tr>\n",
       "    <tr>\n",
       "      <th>50</th>\n",
       "      <td>Spider</td>\n",
       "      <td>3418.853856</td>\n",
       "      <td>(0.005, 0.005)</td>\n",
       "    </tr>\n",
       "    <tr>\n",
       "      <th>51</th>\n",
       "      <td>Spider</td>\n",
       "      <td>3418.855137</td>\n",
       "      <td>(0.005, 0.05)</td>\n",
       "    </tr>\n",
       "    <tr>\n",
       "      <th>52</th>\n",
       "      <td>Spider</td>\n",
       "      <td>3418.867961</td>\n",
       "      <td>(0.005, 0.5)</td>\n",
       "    </tr>\n",
       "    <tr>\n",
       "      <th>53</th>\n",
       "      <td>Spider</td>\n",
       "      <td>3418.995836</td>\n",
       "      <td>(0.005, 5.0)</td>\n",
       "    </tr>\n",
       "    <tr>\n",
       "      <th>54</th>\n",
       "      <td>Spider</td>\n",
       "      <td>3420.236431</td>\n",
       "      <td>(0.005, 50.0)</td>\n",
       "    </tr>\n",
       "    <tr>\n",
       "      <th>55</th>\n",
       "      <td>Spider</td>\n",
       "      <td>3429.735161</td>\n",
       "      <td>(0.005, 500.0)</td>\n",
       "    </tr>\n",
       "  </tbody>\n",
       "</table>\n",
       "</div>"
      ],
      "text/plain": [
       "   method_name           loss                parameters\n",
       "0       Spider    -686.949064     (5e-05, 5e-05, 5e-05)\n",
       "1       Spider    -687.024908    (5e-05, 5e-05, 0.0005)\n",
       "2       Spider    -687.000072     (5e-05, 5e-05, 0.005)\n",
       "3       Spider    -686.925763      (5e-05, 5e-05, 0.05)\n",
       "4       Spider    -685.740359       (5e-05, 5e-05, 0.5)\n",
       "5       Spider    -675.442067       (5e-05, 5e-05, 5.0)\n",
       "6       Spider    -573.581975      (5e-05, 5e-05, 50.0)\n",
       "7       Spider     226.716132     (5e-05, 5e-05, 500.0)\n",
       "8       Spider    2383.402366    (5e-05, 5e-05, 5000.0)\n",
       "9       Spider    3322.717889   (5e-05, 5e-05, 50000.0)\n",
       "10      Spider  -27046.512022    (5e-05, 0.0005, 5e-05)\n",
       "11      Spider  -27059.766044   (5e-05, 0.0005, 0.0005)\n",
       "12      Spider  -27053.547385    (5e-05, 0.0005, 0.005)\n",
       "13      Spider  -27052.660488     (5e-05, 0.0005, 0.05)\n",
       "14      Spider  -27039.150246      (5e-05, 0.0005, 0.5)\n",
       "15      Spider  -26958.972287      (5e-05, 0.0005, 5.0)\n",
       "16      Spider  -26197.347917     (5e-05, 0.0005, 50.0)\n",
       "17      Spider  -20414.395021    (5e-05, 0.0005, 500.0)\n",
       "18      Spider   -5472.925027   (5e-05, 0.0005, 5000.0)\n",
       "19      Spider    2089.644896  (5e-05, 0.0005, 50000.0)\n",
       "20      Spider -124731.485629     (5e-05, 0.005, 5e-05)\n",
       "21      Spider -130726.496587    (5e-05, 0.005, 0.0005)\n",
       "22      Spider -125539.151096     (5e-05, 0.005, 0.005)\n",
       "23      Spider -124076.065250      (5e-05, 0.005, 0.05)\n",
       "24      Spider -130905.044730       (5e-05, 0.005, 0.5)\n",
       "25      Spider -115338.451269       (5e-05, 0.005, 5.0)\n",
       "26      Spider -114421.290209      (5e-05, 0.005, 50.0)\n",
       "27      Spider -103517.690022     (5e-05, 0.005, 500.0)\n",
       "28      Spider  -53481.716162    (5e-05, 0.005, 5000.0)\n",
       "29      Spider   -7532.320529   (5e-05, 0.005, 50000.0)\n",
       "30      Spider -284139.073828      (5e-05, 0.05, 5e-05)\n",
       "31      Spider -404106.962486     (5e-05, 0.05, 0.0005)\n",
       "32      Spider -505676.409078      (5e-05, 0.05, 0.005)\n",
       "33      Spider -222655.697665       (5e-05, 0.05, 0.05)\n",
       "34      Spider -270622.236432        (5e-05, 0.05, 0.5)\n",
       "35      Spider -489536.064970        (5e-05, 0.05, 5.0)\n",
       "36      Spider -266042.117267       (5e-05, 0.05, 50.0)\n",
       "37      Spider -399591.274062      (5e-05, 0.05, 500.0)\n",
       "38      Spider    3012.629320           (0.0005, 5e-05)\n",
       "39      Spider    3012.629387          (0.0005, 0.0005)\n",
       "40      Spider    3012.630622           (0.0005, 0.005)\n",
       "41      Spider    3012.643181            (0.0005, 0.05)\n",
       "42      Spider    3012.768333             (0.0005, 0.5)\n",
       "43      Spider    3014.015498             (0.0005, 5.0)\n",
       "44      Spider    3026.119339            (0.0005, 50.0)\n",
       "45      Spider    3118.945494           (0.0005, 500.0)\n",
       "46      Spider    3353.632188          (0.0005, 5000.0)\n",
       "47      Spider    3450.568400         (0.0005, 50000.0)\n",
       "48      Spider    3418.853712            (0.005, 5e-05)\n",
       "49      Spider    3418.853725           (0.005, 0.0005)\n",
       "50      Spider    3418.853856            (0.005, 0.005)\n",
       "51      Spider    3418.855137             (0.005, 0.05)\n",
       "52      Spider    3418.867961              (0.005, 0.5)\n",
       "53      Spider    3418.995836              (0.005, 5.0)\n",
       "54      Spider    3420.236431             (0.005, 50.0)\n",
       "55      Spider    3429.735161            (0.005, 500.0)"
      ]
     },
     "execution_count": 28,
     "metadata": {},
     "output_type": "execute_result"
    }
   ],
   "source": [
    "df[df.method_name == \"Spider\"]"
   ]
  },
  {
   "cell_type": "code",
   "execution_count": 95,
   "metadata": {
    "pycharm": {
     "name": "#%%\n"
    },
    "tags": []
   },
   "outputs": [],
   "source": [
    "df.to_csv(\"parameters_sweep_spider.csv\", index=False)"
   ]
  },
  {
   "cell_type": "code",
   "execution_count": null,
   "metadata": {},
   "outputs": [
    {
     "data": {
      "text/html": [
       "<div>\n",
       "<style scoped>\n",
       "    .dataframe tbody tr th:only-of-type {\n",
       "        vertical-align: middle;\n",
       "    }\n",
       "\n",
       "    .dataframe tbody tr th {\n",
       "        vertical-align: top;\n",
       "    }\n",
       "\n",
       "    .dataframe thead th {\n",
       "        text-align: right;\n",
       "    }\n",
       "</style>\n",
       "<table border=\"1\" class=\"dataframe\">\n",
       "  <thead>\n",
       "    <tr style=\"text-align: right;\">\n",
       "      <th></th>\n",
       "      <th>method_name</th>\n",
       "      <th>loss</th>\n",
       "      <th>parameters</th>\n",
       "    </tr>\n",
       "  </thead>\n",
       "  <tbody>\n",
       "    <tr>\n",
       "      <th>0</th>\n",
       "      <td>Spider</td>\n",
       "      <td>-6.869491e+02</td>\n",
       "      <td>(5e-05, 5e-05, 5e-05)</td>\n",
       "    </tr>\n",
       "    <tr>\n",
       "      <th>1</th>\n",
       "      <td>Spider</td>\n",
       "      <td>-6.870249e+02</td>\n",
       "      <td>(5e-05, 5e-05, 0.0005)</td>\n",
       "    </tr>\n",
       "    <tr>\n",
       "      <th>2</th>\n",
       "      <td>Spider</td>\n",
       "      <td>-6.870001e+02</td>\n",
       "      <td>(5e-05, 5e-05, 0.005)</td>\n",
       "    </tr>\n",
       "    <tr>\n",
       "      <th>3</th>\n",
       "      <td>Spider</td>\n",
       "      <td>-6.869258e+02</td>\n",
       "      <td>(5e-05, 5e-05, 0.05)</td>\n",
       "    </tr>\n",
       "    <tr>\n",
       "      <th>4</th>\n",
       "      <td>Spider</td>\n",
       "      <td>-6.857404e+02</td>\n",
       "      <td>(5e-05, 5e-05, 0.5)</td>\n",
       "    </tr>\n",
       "    <tr>\n",
       "      <th>...</th>\n",
       "      <td>...</td>\n",
       "      <td>...</td>\n",
       "      <td>...</td>\n",
       "    </tr>\n",
       "    <tr>\n",
       "      <th>235</th>\n",
       "      <td>&lt;src.optimizers.AdaSVRG.AdaSVRG object at 0x7f...</td>\n",
       "      <td>-2.219917e+08</td>\n",
       "      <td>(50000.0, 5.0)</td>\n",
       "    </tr>\n",
       "    <tr>\n",
       "      <th>236</th>\n",
       "      <td>&lt;src.optimizers.AdaSVRG.AdaSVRG object at 0x7f...</td>\n",
       "      <td>-2.221614e+09</td>\n",
       "      <td>(50000.0, 50.0)</td>\n",
       "    </tr>\n",
       "    <tr>\n",
       "      <th>237</th>\n",
       "      <td>&lt;src.optimizers.AdaSVRG.AdaSVRG object at 0x7f...</td>\n",
       "      <td>-2.221078e+10</td>\n",
       "      <td>(50000.0, 500.0)</td>\n",
       "    </tr>\n",
       "    <tr>\n",
       "      <th>238</th>\n",
       "      <td>&lt;src.optimizers.AdaSVRG.AdaSVRG object at 0x7f...</td>\n",
       "      <td>-2.221040e+11</td>\n",
       "      <td>(50000.0, 5000.0)</td>\n",
       "    </tr>\n",
       "    <tr>\n",
       "      <th>239</th>\n",
       "      <td>&lt;src.optimizers.AdaSVRG.AdaSVRG object at 0x7f...</td>\n",
       "      <td>-2.222136e+12</td>\n",
       "      <td>(50000.0, 50000.0)</td>\n",
       "    </tr>\n",
       "  </tbody>\n",
       "</table>\n",
       "<p>240 rows × 3 columns</p>\n",
       "</div>"
      ],
      "text/plain": [
       "                                           method_name          loss  \\\n",
       "0                                               Spider -6.869491e+02   \n",
       "1                                               Spider -6.870249e+02   \n",
       "2                                               Spider -6.870001e+02   \n",
       "3                                               Spider -6.869258e+02   \n",
       "4                                               Spider -6.857404e+02   \n",
       "..                                                 ...           ...   \n",
       "235  <src.optimizers.AdaSVRG.AdaSVRG object at 0x7f... -2.219917e+08   \n",
       "236  <src.optimizers.AdaSVRG.AdaSVRG object at 0x7f... -2.221614e+09   \n",
       "237  <src.optimizers.AdaSVRG.AdaSVRG object at 0x7f... -2.221078e+10   \n",
       "238  <src.optimizers.AdaSVRG.AdaSVRG object at 0x7f... -2.221040e+11   \n",
       "239  <src.optimizers.AdaSVRG.AdaSVRG object at 0x7f... -2.222136e+12   \n",
       "\n",
       "                 parameters  \n",
       "0     (5e-05, 5e-05, 5e-05)  \n",
       "1    (5e-05, 5e-05, 0.0005)  \n",
       "2     (5e-05, 5e-05, 0.005)  \n",
       "3      (5e-05, 5e-05, 0.05)  \n",
       "4       (5e-05, 5e-05, 0.5)  \n",
       "..                      ...  \n",
       "235          (50000.0, 5.0)  \n",
       "236         (50000.0, 50.0)  \n",
       "237        (50000.0, 500.0)  \n",
       "238       (50000.0, 5000.0)  \n",
       "239      (50000.0, 50000.0)  \n",
       "\n",
       "[240 rows x 3 columns]"
      ]
     },
     "execution_count": 85,
     "metadata": {},
     "output_type": "execute_result"
    }
   ],
   "source": []
  },
  {
   "cell_type": "code",
   "execution_count": 94,
   "metadata": {
    "tags": []
   },
   "outputs": [
    {
     "data": {
      "text/plain": [
       "(7, 226.71613212255397)"
      ]
     },
     "execution_count": 94,
     "metadata": {},
     "output_type": "execute_result"
    }
   ],
   "source": [
    "df['loss'].abs().idxmin(), df['loss'].abs().min()"
   ]
  },
  {
   "cell_type": "code",
   "execution_count": 208,
   "metadata": {
    "tags": []
   },
   "outputs": [
    {
     "data": {
      "text/plain": [
       "method_name    SpiderBoost\n",
       "loss            635.058059\n",
       "parameters             0.5\n",
       "Name: 4, dtype: object"
      ]
     },
     "execution_count": 208,
     "metadata": {},
     "output_type": "execute_result"
    }
   ],
   "source": [
    "df.iloc[4]"
   ]
  },
  {
   "cell_type": "code",
   "execution_count": 209,
   "metadata": {
    "tags": []
   },
   "outputs": [
    {
     "data": {
      "text/html": [
       "<div>\n",
       "<style scoped>\n",
       "    .dataframe tbody tr th:only-of-type {\n",
       "        vertical-align: middle;\n",
       "    }\n",
       "\n",
       "    .dataframe tbody tr th {\n",
       "        vertical-align: top;\n",
       "    }\n",
       "\n",
       "    .dataframe thead th {\n",
       "        text-align: right;\n",
       "    }\n",
       "</style>\n",
       "<table border=\"1\" class=\"dataframe\">\n",
       "  <thead>\n",
       "    <tr style=\"text-align: right;\">\n",
       "      <th></th>\n",
       "      <th>method_name</th>\n",
       "      <th>loss</th>\n",
       "      <th>parameters</th>\n",
       "    </tr>\n",
       "  </thead>\n",
       "  <tbody>\n",
       "    <tr>\n",
       "      <th>0</th>\n",
       "      <td>SpiderBoost</td>\n",
       "      <td>635.058469</td>\n",
       "      <td>5e-05</td>\n",
       "    </tr>\n",
       "    <tr>\n",
       "      <th>1</th>\n",
       "      <td>SpiderBoost</td>\n",
       "      <td>635.058385</td>\n",
       "      <td>0.0005</td>\n",
       "    </tr>\n",
       "    <tr>\n",
       "      <th>2</th>\n",
       "      <td>SpiderBoost</td>\n",
       "      <td>635.059386</td>\n",
       "      <td>0.005</td>\n",
       "    </tr>\n",
       "    <tr>\n",
       "      <th>3</th>\n",
       "      <td>SpiderBoost</td>\n",
       "      <td>635.059539</td>\n",
       "      <td>0.05</td>\n",
       "    </tr>\n",
       "    <tr>\n",
       "      <th>4</th>\n",
       "      <td>SpiderBoost</td>\n",
       "      <td>635.058059</td>\n",
       "      <td>0.5</td>\n",
       "    </tr>\n",
       "    <tr>\n",
       "      <th>5</th>\n",
       "      <td>SpiderBoost</td>\n",
       "      <td>635.070119</td>\n",
       "      <td>5.0</td>\n",
       "    </tr>\n",
       "    <tr>\n",
       "      <th>6</th>\n",
       "      <td>SpiderBoost</td>\n",
       "      <td>635.175792</td>\n",
       "      <td>50.0</td>\n",
       "    </tr>\n",
       "    <tr>\n",
       "      <th>7</th>\n",
       "      <td>SpiderBoost</td>\n",
       "      <td>636.221395</td>\n",
       "      <td>500.0</td>\n",
       "    </tr>\n",
       "    <tr>\n",
       "      <th>8</th>\n",
       "      <td>SpiderBoost</td>\n",
       "      <td>644.830861</td>\n",
       "      <td>5000.0</td>\n",
       "    </tr>\n",
       "    <tr>\n",
       "      <th>9</th>\n",
       "      <td>SpiderBoost</td>\n",
       "      <td>673.275301</td>\n",
       "      <td>50000.0</td>\n",
       "    </tr>\n",
       "  </tbody>\n",
       "</table>\n",
       "</div>"
      ],
      "text/plain": [
       "   method_name        loss parameters\n",
       "0  SpiderBoost  635.058469      5e-05\n",
       "1  SpiderBoost  635.058385     0.0005\n",
       "2  SpiderBoost  635.059386      0.005\n",
       "3  SpiderBoost  635.059539       0.05\n",
       "4  SpiderBoost  635.058059        0.5\n",
       "5  SpiderBoost  635.070119        5.0\n",
       "6  SpiderBoost  635.175792       50.0\n",
       "7  SpiderBoost  636.221395      500.0\n",
       "8  SpiderBoost  644.830861     5000.0\n",
       "9  SpiderBoost  673.275301    50000.0"
      ]
     },
     "execution_count": 209,
     "metadata": {},
     "output_type": "execute_result"
    }
   ],
   "source": [
    "df"
   ]
  },
  {
   "cell_type": "code",
   "execution_count": 91,
   "metadata": {
    "tags": []
   },
   "outputs": [],
   "source": [
    "from copy import copy"
   ]
  },
  {
   "cell_type": "code",
   "execution_count": 93,
   "metadata": {
    "pycharm": {
     "name": "#%%\n"
    },
    "tags": []
   },
   "outputs": [
    {
     "data": {
      "text/html": [
       "<div>\n",
       "<style scoped>\n",
       "    .dataframe tbody tr th:only-of-type {\n",
       "        vertical-align: middle;\n",
       "    }\n",
       "\n",
       "    .dataframe tbody tr th {\n",
       "        vertical-align: top;\n",
       "    }\n",
       "\n",
       "    .dataframe thead th {\n",
       "        text-align: right;\n",
       "    }\n",
       "</style>\n",
       "<table border=\"1\" class=\"dataframe\">\n",
       "  <thead>\n",
       "    <tr style=\"text-align: right;\">\n",
       "      <th></th>\n",
       "      <th>loss</th>\n",
       "      <th>parameters</th>\n",
       "    </tr>\n",
       "    <tr>\n",
       "      <th>method_name</th>\n",
       "      <th></th>\n",
       "      <th></th>\n",
       "    </tr>\n",
       "  </thead>\n",
       "  <tbody>\n",
       "    <tr>\n",
       "      <th>&lt;src.optimizers.AdaSVRG.AdaSVRG object at 0x7f6aad8de410&gt;</th>\n",
       "      <td>3463.300303</td>\n",
       "      <td>(0.0005, 0.0005)</td>\n",
       "    </tr>\n",
       "    <tr>\n",
       "      <th>AdaSVRG</th>\n",
       "      <td>3463.479083</td>\n",
       "      <td>(0.0005, 0.0005)</td>\n",
       "    </tr>\n",
       "    <tr>\n",
       "      <th>SVRG</th>\n",
       "      <td>1108.383014</td>\n",
       "      <td>0.0005</td>\n",
       "    </tr>\n",
       "    <tr>\n",
       "      <th>Spider</th>\n",
       "      <td>226.716132</td>\n",
       "      <td>(0.0005, 0.0005)</td>\n",
       "    </tr>\n",
       "    <tr>\n",
       "      <th>SpiderBoost</th>\n",
       "      <td>2213.296677</td>\n",
       "      <td>0.0005</td>\n",
       "    </tr>\n",
       "  </tbody>\n",
       "</table>\n",
       "</div>"
      ],
      "text/plain": [
       "                                                           loss  \\\n",
       "method_name                                                       \n",
       "<src.optimizers.AdaSVRG.AdaSVRG object at 0x7f6...  3463.300303   \n",
       "AdaSVRG                                             3463.479083   \n",
       "SVRG                                                1108.383014   \n",
       "Spider                                               226.716132   \n",
       "SpiderBoost                                         2213.296677   \n",
       "\n",
       "                                                          parameters  \n",
       "method_name                                                           \n",
       "<src.optimizers.AdaSVRG.AdaSVRG object at 0x7f6...  (0.0005, 0.0005)  \n",
       "AdaSVRG                                             (0.0005, 0.0005)  \n",
       "SVRG                                                          0.0005  \n",
       "Spider                                              (0.0005, 0.0005)  \n",
       "SpiderBoost                                                   0.0005  "
      ]
     },
     "execution_count": 93,
     "metadata": {},
     "output_type": "execute_result"
    }
   ],
   "source": [
    "df_2 = copy(df)\n",
    "df_2['loss'] = df_2['loss'].abs()\n",
    "df_2.groupby('method_name').min()"
   ]
  },
  {
   "cell_type": "code",
   "execution_count": 65,
   "metadata": {
    "collapsed": false,
    "jupyter": {
     "outputs_hidden": false
    },
    "pycharm": {
     "name": "#%%\n"
    }
   },
   "outputs": [],
   "source": [
    "# METHODS = ['AdaSpider', 'Spider']\n",
    "# ITERATIONS = 100\n",
    "#\n",
    "# def plot_data():\n",
    "#     # Write your code to make 4x4 panel here\n",
    "#     X_LABEL = \"Stochastic oracle calls\"\n",
    "#     Y_LABEL = \"||\\u0394f(x)||^2\"\n",
    "#\n",
    "#     fig, ax = plt.subplots(3,2,figsize=(16,16), sharey=False, sharex=False)\n",
    "#\n",
    "#     for i, dataset_name in enumerate(DATASETS):\n",
    "#         sbplt = ax[i%3, i%2]\n",
    "#         print(dataset_name)\n",
    "#         for method in METHODS:\n",
    "#             if method == \"Spider\":\n",
    "#                 spider_params = SpiderParam(100, 5, 0.05)\n",
    "#                 gradients = test_method(Spider, dataset_name, ITERATIONS, spider_params)\n",
    "#             else:\n",
    "#                 gradients = test_method(ADASpider, dataset_name, ITERATIONS)\n",
    "#             gradients = [np.linalg.norm(grad, 2) for grad in gradients]\n",
    "#             sbplt.plot(gradients, label=method)\n",
    "#\n",
    "#         sbplt.set_xscale('log')\n",
    "#         sbplt.set_title(dataset_name)\n",
    "#         sbplt.set_xlabel(X_LABEL)\n",
    "#         sbplt.set_ylabel(Y_LABEL)\n",
    "#         sbplt.legend(loc='lower left')\n",
    "#\n",
    "#         break  # plot single dataset\n",
    "#\n",
    "#     fig.tight_layout(pad=2.0)\n",
    "#     # fig.savefig('tests_logistic_regression.jpg', dpi=150)\n",
    "#\n",
    "# plot_data()"
   ]
  },
  {
   "cell_type": "markdown",
   "metadata": {
    "pycharm": {
     "name": "#%% md\n"
    }
   },
   "source": []
  }
 ],
 "metadata": {
  "instance_type": "ml.m5.4xlarge",
  "kernelspec": {
   "display_name": "Python 3 (Data Science)",
   "language": "python",
   "name": "python3__SAGEMAKER_INTERNAL__arn:aws:sagemaker:eu-west-1:470317259841:image/datascience-1.0"
  },
  "language_info": {
   "codemirror_mode": {
    "name": "ipython",
    "version": 3
   },
   "file_extension": ".py",
   "mimetype": "text/x-python",
   "name": "python",
   "nbconvert_exporter": "python",
   "pygments_lexer": "ipython3",
   "version": "3.7.10"
  }
 },
 "nbformat": 4,
 "nbformat_minor": 4
}
