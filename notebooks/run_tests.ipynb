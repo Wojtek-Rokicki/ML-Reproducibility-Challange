{
 "cells": [
  {
   "cell_type": "code",
   "execution_count": 1,
   "metadata": {
    "collapsed": true,
    "pycharm": {
     "name": "#%%\n"
    }
   },
   "outputs": [],
   "source": [
    "import matplotlib.pyplot as plt\n",
    "import numpy as np\n",
    "import dsdl\n",
    "import numpy.random\n",
    "from typing import Callable, List\n",
    "\n",
    "%load_ext autoreload\n",
    "%autoreload 2"
   ]
  },
  {
   "cell_type": "code",
   "execution_count": 2,
   "outputs": [],
   "source": [
    "DATASETS = ['a1a', 'mushrooms', 'a6a', 'w1a', 'w5a', 'ionosphere']\n",
    "METHODS = ['SGD', 'AdaSpider', 'Spider', 'SpiderBoost', 'SVRG', 'AdaGrad', 'AdaSVRG']"
   ],
   "metadata": {
    "collapsed": false,
    "pycharm": {
     "name": "#%%\n"
    }
   }
  },
  {
   "cell_type": "markdown",
   "source": [
    "# Logistic regression"
   ],
   "metadata": {
    "collapsed": false,
    "pycharm": {
     "name": "#%% md\n"
    }
   }
  },
  {
   "cell_type": "code",
   "execution_count": 3,
   "outputs": [],
   "source": [
    "from src.logistic_regression.log_reg_gradient import log_reg_gradient\n",
    "from src.logistic_regression.sigmoid import sigmoid\n",
    "from src.logistic_regression.stochastic_gradient import stochastic_gradient\n",
    "\n",
    "from src.optimizers.Optimizer import Optimizer"
   ],
   "metadata": {
    "collapsed": false,
    "pycharm": {
     "name": "#%%\n"
    }
   }
  },
  {
   "cell_type": "code",
   "execution_count": 4,
   "outputs": [],
   "source": [
    "def get_data(dataset_name: str):\n",
    "    \"\"\"\n",
    "    :param dataset_name: Name of the dataset from dsdl module.\n",
    "    :return: (X, y) train and target data.\n",
    "    \"\"\"\n",
    "    ds = dsdl.load(dataset_name)\n",
    "    X, y = ds.get_train()\n",
    "    X = X.toarray()\n",
    "    y = y.reshape(-1, 1)\n",
    "    return X, y\n",
    "\n",
    "def build_model(X, y):\n",
    "    \"\"\"\n",
    "    Builds\n",
    "    :param X: shape=(N, D). Train data\n",
    "    :param y: shape=(N, 1). Target data\n",
    "    :return: shape=(N, D+1). Built model for logistic regression.\n",
    "    \"\"\"\n",
    "    return np.c_[np.ones((y.shape[0], 1)), X]\n",
    "\n",
    "def get_initial_weights(tx):\n",
    "    \"\"\"\n",
    "    Returns weights initialized from the uniform distribution [0, 1].\n",
    "    :param tx: shape=(N, D). Build model\n",
    "    :return: shape=(D, 1) Initial weights\n",
    "    \"\"\"\n",
    "    return np.random.uniform(low=0, high=1, size=(tx.shape[1], 1))\n",
    "\n",
    "def test_method(method: Optimizer,\n",
    "                dataset_name: str,\n",
    "                max_iter: int,\n",
    "                *parameters) -> List:\n",
    "        \"\"\"\n",
    "        :param method: Optimization method implementation from src optimizers module.\n",
    "        :param dataset_name: Name of the dataset from dsdl module.\n",
    "        :param max_iter: Number of iterations to test.\n",
    "        :param parameters optional: Dataclass containing parameters used int optimization method.\n",
    "        :return: List of gradients from optimization method.\n",
    "        \"\"\"\n",
    "        X, y = get_data(dataset_name)\n",
    "        tx = build_model(X, y)\n",
    "        w = get_initial_weights(tx)\n",
    "        return method.optimize(w, tx, y, max_iter)"
   ],
   "metadata": {
    "collapsed": false,
    "pycharm": {
     "name": "#%%\n"
    }
   }
  },
  {
   "cell_type": "code",
   "execution_count": 5,
   "outputs": [],
   "source": [
    "from src.optimizers.SGD import SGD\n",
    "from src.optimizers.AdaSpider import AdaSpider\n",
    "from src.optimizers.Spider import Spider\n",
    "from src.optimizers.SpiderBoost import SpiderBoost\n",
    "from src.optimizers.SVRG import SVRG\n",
    "from src.optimizers.AdaGrad import AdaGrad\n",
    "from src.optimizers.AdaSVRG import AdaSVRG"
   ],
   "metadata": {
    "collapsed": false,
    "pycharm": {
     "name": "#%%\n"
    }
   }
  },
  {
   "cell_type": "code",
   "execution_count": 16,
   "outputs": [],
   "source": [
    "METHODS = [\n",
    "    SGD(lambda_=0.05),\n",
    "    AdaSpider(),\n",
    "    Spider(n_0 = 0.05, epsilon=0.005),\n",
    "    SpiderBoost(),\n",
    "    SVRG(q=100, lambda_=0.05),\n",
    "    # AdaGrad(lambda_=0.05, epsilon= 0.005),\n",
    "    AdaSVRG(q=100, lambda_=0.05)\n",
    "]"
   ],
   "metadata": {
    "collapsed": false,
    "pycharm": {
     "name": "#%%\n"
    }
   }
  },
  {
   "cell_type": "markdown",
   "source": [
    "### Plot"
   ],
   "metadata": {
    "collapsed": false,
    "pycharm": {
     "name": "#%% md\n"
    }
   }
  },
  {
   "cell_type": "code",
   "execution_count": 17,
   "outputs": [
    {
     "name": "stdout",
     "output_type": "stream",
     "text": [
      "ionosphere\n",
      "AdaGrad\n",
      "[[0.587121  ]\n",
      " [0.89680278]\n",
      " [0.1002218 ]\n",
      " [0.48895382]\n",
      " [0.47714026]\n",
      " [0.42725705]\n",
      " [0.00099653]\n",
      " [0.73750847]\n",
      " [0.23553544]\n",
      " [0.75820231]\n",
      " [0.89113855]\n",
      " [0.2746048 ]\n",
      " [0.34883867]\n",
      " [0.40873705]\n",
      " [0.43397518]\n",
      " [0.38376907]\n",
      " [0.73877226]\n",
      " [0.00133156]\n",
      " [0.80649154]\n",
      " [0.71018096]\n",
      " [0.92066737]\n",
      " [0.03355948]\n",
      " [0.69947806]\n",
      " [0.41970066]\n",
      " [0.48493819]\n",
      " [0.39350889]\n",
      " [0.67945278]\n",
      " [0.72064472]\n",
      " [0.70548446]\n",
      " [0.70415598]\n",
      " [0.50166352]\n",
      " [0.15506111]\n",
      " [0.25533191]\n",
      " [0.35796723]\n",
      " [0.15851175]]\n",
      "[[0.53712236 0.53712236 0.53712236 ... 0.53712236 0.53712236 0.53712236]\n",
      " [0.84863153 0.84863153 0.84863153 ... 0.84863153 0.84863153 0.84863153]\n",
      " [0.05339502 0.05339502 0.05339502 ... 0.05339502 0.05339502 0.05339502]\n",
      " ...\n",
      " [0.20838816 0.20838816 0.20838816 ... 0.20838816 0.20838816 0.20838816]\n",
      " [0.31051552 0.31051552 0.31051552 ... 0.31051552 0.31051552 0.31051552]\n",
      " [0.11146665 0.11146665 0.11146665 ... 0.11146665 0.11146665 0.11146665]]\n",
      "dupa\n"
     ]
    },
    {
     "ename": "ValueError",
     "evalue": "setting an array element with a sequence.",
     "output_type": "error",
     "traceback": [
      "\u001B[1;31m---------------------------------------------------------------------------\u001B[0m",
      "\u001B[1;31mTypeError\u001B[0m                                 Traceback (most recent call last)",
      "\u001B[1;31mTypeError\u001B[0m: only size-1 arrays can be converted to Python scalars",
      "\nThe above exception was the direct cause of the following exception:\n",
      "\u001B[1;31mValueError\u001B[0m                                Traceback (most recent call last)",
      "Input \u001B[1;32mIn [17]\u001B[0m, in \u001B[0;36m<cell line: 31>\u001B[1;34m()\u001B[0m\n\u001B[0;32m     28\u001B[0m     fig\u001B[38;5;241m.\u001B[39mtight_layout(pad\u001B[38;5;241m=\u001B[39m\u001B[38;5;241m2.0\u001B[39m)\n\u001B[0;32m     29\u001B[0m     \u001B[38;5;66;03m# fig.savefig('tests_logistic_regression.jpg', dpi=150)\u001B[39;00m\n\u001B[1;32m---> 31\u001B[0m \u001B[43mplot_data\u001B[49m\u001B[43m(\u001B[49m\u001B[43m)\u001B[49m\n",
      "Input \u001B[1;32mIn [17]\u001B[0m, in \u001B[0;36mplot_data\u001B[1;34m()\u001B[0m\n\u001B[0;32m     14\u001B[0m \u001B[38;5;28;01mfor\u001B[39;00m method \u001B[38;5;129;01min\u001B[39;00m METHODS:\n\u001B[0;32m     15\u001B[0m     \u001B[38;5;28mprint\u001B[39m(method\u001B[38;5;241m.\u001B[39mname)\n\u001B[1;32m---> 16\u001B[0m     gradients \u001B[38;5;241m=\u001B[39m \u001B[43mtest_method\u001B[49m\u001B[43m(\u001B[49m\u001B[43mmethod\u001B[49m\u001B[43m,\u001B[49m\u001B[43m \u001B[49m\u001B[43mdataset_name\u001B[49m\u001B[43m,\u001B[49m\u001B[43m \u001B[49m\u001B[43mITERATIONS\u001B[49m\u001B[43m)\u001B[49m\n\u001B[0;32m     17\u001B[0m     gradients \u001B[38;5;241m=\u001B[39m [np\u001B[38;5;241m.\u001B[39mlinalg\u001B[38;5;241m.\u001B[39mnorm(grad, \u001B[38;5;241m2\u001B[39m) \u001B[38;5;28;01mfor\u001B[39;00m grad \u001B[38;5;129;01min\u001B[39;00m gradients]\n\u001B[0;32m     18\u001B[0m     sbplt\u001B[38;5;241m.\u001B[39mplot(gradients, label\u001B[38;5;241m=\u001B[39mmethod)\n",
      "Input \u001B[1;32mIn [4]\u001B[0m, in \u001B[0;36mtest_method\u001B[1;34m(method, dataset_name, max_iter, *parameters)\u001B[0m\n\u001B[0;32m     41\u001B[0m tx \u001B[38;5;241m=\u001B[39m build_model(X, y)\n\u001B[0;32m     42\u001B[0m w \u001B[38;5;241m=\u001B[39m get_initial_weights(tx)\n\u001B[1;32m---> 43\u001B[0m \u001B[38;5;28;01mreturn\u001B[39;00m \u001B[43mmethod\u001B[49m\u001B[38;5;241;43m.\u001B[39;49m\u001B[43moptimize\u001B[49m\u001B[43m(\u001B[49m\u001B[43mw\u001B[49m\u001B[43m,\u001B[49m\u001B[43m \u001B[49m\u001B[43mtx\u001B[49m\u001B[43m,\u001B[49m\u001B[43m \u001B[49m\u001B[43my\u001B[49m\u001B[43m,\u001B[49m\u001B[43m \u001B[49m\u001B[43mmax_iter\u001B[49m\u001B[43m)\u001B[49m\n",
      "File \u001B[1;32m~\\Documents\\GithubRepos\\EPFL\\ML-reproducibility-challenge\\src\\optimizers\\AdaGrad.py:51\u001B[0m, in \u001B[0;36mAdaGrad.optimize\u001B[1;34m(self, w_0, tx, y, max_iter)\u001B[0m\n\u001B[0;32m     48\u001B[0m w \u001B[38;5;241m=\u001B[39m [w_0]\n\u001B[0;32m     50\u001B[0m \u001B[38;5;28;01mfor\u001B[39;00m t \u001B[38;5;129;01min\u001B[39;00m \u001B[38;5;28mrange\u001B[39m(max_iter):\n\u001B[1;32m---> 51\u001B[0m     g_t \u001B[38;5;241m=\u001B[39m \u001B[43mlog_reg_gradient\u001B[49m\u001B[43m(\u001B[49m\u001B[43my\u001B[49m\u001B[43m,\u001B[49m\u001B[43m \u001B[49m\u001B[43mtx\u001B[49m\u001B[43m,\u001B[49m\u001B[43m \u001B[49m\u001B[43mw\u001B[49m\u001B[43m[\u001B[49m\u001B[43mt\u001B[49m\u001B[43m]\u001B[49m\u001B[43m)\u001B[49m\n\u001B[0;32m     52\u001B[0m     G_t \u001B[38;5;241m+\u001B[39m\u001B[38;5;241m=\u001B[39m np\u001B[38;5;241m.\u001B[39mdiag([g_t_i \u001B[38;5;241m*\u001B[39m\u001B[38;5;241m*\u001B[39m \u001B[38;5;241m2\u001B[39m \u001B[38;5;28;01mfor\u001B[39;00m g_t_i \u001B[38;5;129;01min\u001B[39;00m g_t])\n\u001B[0;32m     53\u001B[0m     v_k \u001B[38;5;241m=\u001B[39m \u001B[38;5;28mself\u001B[39m\u001B[38;5;241m.\u001B[39mlambda_ \u001B[38;5;241m/\u001B[39m np\u001B[38;5;241m.\u001B[39msqrt(G_t \u001B[38;5;241m+\u001B[39m \u001B[38;5;28mself\u001B[39m\u001B[38;5;241m.\u001B[39mepsilon) \u001B[38;5;241m*\u001B[39m g_t\n",
      "File \u001B[1;32m~\\Documents\\GithubRepos\\EPFL\\ML-reproducibility-challenge\\src\\logistic_regression\\log_reg_gradient.py:20\u001B[0m, in \u001B[0;36mlog_reg_gradient\u001B[1;34m(y, tx, w)\u001B[0m\n\u001B[0;32m     18\u001B[0m lamb \u001B[38;5;241m=\u001B[39m \u001B[38;5;241m0.5\u001B[39m\n\u001B[0;32m     19\u001B[0m pred \u001B[38;5;241m=\u001B[39m sigmoid(tx\u001B[38;5;241m.\u001B[39mdot(w))\n\u001B[1;32m---> 20\u001B[0m grad \u001B[38;5;241m=\u001B[39m tx\u001B[38;5;241m.\u001B[39mT\u001B[38;5;241m.\u001B[39mdot(pred \u001B[38;5;241m-\u001B[39m y) \u001B[38;5;241m*\u001B[39m (\u001B[38;5;241m1\u001B[39m \u001B[38;5;241m/\u001B[39m y\u001B[38;5;241m.\u001B[39msize) \u001B[38;5;241m+\u001B[39m \u001B[38;5;241m2\u001B[39m \u001B[38;5;241m*\u001B[39m lamb \u001B[38;5;241m*\u001B[39m \u001B[43mnon_convex\u001B[49m\u001B[43m(\u001B[49m\u001B[43mw\u001B[49m\u001B[43m)\u001B[49m\n\u001B[0;32m     21\u001B[0m \u001B[38;5;28;01mreturn\u001B[39;00m grad\n",
      "File \u001B[1;32m~\\Documents\\GithubRepos\\EPFL\\ML-reproducibility-challenge\\src\\utils\\method_utils.py:11\u001B[0m, in \u001B[0;36mnon_convex\u001B[1;34m(w)\u001B[0m\n\u001B[0;32m      9\u001B[0m     \u001B[38;5;28;01mif\u001B[39;00m \u001B[38;5;28mlen\u001B[39m(val) \u001B[38;5;241m>\u001B[39m \u001B[38;5;241m2\u001B[39m:\n\u001B[0;32m     10\u001B[0m         \u001B[38;5;28mprint\u001B[39m(\u001B[38;5;124m'\u001B[39m\u001B[38;5;124mdupa\u001B[39m\u001B[38;5;124m'\u001B[39m)\n\u001B[1;32m---> 11\u001B[0m     temp[i] \u001B[38;5;241m=\u001B[39m val\n\u001B[0;32m     12\u001B[0m \u001B[38;5;28;01mreturn\u001B[39;00m np\u001B[38;5;241m.\u001B[39msum(temp)\n",
      "\u001B[1;31mValueError\u001B[0m: setting an array element with a sequence."
     ]
    },
    {
     "data": {
      "text/plain": "<Figure size 1152x1152 with 6 Axes>",
      "image/png": "[encoded data removed]"
     },
     "metadata": {
      "needs_background": "light"
     },
     "output_type": "display_data"
    }
   ],
   "source": [
    "ITERATIONS = 100\n",
    "\n",
    "def plot_data():\n",
    "    # Write your code to make 4x4 panel here\n",
    "    X_LABEL = \"Stochastic oracle calls\"\n",
    "    Y_LABEL = \"||\\u0394f(x)||^2\"\n",
    "\n",
    "    fig, ax = plt.subplots(3,2,figsize=(16,16), sharey=False, sharex=False)\n",
    "\n",
    "    for i, dataset_name in enumerate(DATASETS[::-1]):\n",
    "        print(dataset_name)\n",
    "        sbplt = ax[i%3, i%2]\n",
    "\n",
    "        for method in METHODS:\n",
    "            print(method.name)\n",
    "            gradients = test_method(method, dataset_name, ITERATIONS)\n",
    "            gradients = [np.linalg.norm(grad, 2) for grad in gradients]\n",
    "            sbplt.plot(gradients, label=method)\n",
    "\n",
    "        sbplt.set_xscale('log')\n",
    "        sbplt.set_title(dataset_name)\n",
    "        sbplt.set_xlabel(X_LABEL)\n",
    "        sbplt.set_ylabel(Y_LABEL)\n",
    "        sbplt.legend(loc='lower left')\n",
    "\n",
    "        break  # plot single dataset\n",
    "\n",
    "    fig.tight_layout(pad=2.0)\n",
    "    # fig.savefig('tests_logistic_regression.jpg', dpi=150)\n",
    "\n",
    "plot_data()"
   ],
   "metadata": {
    "collapsed": false,
    "pycharm": {
     "name": "#%%\n"
    }
   }
  },
  {
   "cell_type": "code",
   "execution_count": 12,
   "outputs": [],
   "source": [
    "# METHODS = ['AdaSpider', 'Spider']\n",
    "# ITERATIONS = 100\n",
    "#\n",
    "# def plot_data():\n",
    "#     # Write your code to make 4x4 panel here\n",
    "#     X_LABEL = \"Stochastic oracle calls\"\n",
    "#     Y_LABEL = \"||\\u0394f(x)||^2\"\n",
    "#\n",
    "#     fig, ax = plt.subplots(3,2,figsize=(16,16), sharey=False, sharex=False)\n",
    "#\n",
    "#     for i, dataset_name in enumerate(DATASETS):\n",
    "#         sbplt = ax[i%3, i%2]\n",
    "#         print(dataset_name)\n",
    "#         for method in METHODS:\n",
    "#             if method == \"Spider\":\n",
    "#                 spider_params = SpiderParam(100, 5, 0.05)\n",
    "#                 gradients = test_method(Spider, dataset_name, ITERATIONS, spider_params)\n",
    "#             else:\n",
    "#                 gradients = test_method(ADASpider, dataset_name, ITERATIONS)\n",
    "#             gradients = [np.linalg.norm(grad, 2) for grad in gradients]\n",
    "#             sbplt.plot(gradients, label=method)\n",
    "#\n",
    "#         sbplt.set_xscale('log')\n",
    "#         sbplt.set_title(dataset_name)\n",
    "#         sbplt.set_xlabel(X_LABEL)\n",
    "#         sbplt.set_ylabel(Y_LABEL)\n",
    "#         sbplt.legend(loc='lower left')\n",
    "#\n",
    "#         break  # plot single dataset\n",
    "#\n",
    "#     fig.tight_layout(pad=2.0)\n",
    "#     # fig.savefig('tests_logistic_regression.jpg', dpi=150)\n",
    "#\n",
    "# plot_data()"
   ],
   "metadata": {
    "collapsed": false,
    "pycharm": {
     "name": "#%%\n"
    }
   }
  },
  {
   "cell_type": "markdown",
   "source": [],
   "metadata": {
    "collapsed": false,
    "pycharm": {
     "name": "#%% md\n"
    }
   }
  }
 ],
 "metadata": {
  "kernelspec": {
   "name": "python3",
   "language": "python",
   "display_name": "Python 3 (ipykernel)"
  },
  "language_info": {
   "codemirror_mode": {
    "name": "ipython",
    "version": 2
   },
   "file_extension": ".py",
   "mimetype": "text/x-python",
   "name": "python",
   "nbconvert_exporter": "python",
   "pygments_lexer": "ipython2",
   "version": "2.7.6"
  }
 },
 "nbformat": 4,
 "nbformat_minor": 0
}