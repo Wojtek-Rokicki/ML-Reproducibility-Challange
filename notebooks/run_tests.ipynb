{
 "cells": [
  {
   "cell_type": "code",
   "execution_count": 15,
   "metadata": {
    "collapsed": true,
    "pycharm": {
     "name": "#%%\n"
    }
   },
   "outputs": [
    {
     "name": "stdout",
     "output_type": "stream",
     "text": [
      "The autoreload extension is already loaded. To reload it, use:\n",
      "  %reload_ext autoreload\n"
     ]
    }
   ],
   "source": [
    "import matplotlib.pyplot as plt\n",
    "import numpy as np\n",
    "import dsdl\n",
    "import numpy.random\n",
    "from typing import Callable, List\n",
    "import pandas as pd\n",
    "\n",
    "%load_ext autoreload\n",
    "%autoreload 2"
   ]
  },
  {
   "cell_type": "code",
   "execution_count": 16,
   "outputs": [],
   "source": [
    "DATASETS = ['a1a', 'mushrooms', 'a6a', 'w1a', 'w5a', 'ionosphere']\n",
    "METHODS = ['SGD', 'AdaSpider', 'Spider', 'SpiderBoost', 'SVRG', 'AdaGrad', 'AdaSVRG']"
   ],
   "metadata": {
    "collapsed": false,
    "pycharm": {
     "name": "#%%\n"
    }
   }
  },
  {
   "cell_type": "markdown",
   "source": [
    "# Logistic regression"
   ],
   "metadata": {
    "collapsed": false,
    "pycharm": {
     "name": "#%% md\n"
    }
   }
  },
  {
   "cell_type": "code",
   "execution_count": 17,
   "outputs": [],
   "source": [
    "from src.logistic_regression.log_reg_gradient import log_reg_gradient\n",
    "from src.logistic_regression.sigmoid import sigmoid\n",
    "from src.logistic_regression.stochastic_gradient import stochastic_gradient\n",
    "\n",
    "from src.optimizers.Optimizer import Optimizer"
   ],
   "metadata": {
    "collapsed": false,
    "pycharm": {
     "name": "#%%\n"
    }
   }
  },
  {
   "cell_type": "code",
   "execution_count": 18,
   "outputs": [],
   "source": [
    "def get_data(dataset_name: str):\n",
    "    \"\"\"\n",
    "    :param dataset_name: Name of the dataset from dsdl module.\n",
    "    :return: (X, y) train and target data.\n",
    "    \"\"\"\n",
    "    ds = dsdl.load(dataset_name)\n",
    "    X, y = ds.get_train()\n",
    "    X = X.toarray()\n",
    "    y = y.reshape(-1, 1)\n",
    "    return X, y\n",
    "\n",
    "def build_model(X, y):\n",
    "    \"\"\"\n",
    "    Builds\n",
    "    :param X: shape=(N, D). Train data\n",
    "    :param y: shape=(N, 1). Target data\n",
    "    :return: shape=(N, D+1). Built model for logistic regression.\n",
    "    \"\"\"\n",
    "    return np.c_[np.ones((y.shape[0], 1)), X]\n",
    "\n",
    "def get_initial_weights(tx):\n",
    "    \"\"\"\n",
    "    Returns weights initialized from the uniform distribution [0, 1].\n",
    "    :param tx: shape=(N, D). Build model\n",
    "    :return: shape=(D, 1) Initial weights\n",
    "    \"\"\"\n",
    "    np.random.seed(2022)\n",
    "    return np.ones(shape=(tx.shape[1], 1))  # low=0, high=1,\n",
    "\n",
    "def test_method(method: Optimizer,\n",
    "                dataset_name: str,\n",
    "                max_iter: int,\n",
    "                *parameters) -> List:\n",
    "        \"\"\"\n",
    "        :param method: Optimization method implementation from src optimizers module.\n",
    "        :param dataset_name: Name of the dataset from dsdl module.\n",
    "        :param max_iter: Number of iterations to test.\n",
    "        :param parameters optional: Dataclass containing parameters used int optimization method.\n",
    "        :return: List of gradients from optimization method.\n",
    "        \"\"\"\n",
    "        X, y = get_data(dataset_name)\n",
    "        tx = build_model(X, y)\n",
    "        initial_weights = get_initial_weights(tx)\n",
    "\n",
    "        gradients = method.optimize(initial_weights, tx, y, max_iter)\n",
    "        return [np.linalg.norm(grad, 2) for grad in gradients]"
   ],
   "metadata": {
    "collapsed": false,
    "pycharm": {
     "name": "#%%\n"
    }
   }
  },
  {
   "cell_type": "code",
   "execution_count": 19,
   "outputs": [],
   "source": [
    "from src.optimizers.SGD import SGD\n",
    "from src.optimizers.AdaSpider import AdaSpider\n",
    "from src.optimizers.Spider import Spider\n",
    "from src.optimizers.SpiderBoost import SpiderBoost\n",
    "from src.optimizers.SVRG import SVRG\n",
    "from src.optimizers.AdaGrad import AdaGrad\n",
    "from src.optimizers.AdaSVRG import AdaSVRG"
   ],
   "metadata": {
    "collapsed": false,
    "pycharm": {
     "name": "#%%\n"
    }
   }
  },
  {
   "cell_type": "code",
   "execution_count": 27,
   "outputs": [],
   "source": [
    "N_ORACLE_CALLS = 100\n",
    "\n",
    "METHODS = [\n",
    "    SGD(lambda_=0.01, q=N_ORACLE_CALLS),\n",
    "    # AdaSpider(q=N_ORACLE_CALLS),\n",
    "    Spider(n_0 = 1, epsilon=0.01, q=N_ORACLE_CALLS),\n",
    "    SpiderBoost(q=N_ORACLE_CALLS),\n",
    "    SVRG(lambda_=0.01, q=N_ORACLE_CALLS),\n",
    "    AdaGrad(lambda_=0.1, epsilon= 0.001, q=N_ORACLE_CALLS),\n",
    "    AdaSVRG(lambda_=0.1, q=N_ORACLE_CALLS)\n",
    "]"
   ],
   "metadata": {
    "collapsed": false,
    "pycharm": {
     "name": "#%%\n"
    }
   }
  },
  {
   "cell_type": "markdown",
   "source": [
    "### Plot"
   ],
   "metadata": {
    "collapsed": false,
    "pycharm": {
     "name": "#%% md\n"
    }
   }
  },
  {
   "cell_type": "code",
   "execution_count": null,
   "outputs": [
    {
     "name": "stdout",
     "output_type": "stream",
     "text": [
      "Dataset a1a\n",
      "Method SGD\n",
      "Method Spider\n",
      "Method SpiderBoost\n",
      "Method SVRG\n"
     ]
    }
   ],
   "source": [
    "ITERATIONS = 5000\n",
    "\n",
    "def plot_data():\n",
    "    # Write your code to make 4x4 panel here\n",
    "    X_LABEL = \"Stochastic oracle calls\"\n",
    "    Y_LABEL = \"||\\u0394f(x)||^2\"\n",
    "\n",
    "    fig, ax = plt.subplots(3, 2, figsize=(16, 16), sharey=False, sharex=False)\n",
    "\n",
    "    for i, dataset_name in enumerate(DATASETS):\n",
    "\n",
    "        print(\"Dataset\", dataset_name)\n",
    "        sbplt = ax[i%3, i%2]\n",
    "\n",
    "        for method in METHODS:\n",
    "            print(\"Method\", method.name)\n",
    "            gradients = test_method(method, dataset_name, ITERATIONS)\n",
    "            gradients = gradients[10:]  # ignore first gradient\n",
    "            sbplt.plot(gradients, label=method.name)\n",
    "\n",
    "        sbplt.set_xscale('log')\n",
    "        sbplt.set_title(dataset_name)\n",
    "        sbplt.set_xlabel(X_LABEL)\n",
    "        sbplt.set_ylabel(Y_LABEL)\n",
    "        sbplt.legend(loc='lower left')\n",
    "\n",
    "        break  # plot single dataset\n",
    "\n",
    "    fig.tight_layout(pad=2.0)\n",
    "    fig.savefig('tests_logistic_regression.jpg', dpi=150)\n",
    "\n",
    "plot_data()"
   ],
   "metadata": {
    "collapsed": false,
    "pycharm": {
     "name": "#%%\n",
     "is_executing": true
    }
   }
  },
  {
   "cell_type": "code",
   "execution_count": null,
   "outputs": [],
   "source": [],
   "metadata": {
    "collapsed": false,
    "pycharm": {
     "name": "#%%\n"
    }
   }
  },
  {
   "cell_type": "markdown",
   "source": [
    "Do parameter sweep"
   ],
   "metadata": {
    "collapsed": false,
    "pycharm": {
     "name": "#%% md\n"
    }
   }
  },
  {
   "cell_type": "code",
   "execution_count": null,
   "outputs": [],
   "source": [
    "# N_ORACLE_CALLS = 10\n",
    "#\n",
    "# METHODS = [\n",
    "#     SGD(lambda_=0.01, q=N_ORACLE_CALLS),\n",
    "#     # AdaSpider(q=N_ORACLE_CALLS),\n",
    "#     Spider(n_0=1, epsilon=0.01, q=N_ORACLE_CALLS),\n",
    "#     SpiderBoost(q=N_ORACLE_CALLS),\n",
    "#     # SVRG(lambda_=0.01, q=N_ORACLE_CALLS),\n",
    "#     # AdaGrad(lambda_=0.1, epsilon= 0.001, q=N_ORACLE_CALLS),\n",
    "#     AdaSVRG(lambda_=0.1, q=N_ORACLE_CALLS)\n",
    "# ]\n",
    "#\n",
    "# ITERATIONS = 1000\n",
    "#\n",
    "# df = pd.DataFrame(columns=['method_name', 'gradient_sum', 'parameters'])\n",
    "#\n",
    "# # for i, dataset_name in enumerate(DATASETS):\n",
    "# dataset_name = 'mushroom'\n",
    "# print(\"Dataset\", dataset_name)\n",
    "#\n",
    "# powers = np.array([range(-5, 0)], dtype=float)\n",
    "# parameters = 10**powers\n",
    "#\n",
    "# for method in METHODS:\n",
    "#     print(\"Method\", method.name)\n",
    "#     for par\n",
    "#     gradients = test_method(method, dataset_name, ITERATIONS)\n",
    "#     gradients = gradients[10:]  # ignore first gradient\n",
    "#     df = df.append(pd.Series([method.name, np.sum(gradients), '']))\n",
    "#\n"
   ],
   "metadata": {
    "collapsed": false,
    "pycharm": {
     "name": "#%%\n"
    }
   }
  },
  {
   "cell_type": "code",
   "execution_count": 65,
   "outputs": [],
   "source": [
    "# METHODS = ['AdaSpider', 'Spider']\n",
    "# ITERATIONS = 100\n",
    "#\n",
    "# def plot_data():\n",
    "#     # Write your code to make 4x4 panel here\n",
    "#     X_LABEL = \"Stochastic oracle calls\"\n",
    "#     Y_LABEL = \"||\\u0394f(x)||^2\"\n",
    "#\n",
    "#     fig, ax = plt.subplots(3,2,figsize=(16,16), sharey=False, sharex=False)\n",
    "#\n",
    "#     for i, dataset_name in enumerate(DATASETS):\n",
    "#         sbplt = ax[i%3, i%2]\n",
    "#         print(dataset_name)\n",
    "#         for method in METHODS:\n",
    "#             if method == \"Spider\":\n",
    "#                 spider_params = SpiderParam(100, 5, 0.05)\n",
    "#                 gradients = test_method(Spider, dataset_name, ITERATIONS, spider_params)\n",
    "#             else:\n",
    "#                 gradients = test_method(ADASpider, dataset_name, ITERATIONS)\n",
    "#             gradients = [np.linalg.norm(grad, 2) for grad in gradients]\n",
    "#             sbplt.plot(gradients, label=method)\n",
    "#\n",
    "#         sbplt.set_xscale('log')\n",
    "#         sbplt.set_title(dataset_name)\n",
    "#         sbplt.set_xlabel(X_LABEL)\n",
    "#         sbplt.set_ylabel(Y_LABEL)\n",
    "#         sbplt.legend(loc='lower left')\n",
    "#\n",
    "#         break  # plot single dataset\n",
    "#\n",
    "#     fig.tight_layout(pad=2.0)\n",
    "#     # fig.savefig('tests_logistic_regression.jpg', dpi=150)\n",
    "#\n",
    "# plot_data()"
   ],
   "metadata": {
    "collapsed": false,
    "pycharm": {
     "name": "#%%\n"
    }
   }
  },
  {
   "cell_type": "markdown",
   "source": [],
   "metadata": {
    "collapsed": false,
    "pycharm": {
     "name": "#%% md\n"
    }
   }
  }
 ],
 "metadata": {
  "kernelspec": {
   "name": "python3",
   "language": "python",
   "display_name": "Python 3 (ipykernel)"
  },
  "language_info": {
   "codemirror_mode": {
    "name": "ipython",
    "version": 2
   },
   "file_extension": ".py",
   "mimetype": "text/x-python",
   "name": "python",
   "nbconvert_exporter": "python",
   "pygments_lexer": "ipython2",
   "version": "2.7.6"
  }
 },
 "nbformat": 4,
 "nbformat_minor": 0
}