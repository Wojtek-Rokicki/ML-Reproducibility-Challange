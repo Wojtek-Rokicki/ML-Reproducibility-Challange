{
 "cells": [
  {
   "cell_type": "code",
   "execution_count": 2,
   "metadata": {
    "pycharm": {
     "name": "#%%\n"
    },
    "tags": []
   },
   "outputs": [],
   "source": [
    "import matplotlib.pyplot as plt\n",
    "import numpy as np\n",
    "import dsdl\n",
    "import numpy.random\n",
    "from typing import Callable, List\n",
    "import pandas as pd\n",
    "import json\n",
    "\n",
    "%load_ext autoreload\n",
    "%autoreload 2\n",
    "%matplotlib inline"
   ]
  },
  {
   "cell_type": "code",
   "execution_count": 3,
   "metadata": {
    "tags": []
   },
   "outputs": [],
   "source": [
    "# !pip install git+https://github.com/fkunstner/dataset-downloader.git"
   ]
  },
  {
   "cell_type": "code",
   "execution_count": 4,
   "metadata": {
    "pycharm": {
     "name": "#%%\n"
    },
    "tags": []
   },
   "outputs": [],
   "source": [
    "DATASETS = ['a1a', 'mushrooms', 'a6a', 'w1a', 'w5a', 'ionosphere']\n",
    "METHODS = ['SGD', 'AdaSpider', 'Spider', 'SpiderBoost', 'SVRG', 'AdaGrad', 'AdaSVRG']"
   ]
  },
  {
   "cell_type": "code",
   "execution_count": 5,
   "metadata": {
    "tags": []
   },
   "outputs": [],
   "source": [
    "import os\n",
    "import sys\n",
    "module_path = \"/root/ML-Reproducibility-Challange/\"\n",
    "if module_path not in sys.path:\n",
    "    sys.path.append(module_path)"
   ]
  },
  {
   "cell_type": "code",
   "execution_count": 35,
   "metadata": {
    "tags": []
   },
   "outputs": [],
   "source": [
    "from sklearn.preprocessing import Normalizer "
   ]
  },
  {
   "cell_type": "markdown",
   "metadata": {
    "pycharm": {
     "name": "#%% md\n"
    }
   },
   "source": [
    "# Logistic regression"
   ]
  },
  {
   "cell_type": "code",
   "execution_count": 36,
   "metadata": {
    "pycharm": {
     "name": "#%%\n"
    },
    "tags": []
   },
   "outputs": [],
   "source": [
    "# for dataset_name in DATASETS:\n",
    "#     X, y = get_data(dataset_name)\n",
    "#     pd.DataFrame(np.c_[X, y]).to_csv(f\"{dataset_name}.csv\", index=False)"
   ]
  },
  {
   "cell_type": "code",
   "execution_count": 37,
   "metadata": {
    "pycharm": {
     "name": "#%%\n"
    },
    "tags": []
   },
   "outputs": [],
   "source": [
    "from src.optimizers.Optimizer import Optimizer"
   ]
  },
  {
   "cell_type": "code",
   "execution_count": 244,
   "metadata": {
    "pycharm": {
     "name": "#%%\n"
    },
    "tags": []
   },
   "outputs": [],
   "source": [
    "def get_data(dataset_name: str):\n",
    "    \"\"\"\n",
    "    :param dataset_name: Name of the dataset from dsdl module.\n",
    "    :return: (X, y) train and target data.\n",
    "    \"\"\"\n",
    "    ds = dsdl.load(dataset_name)\n",
    "    X, y = ds.get_train()\n",
    "    X = X.toarray()\n",
    "    y = y.reshape(-1, 1)\n",
    "    return normalize(X, y)\n",
    "\n",
    "def normalize(X, y):\n",
    "    scaler_x = Normalizer().fit(X)\n",
    "    X_scaled = scaler_x.transform(X)\n",
    "    \n",
    "    scaler_y = Normalizer().fit(y)\n",
    "    y_scaled = scaler_x.transform(y)\n",
    "    return X_scaled, y_scaled\n",
    "\n",
    "def build_model(X, y):\n",
    "    \"\"\"\n",
    "    Joins weights\n",
    "    :param X: shape=(N, D). Train data\n",
    "    :param y: shape=(N, 1). Target data\n",
    "    :return: shape=(N, D+1). Built model for logistic regression.\n",
    "    \"\"\"\n",
    "    return np.c_[np.zeros((y.shape[0], 1)), X]\n",
    "\n",
    "def get_initial_weights(tx):\n",
    "    \"\"\"\n",
    "    Returns weights initialized from the uniform distribution [0, 1].\n",
    "    :param tx: shape=(N, D). Build model\n",
    "    :return: shape=(D, 1) Initial weights\n",
    "    \"\"\"\n",
    "    np.random.seed(2022)\n",
    "    return np.zeros(shape=(tx.shape[1], 1))\n",
    "\n",
    "def test_method(method: Optimizer,\n",
    "                initial_weights,\n",
    "                tx,\n",
    "                y,\n",
    "                max_iter: int,\n",
    "                *parameter):\n",
    "        \"\"\"\n",
    "        :param method: Optimization method implementation from src optimizers module.\n",
    "        :param dataset_name: Name of the dataset from dsdl module.\n",
    "        :param max_iter: Number of iterations to test.\n",
    "        :param parameters optional: Dataclass containing parameters used int optimization method.\n",
    "        :return: List of gradients from optimization method.\n",
    "        \"\"\"\n",
    "        gradients, loss = method.optimize(initial_weights, tx, y, max_iter)\n",
    "        return [np.linalg.norm(grad)**2 for grad in gradients], loss"
   ]
  },
  {
   "cell_type": "code",
   "execution_count": 245,
   "metadata": {
    "pycharm": {
     "name": "#%%\n"
    },
    "tags": []
   },
   "outputs": [],
   "source": [
    "from src.optimizers.SGD import SGD  # works\n",
    "from src.optimizers.AdaSpider import AdaSpider\n",
    "from src.optimizers.Spider import Spider  # works\n",
    "from src.optimizers.SpiderBoost import SpiderBoost\n",
    "from src.optimizers.SVRG import SVRG\n",
    "from src.optimizers.AdaGrad import AdaGrad # works\n",
    "from src.optimizers.AdaSVRG import AdaSVRG"
   ]
  },
  {
   "cell_type": "code",
   "execution_count": 254,
   "metadata": {
    "pycharm": {
     "name": "#%%\n"
    },
    "tags": []
   },
   "outputs": [],
   "source": [
    "N_ORACLE_CALLS = 0\n",
    "\n",
    "METHODS = [\n",
    "    # SGD(lambda_=0.0001, q=N_ORACLE_CALLS),\n",
    "    # AdaSpider(q=1500),\n",
    "    # Spider(n_0 = 0.0001, lambda_=0.0001, epsilon=0.00011, q=3000),\n",
    "    # SpiderBoost(lambda_=2000, q=3000),\n",
    "    SVRG(lambda_=0.0001, q=4000),\n",
    "    # AdaGrad(lambda_=0.0001, epsilon= 0.0001, q=N_ORACLE_CALLS)\n",
    "    AdaSVRG(lambda_=0.0001, epsilon = 0.0000001, q=5000)\n",
    "]"
   ]
  },
  {
   "cell_type": "markdown",
   "metadata": {
    "pycharm": {
     "name": "#%% md\n"
    }
   },
   "source": [
    "## Run simulations"
   ]
  },
  {
   "cell_type": "code",
   "execution_count": 255,
   "metadata": {
    "tags": []
   },
   "outputs": [],
   "source": [
    "# run 2 # 20 mins on 8 cpu avs ml.c5.2xlarge\n",
    "# run 1 # 1 hour later on the 4 cpu machine \n"
   ]
  },
  {
   "cell_type": "code",
   "execution_count": 256,
   "metadata": {
    "pycharm": {
     "name": "#%%\n"
    },
    "tags": []
   },
   "outputs": [
    {
     "name": "stdout",
     "output_type": "stream",
     "text": [
      "Dataset a1a\n",
      "Method SVRG\n",
      "Step size 0.0006230529206820608\n",
      "Full grad, iter: 0 0.46256584839443565\n",
      "Full grad, iter: 4000 0.23858570193885337\n",
      "Full grad, iter: 8000 0.18308906095927086\n",
      "Full grad, iter: 12000 0.15292902284905757\n",
      "Full grad, iter: 16000 0.13734942700899916\n",
      "Full grad, iter: 20000 0.1292328212142447\n",
      "Full grad, iter: 24000 0.12512496672122667\n",
      "Full grad, iter: 28000 0.12340680692824706\n",
      "Full grad, iter: 32000 0.12282023002929637\n",
      "Full grad, iter: 36000 0.12281292558736882\n",
      "Full grad, iter: 40000 0.12306527885088267\n",
      "Full grad, iter: 44000 0.12343907868132334\n",
      "Full grad, iter: 48000 0.12381879322411128\n",
      "Full grad, iter: 52000 0.12417849758038499\n",
      "Full grad, iter: 56000 0.12444619163689552\n",
      "Full grad, iter: 60000 0.12468000249815331\n",
      "Full grad, iter: 64000 0.12485096570887211\n",
      "Full grad, iter: 68000 0.12497210581313586\n",
      "Full grad, iter: 72000 0.12506040074791888\n",
      "Full grad, iter: 76000 0.12512323304754225\n",
      "Full grad, iter: 80000 0.12516236592465116\n",
      "Full grad, iter: 84000 0.12519113693416303\n",
      "Full grad, iter: 88000 0.12521243130645518\n",
      "Full grad, iter: 92000 0.1252316910972245\n",
      "Full grad, iter: 96000 0.12525015865262498\n",
      "Method AdaSVRG\n",
      "Full grad, iter: 0\n",
      "Full grad, iter: 5000\n",
      "Full grad, iter: 10000\n",
      "Full grad, iter: 15000\n",
      "Full grad, iter: 20000\n",
      "Full grad, iter: 25000\n",
      "Full grad, iter: 30000\n",
      "Full grad, iter: 35000\n",
      "Full grad, iter: 40000\n",
      "Full grad, iter: 45000\n",
      "Full grad, iter: 50000\n",
      "Full grad, iter: 55000\n",
      "Full grad, iter: 60000\n",
      "Full grad, iter: 65000\n",
      "Full grad, iter: 70000\n",
      "Full grad, iter: 75000\n",
      "Full grad, iter: 80000\n",
      "Full grad, iter: 85000\n",
      "Full grad, iter: 90000\n",
      "Full grad, iter: 95000\n",
      "DONE\n"
     ]
    }
   ],
   "source": [
    "ITERATIONS = 100000\n",
    "N_RUNS = 1\n",
    "\n",
    "all_gradients = []\n",
    "\n",
    "datasets_data = {}\n",
    "for i, dataset_name in enumerate(DATASETS):\n",
    "\n",
    "    print(\"Dataset\", dataset_name)\n",
    "\n",
    "    X, y = get_data(dataset_name)\n",
    "    tx = build_model(X, y)\n",
    "    initial_weights = get_initial_weights(tx)\n",
    "    methods_data = {}\n",
    "    for method in METHODS:\n",
    "        print(\"Method\", method.name)\n",
    "\n",
    "        gradients_5_runs = list()\n",
    "        for _ in range(N_RUNS):\n",
    "            gradients, _ = test_method(method, initial_weights, tx, y, ITERATIONS)\n",
    "            gradients_5_runs.append(gradients)\n",
    "        gradients_mean = np.mean(gradients_5_runs, axis=0)\n",
    "\n",
    "        stddev = np.std(gradients_5_runs, axis=0)\n",
    "        lower = gradients_mean - stddev\n",
    "        upper = gradients_mean + stddev\n",
    "\n",
    "        methods_data[method.name] = {\n",
    "            \"gradient_mean\": list(gradients_mean),\n",
    "            \"lower\": list(lower),\n",
    "            \"upper\": list(upper),\n",
    "            \"n_runs\": N_RUNS,\n",
    "            \"n_iterations\": ITERATIONS,\n",
    "            \"gradient_calls\": method.q\n",
    "        }\n",
    "        datasets_data[dataset_name] = methods_data\n",
    "\n",
    "    break  # plot single dataset\n",
    "print(\"DONE\")"
   ]
  },
  {
   "cell_type": "code",
   "execution_count": 271,
   "metadata": {
    "pycharm": {
     "name": "#%%\n"
    },
    "tags": []
   },
   "outputs": [],
   "source": [
    "with open('run_all_19_12_complete.json', 'w') as file:\n",
    "    json.dump(datasets_data1, file)"
   ]
  },
  {
   "cell_type": "code",
   "execution_count": 259,
   "metadata": {
    "tags": []
   },
   "outputs": [
    {
     "name": "stdout",
     "output_type": "stream",
     "text": [
      "DONE\n"
     ]
    }
   ],
   "source": [
    "print('DONE')"
   ]
  },
  {
   "cell_type": "code",
   "execution_count": 261,
   "metadata": {
    "tags": []
   },
   "outputs": [],
   "source": [
    "with open('run_all_19_12_150k_spider_spiderboost.json', 'r') as file:\n",
    "    datasets_data2 = json.load(file)\n",
    "    \n",
    "with open('run_all_19_12_40k.json', 'r') as file:\n",
    "    datasets_data1 = json.load(file)\n",
    "    "
   ]
  },
  {
   "cell_type": "code",
   "execution_count": 262,
   "metadata": {
    "tags": []
   },
   "outputs": [],
   "source": [
    "datasets_data1['a1a']['Spider']['gradient_mean'] = datasets_data2['a1a']['Spider']['gradient_mean']\n",
    "datasets_data1['a1a']['SpiderBoost']['gradient_mean'] = datasets_data2['a1a']['SpiderBoost']['gradient_mean']"
   ]
  },
  {
   "cell_type": "code",
   "execution_count": 266,
   "metadata": {
    "tags": []
   },
   "outputs": [],
   "source": [
    "datasets_data1['a1a']['SVRG'] = datasets_data['a1a']['SVRG']\n",
    "datasets_data1['a1a']['AdaSVRG'] = datasets_data['a1a']['AdaSVRG']"
   ]
  },
  {
   "cell_type": "code",
   "execution_count": 11,
   "metadata": {
    "tags": []
   },
   "outputs": [],
   "source": [
    "# gradients = list(range(1,11))\n",
    "\n",
    "# new_list = []\n",
    "\n",
    "# ITERATIONS=100\n",
    "# q = 2\n",
    "\n",
    "# for idx in range(len(gradients)):\n",
    "#     new_list.append(gradients[idx])\n",
    "#     new_list.extend([None for _ in range(10)])"
   ]
  },
  {
   "cell_type": "markdown",
   "metadata": {
    "pycharm": {
     "name": "#%% md\n"
    },
    "tags": []
   },
   "source": [
    "### Plot"
   ]
  },
  {
   "cell_type": "code",
   "execution_count": 270,
   "metadata": {
    "pycharm": {
     "name": "#%%\n"
    },
    "tags": []
   },
   "outputs": [
    {
     "name": "stdout",
     "output_type": "stream",
     "text": [
      "Dataset a1a\n",
      "Method SGD\n",
      "Method AdaSpider\n",
      "[1, 1501, 3001, 4501, 6001, 7501, 9001, 10501, 12001, 13501, 15001, 16501, 18001, 19501, 21001, 22501, 24001, 25501, 27001, 28501, 30001, 31501, 33001, 34501, 36001, 37501, 39001]\n",
      "27 27\n",
      "Method Spider\n",
      "[1, 3001, 6001, 9001, 12001, 15001, 18001, 21001, 24001, 27001, 30001, 33001, 36001, 39001, 42001, 45001, 48001, 51001, 54001, 57001, 60001, 63001, 66001, 69001, 72001, 75001, 78001, 81001, 84001, 87001, 90001, 93001, 96001, 99001, 102001, 105001, 108001, 111001, 114001, 117001, 120001, 123001, 126001, 129001, 132001, 135001, 138001, 141001, 144001, 147001]\n",
      "50 50\n",
      "Method SpiderBoost\n",
      "[1, 3001, 6001, 9001, 12001, 15001, 18001, 21001, 24001, 27001, 30001, 33001, 36001, 39001, 42001, 45001, 48001, 51001, 54001, 57001, 60001, 63001, 66001, 69001, 72001, 75001, 78001, 81001, 84001, 87001, 90001, 93001, 96001, 99001, 102001, 105001, 108001, 111001, 114001, 117001, 120001, 123001, 126001, 129001, 132001, 135001, 138001, 141001, 144001, 147001]\n",
      "50 50\n",
      "Method AdaGrad\n",
      "Method SVRG\n",
      "[1, 4001, 8001, 12001, 16001, 20001, 24001, 28001, 32001, 36001, 40001, 44001, 48001, 52001, 56001, 60001, 64001, 68001, 72001, 76001, 80001, 84001, 88001, 92001, 96001]\n",
      "25 25\n",
      "Method AdaSVRG\n",
      "[1, 5001, 10001, 15001, 20001, 25001, 30001, 35001, 40001, 45001, 50001, 55001, 60001, 65001, 70001, 75001, 80001, 85001, 90001, 95001]\n",
      "20 20\n"
     ]
    },
    {
     "data": {
      "image/png": "[encoded data removed]",
      "text/plain": [
       "<Figure size 800x500 with 1 Axes>"
      ]
     },
     "metadata": {},
     "output_type": "display_data"
    }
   ],
   "source": [
    "X_LABEL = \"Stochastic oracle calls\"\n",
    "Y_LABEL = \"||\\u0394f(x)||^2\"\n",
    "\n",
    "fig, ax = plt.subplots(1, 1, figsize=(8, 5), sharey=False, sharex=False)  # 3, 2\n",
    "\n",
    "for i, dataset_name in enumerate(DATASETS):\n",
    "    print(\"Dataset\", dataset_name)\n",
    "\n",
    "    methods_data = datasets_data1[dataset_name]\n",
    "\n",
    "    # sbplt = ax[i%3, i%2]\n",
    "    sbplt = ax\n",
    "\n",
    "    for method_name, method_data in methods_data.items():\n",
    "        print(\"Method\", method_name)\n",
    "        gradients_mean = method_data['gradient_mean']\n",
    "        \n",
    "        \n",
    "        lower = method_data['lower']\n",
    "        upper = method_data['upper']\n",
    "        n_iterations = method_data['n_iterations']\n",
    "        gradient_calls = method_data['gradient_calls']\n",
    "        \n",
    "        if gradient_calls != 0:  \n",
    "            grad_x = [(gradient_calls*n)+1 for n in range(len(gradients_mean))]\n",
    "            print(grad_x)\n",
    "            print(len(grad_x), len(gradients_mean))\n",
    "            sbplt.plot(grad_x, gradients_mean, label=method_name)\n",
    "        else:\n",
    "            sbplt.plot(list(range(1, len(gradients_mean)+1)), gradients_mean, label=method_name)\n",
    "        \n",
    "        # sbplt.fill_between(grad_y, lower, upper, alpha=0.25,\n",
    "        #                    facecolor='red', edgecolor='red')\n",
    "\n",
    "    plt.grid(True, which='both')\n",
    "    \n",
    "    sbplt.set_xscale('log')\n",
    "    sbplt.set_yscale('log')\n",
    "    # sbplt.set_xticks([1, 10, 100, 1000, 10000, 100000])\n",
    "    sbplt.set_xticks([pow(10, e) for e in range(0, 6, 1)])\n",
    "    sbplt.set_yticks([pow(10, e) for e in range(-2, 1, 1)])\n",
    "    sbplt.set_title(dataset_name)\n",
    "    \n",
    "    sbplt.set_xlabel(X_LABEL)\n",
    "    sbplt.set_ylabel(Y_LABEL)\n",
    "    sbplt.legend(loc='lower left', fontsize='x-small')\n",
    "\n",
    "    break  # plot single dataset\n",
    "    \n",
    "fig.tight_layout(pad=2.0)\n",
    "fig.savefig(f'tests_logistic_regression_all_complete.jpg', dpi=300)\n",
    "\n",
    "# plot_data()"
   ]
  },
  {
   "cell_type": "code",
   "execution_count": null,
   "metadata": {},
   "outputs": [],
   "source": []
  },
  {
   "cell_type": "markdown",
   "metadata": {
    "pycharm": {
     "name": "#%% md\n"
    }
   },
   "source": [
    "## Do parameter sweep"
   ]
  },
  {
   "cell_type": "code",
   "execution_count": 53,
   "metadata": {
    "tags": []
   },
   "outputs": [],
   "source": [
    "powers = np.array([range(-5, 0)], dtype=float)\n",
    "parameters = 10**powers.flatten()"
   ]
  },
  {
   "cell_type": "code",
   "execution_count": 54,
   "metadata": {
    "tags": []
   },
   "outputs": [
    {
     "data": {
      "text/plain": [
       "array([1.e-05, 1.e-04, 1.e-03, 1.e-02, 1.e-01])"
      ]
     },
     "execution_count": 54,
     "metadata": {},
     "output_type": "execute_result"
    }
   ],
   "source": [
    "parameters"
   ]
  },
  {
   "cell_type": "code",
   "execution_count": 55,
   "metadata": {
    "pycharm": {
     "name": "#%%\n"
    },
    "tags": []
   },
   "outputs": [],
   "source": [
    "from itertools import product"
   ]
  },
  {
   "cell_type": "code",
   "execution_count": 56,
   "metadata": {
    "tags": []
   },
   "outputs": [
    {
     "data": {
      "text/plain": [
       "125"
      ]
     },
     "execution_count": 56,
     "metadata": {},
     "output_type": "execute_result"
    }
   ],
   "source": [
    "len(list(product(parameters, parameters, parameters)))"
   ]
  },
  {
   "cell_type": "code",
   "execution_count": null,
   "metadata": {},
   "outputs": [],
   "source": [
    "DF_COLUMNS = ['method_name', 'loss', 'parameters']\n",
    "df = pd.DataFrame(columns=DF_COLUMNS)"
   ]
  },
  {
   "cell_type": "code",
   "execution_count": 80,
   "metadata": {
    "pycharm": {
     "name": "#%%\n"
    },
    "tags": []
   },
   "outputs": [
    {
     "name": "stdout",
     "output_type": "stream",
     "text": [
      "Dataset a1a Iterations:  5000\n",
      "Parameters values:  [5.e-05 5.e-04 5.e-03 5.e-02 5.e-01 5.e+00 5.e+01 5.e+02 5.e+03 5.e+04]\n",
      "Full grad, iter: 0\n",
      "Full grad, iter: 4000\n",
      "done (5e-05, 5e-05) AdaSVRG 3463.809840881291\n",
      "Full grad, iter: 0\n",
      "Full grad, iter: 4000\n",
      "done (5e-05, 0.0005) AdaSVRG 1943674.02753144\n",
      "Full grad, iter: 0\n",
      "Full grad, iter: 4000\n",
      "done (5e-05, 0.005) AdaSVRG -321412.367520976\n",
      "Full grad, iter: 0\n"
     ]
    },
    {
     "name": "stderr",
     "output_type": "stream",
     "text": [
      "/root/ML-Reproducibility-Challange/src/logistic_regression/sigmoid.py:6: RuntimeWarning: overflow encountered in exp\n",
      "  return 1.0 / (1 + np.exp(-t))\n"
     ]
    },
    {
     "name": "stdout",
     "output_type": "stream",
     "text": [
      "Full grad, iter: 4000\n",
      "done (5e-05, 0.05) AdaSVRG -3737040.9637916703\n",
      "Full grad, iter: 0\n"
     ]
    },
    {
     "name": "stderr",
     "output_type": "stream",
     "text": [
      "/root/ML-Reproducibility-Challange/src/logistic_regression/log_reg.py:40: RuntimeWarning: overflow encountered in exp\n",
      "  first_component = np.log(1 + np.exp(tx.dot(w)))\n"
     ]
    },
    {
     "name": "stdout",
     "output_type": "stream",
     "text": [
      "Full grad, iter: 4000\n",
      "done (5e-05, 0.5) AdaSVRG inf\n",
      "Full grad, iter: 0\n",
      "Full grad, iter: 4000\n",
      "done (5e-05, 5.0) AdaSVRG -222166220.44176072\n",
      "Full grad, iter: 0\n",
      "Full grad, iter: 4000\n",
      "done (5e-05, 50.0) AdaSVRG -2222328549.02094\n",
      "Full grad, iter: 0\n",
      "Full grad, iter: 4000\n",
      "done (5e-05, 500.0) AdaSVRG -22198773195.353203\n",
      "Full grad, iter: 0\n",
      "Full grad, iter: 4000\n",
      "done (5e-05, 5000.0) AdaSVRG -222202185679.1651\n",
      "Full grad, iter: 0\n",
      "Full grad, iter: 4000\n",
      "done (5e-05, 50000.0) AdaSVRG -2220362967585.124\n",
      "Full grad, iter: 0\n",
      "Full grad, iter: 4000\n",
      "done (0.0005, 5e-05) AdaSVRG 3463.809833309784\n",
      "Full grad, iter: 0\n",
      "Full grad, iter: 4000\n",
      "done (0.0005, 0.0005) AdaSVRG 1939912.6441696836\n",
      "Full grad, iter: 0\n",
      "Full grad, iter: 4000\n",
      "done (0.0005, 0.005) AdaSVRG -222782.83819701133\n",
      "Full grad, iter: 0\n",
      "Full grad, iter: 4000\n",
      "done (0.0005, 0.05) AdaSVRG -1938349.5712126154\n",
      "Full grad, iter: 0\n",
      "Full grad, iter: 4000\n",
      "done (0.0005, 0.5) AdaSVRG inf\n",
      "Full grad, iter: 0\n",
      "Full grad, iter: 4000\n",
      "done (0.0005, 5.0) AdaSVRG -221962667.89928338\n",
      "Full grad, iter: 0\n",
      "Full grad, iter: 4000\n",
      "done (0.0005, 50.0) AdaSVRG -2221990365.982681\n",
      "Full grad, iter: 0\n",
      "Full grad, iter: 4000\n",
      "done (0.0005, 500.0) AdaSVRG -22209448611.65073\n",
      "Full grad, iter: 0\n",
      "Full grad, iter: 4000\n",
      "done (0.0005, 5000.0) AdaSVRG -222181522901.32214\n",
      "Full grad, iter: 0\n",
      "Full grad, iter: 4000\n",
      "done (0.0005, 50000.0) AdaSVRG -2221115220699.8823\n",
      "Full grad, iter: 0\n",
      "Full grad, iter: 4000\n",
      "done (0.005, 5e-05) AdaSVRG 3463.8098359117685\n",
      "Full grad, iter: 0\n",
      "Full grad, iter: 4000\n",
      "done (0.005, 0.0005) AdaSVRG 1938850.3900329145\n",
      "Full grad, iter: 0\n",
      "Full grad, iter: 4000\n",
      "done (0.005, 0.005) AdaSVRG -357817.8603984504\n",
      "Full grad, iter: 0\n",
      "Full grad, iter: 4000\n",
      "done (0.005, 0.05) AdaSVRG -3098839.183721287\n",
      "Full grad, iter: 0\n",
      "Full grad, iter: 4000\n",
      "done (0.005, 0.5) AdaSVRG inf\n",
      "Full grad, iter: 0\n",
      "Full grad, iter: 4000\n",
      "done (0.005, 5.0) AdaSVRG inf\n",
      "Full grad, iter: 0\n",
      "Full grad, iter: 4000\n",
      "done (0.005, 50.0) AdaSVRG -2220586466.4708047\n",
      "Full grad, iter: 0\n",
      "Full grad, iter: 4000\n",
      "done (0.005, 500.0) AdaSVRG -22207550161.848618\n",
      "Full grad, iter: 0\n",
      "Full grad, iter: 4000\n",
      "done (0.005, 5000.0) AdaSVRG -222078173584.86423\n",
      "Full grad, iter: 0\n",
      "Full grad, iter: 4000\n",
      "done (0.005, 50000.0) AdaSVRG -2221137499346.829\n",
      "Full grad, iter: 0\n",
      "Full grad, iter: 4000\n",
      "done (0.05, 5e-05) AdaSVRG 3463.8097991904533\n",
      "Full grad, iter: 0\n",
      "Full grad, iter: 4000\n",
      "done (0.05, 0.0005) AdaSVRG 1937478.5501998458\n",
      "Full grad, iter: 0\n",
      "Full grad, iter: 4000\n",
      "done (0.05, 0.005) AdaSVRG -349967.8671509932\n",
      "Full grad, iter: 0\n",
      "Full grad, iter: 4000\n",
      "done (0.05, 0.05) AdaSVRG -3062301.9653054946\n",
      "Full grad, iter: 0\n",
      "Full grad, iter: 4000\n",
      "done (0.05, 0.5) AdaSVRG inf\n",
      "Full grad, iter: 0\n",
      "Full grad, iter: 4000\n",
      "done (0.05, 5.0) AdaSVRG -222098524.00725424\n",
      "Full grad, iter: 0\n",
      "Full grad, iter: 4000\n",
      "done (0.05, 50.0) AdaSVRG -2221158424.24879\n",
      "Full grad, iter: 0\n",
      "Full grad, iter: 4000\n",
      "done (0.05, 500.0) AdaSVRG -22206650082.839497\n",
      "Full grad, iter: 0\n",
      "Full grad, iter: 4000\n",
      "done (0.05, 5000.0) AdaSVRG -222129961477.42218\n",
      "Full grad, iter: 0\n",
      "Full grad, iter: 4000\n",
      "done (0.05, 50000.0) AdaSVRG -2221465306199.12\n",
      "Full grad, iter: 0\n",
      "Full grad, iter: 4000\n",
      "done (0.5, 5e-05) AdaSVRG 3463.809505871739\n",
      "Full grad, iter: 0\n",
      "Full grad, iter: 4000\n",
      "done (0.5, 0.0005) AdaSVRG 1925237.7728735176\n",
      "Full grad, iter: 0\n",
      "Full grad, iter: 4000\n",
      "done (0.5, 0.005) AdaSVRG -31946.088037449572\n",
      "Full grad, iter: 0\n",
      "Full grad, iter: 4000\n",
      "done (0.5, 0.05) AdaSVRG -3533350.758636339\n",
      "Full grad, iter: 0\n",
      "Full grad, iter: 4000\n",
      "done (0.5, 0.5) AdaSVRG inf\n",
      "Full grad, iter: 0\n",
      "Full grad, iter: 4000\n",
      "done (0.5, 5.0) AdaSVRG -223154973.44243324\n",
      "Full grad, iter: 0\n",
      "Full grad, iter: 4000\n",
      "done (0.5, 50.0) AdaSVRG -2221587632.14622\n",
      "Full grad, iter: 0\n",
      "Full grad, iter: 4000\n",
      "done (0.5, 500.0) AdaSVRG -22209669232.664764\n",
      "Full grad, iter: 0\n",
      "Full grad, iter: 4000\n",
      "done (0.5, 5000.0) AdaSVRG -222143056204.0099\n",
      "Full grad, iter: 0\n",
      "Full grad, iter: 4000\n",
      "done (0.5, 50000.0) AdaSVRG -2221088554528.1807\n",
      "Full grad, iter: 0\n",
      "Full grad, iter: 4000\n",
      "done (5.0, 5e-05) AdaSVRG 3463.8065980355896\n",
      "Full grad, iter: 0\n",
      "Full grad, iter: 4000\n",
      "done (5.0, 0.0005) AdaSVRG 1922041.3771688403\n",
      "Full grad, iter: 0\n",
      "Full grad, iter: 4000\n",
      "done (5.0, 0.005) AdaSVRG -279557.4464564726\n",
      "Full grad, iter: 0\n",
      "Full grad, iter: 4000\n",
      "done (5.0, 0.05) AdaSVRG -3741686.6621621386\n",
      "Full grad, iter: 0\n",
      "Full grad, iter: 4000\n",
      "done (5.0, 0.5) AdaSVRG inf\n",
      "Full grad, iter: 0\n",
      "Full grad, iter: 4000\n",
      "done (5.0, 5.0) AdaSVRG -221975027.32010037\n",
      "Full grad, iter: 0\n",
      "Full grad, iter: 4000\n",
      "done (5.0, 50.0) AdaSVRG -2221899059.681224\n",
      "Full grad, iter: 0\n",
      "Full grad, iter: 4000\n",
      "done (5.0, 500.0) AdaSVRG -22215819153.316517\n",
      "Full grad, iter: 0\n",
      "Full grad, iter: 4000\n",
      "done (5.0, 5000.0) AdaSVRG -222113098222.0351\n",
      "Full grad, iter: 0\n",
      "Full grad, iter: 4000\n",
      "done (5.0, 50000.0) AdaSVRG -2222213631328.1465\n",
      "Full grad, iter: 0\n",
      "Full grad, iter: 4000\n",
      "done (50.0, 5e-05) AdaSVRG 3463.778761905912\n",
      "Full grad, iter: 0\n",
      "Full grad, iter: 4000\n",
      "done (50.0, 0.0005) AdaSVRG 1936294.201909585\n",
      "Full grad, iter: 0\n",
      "Full grad, iter: 4000\n",
      "done (50.0, 0.005) AdaSVRG -137124.59148802626\n",
      "Full grad, iter: 0\n",
      "Full grad, iter: 4000\n",
      "done (50.0, 0.05) AdaSVRG -2409626.293485823\n",
      "Full grad, iter: 0\n",
      "Full grad, iter: 4000\n",
      "done (50.0, 0.5) AdaSVRG inf\n",
      "Full grad, iter: 0\n",
      "Full grad, iter: 4000\n",
      "done (50.0, 5.0) AdaSVRG -223198623.4443858\n",
      "Full grad, iter: 0\n",
      "Full grad, iter: 4000\n",
      "done (50.0, 50.0) AdaSVRG -2221388788.643681\n",
      "Full grad, iter: 0\n",
      "Full grad, iter: 4000\n",
      "done (50.0, 500.0) AdaSVRG -22210858132.598007\n",
      "Full grad, iter: 0\n",
      "Full grad, iter: 4000\n",
      "done (50.0, 5000.0) AdaSVRG -222155797821.17743\n",
      "Full grad, iter: 0\n",
      "Full grad, iter: 4000\n",
      "done (50.0, 50000.0) AdaSVRG -2222331430060.375\n",
      "Full grad, iter: 0\n",
      "Full grad, iter: 4000\n",
      "done (500.0, 5e-05) AdaSVRG 3463.591242675833\n",
      "Full grad, iter: 0\n",
      "Full grad, iter: 4000\n",
      "done (500.0, 0.0005) AdaSVRG 1934770.6872680339\n",
      "Full grad, iter: 0\n",
      "Full grad, iter: 4000\n",
      "done (500.0, 0.005) AdaSVRG -276331.0355895577\n",
      "Full grad, iter: 0\n",
      "Full grad, iter: 4000\n",
      "done (500.0, 0.05) AdaSVRG -1347466.1381604036\n",
      "Full grad, iter: 0\n",
      "Full grad, iter: 4000\n",
      "done (500.0, 0.5) AdaSVRG inf\n",
      "Full grad, iter: 0\n",
      "Full grad, iter: 4000\n",
      "done (500.0, 5.0) AdaSVRG -223128014.1837498\n",
      "Full grad, iter: 0\n",
      "Full grad, iter: 4000\n",
      "done (500.0, 50.0) AdaSVRG -2221158337.8464603\n",
      "Full grad, iter: 0\n",
      "Full grad, iter: 4000\n",
      "done (500.0, 500.0) AdaSVRG -22211840448.464027\n",
      "Full grad, iter: 0\n",
      "Full grad, iter: 4000\n",
      "done (500.0, 5000.0) AdaSVRG -222096346832.60812\n",
      "Full grad, iter: 0\n",
      "Full grad, iter: 4000\n",
      "done (500.0, 50000.0) AdaSVRG -2222151825685.957\n",
      "Full grad, iter: 0\n",
      "Full grad, iter: 4000\n",
      "done (5000.0, 5e-05) AdaSVRG 3463.3201164019324\n",
      "Full grad, iter: 0\n",
      "Full grad, iter: 4000\n",
      "done (5000.0, 0.0005) AdaSVRG 1960355.3340913542\n",
      "Full grad, iter: 0\n",
      "Full grad, iter: 4000\n",
      "done (5000.0, 0.005) AdaSVRG -92943.74054487313\n",
      "Full grad, iter: 0\n",
      "Full grad, iter: 4000\n",
      "done (5000.0, 0.05) AdaSVRG -3571646.488624856\n",
      "Full grad, iter: 0\n",
      "Full grad, iter: 4000\n",
      "done (5000.0, 0.5) AdaSVRG inf\n",
      "Full grad, iter: 0\n",
      "Full grad, iter: 4000\n",
      "done (5000.0, 5.0) AdaSVRG -222000984.99592063\n",
      "Full grad, iter: 0\n",
      "Full grad, iter: 4000\n",
      "done (5000.0, 50.0) AdaSVRG -2221288405.853358\n",
      "Full grad, iter: 0\n",
      "Full grad, iter: 4000\n",
      "done (5000.0, 500.0) AdaSVRG -22220699552.134933\n",
      "Full grad, iter: 0\n",
      "Full grad, iter: 4000\n",
      "done (5000.0, 5000.0) AdaSVRG -222100507094.68225\n",
      "Full grad, iter: 0\n",
      "Full grad, iter: 4000\n",
      "done (5000.0, 50000.0) AdaSVRG -2220793049893.072\n",
      "Full grad, iter: 0\n",
      "Full grad, iter: 4000\n",
      "done (50000.0, 5e-05) AdaSVRG 3463.3003026607075\n",
      "Full grad, iter: 0\n",
      "Full grad, iter: 4000\n",
      "done (50000.0, 0.0005) AdaSVRG 1938173.0103031807\n",
      "Full grad, iter: 0\n",
      "Full grad, iter: 4000\n",
      "done (50000.0, 0.005) AdaSVRG -323474.6694305966\n",
      "Full grad, iter: 0\n",
      "Full grad, iter: 4000\n",
      "done (50000.0, 0.05) AdaSVRG inf\n",
      "Full grad, iter: 0\n",
      "Full grad, iter: 4000\n",
      "done (50000.0, 0.5) AdaSVRG inf\n",
      "Full grad, iter: 0\n",
      "Full grad, iter: 4000\n",
      "done (50000.0, 5.0) AdaSVRG -221991721.06472525\n",
      "Full grad, iter: 0\n",
      "Full grad, iter: 4000\n",
      "done (50000.0, 50.0) AdaSVRG -2221614355.8713484\n",
      "Full grad, iter: 0\n",
      "Full grad, iter: 4000\n",
      "done (50000.0, 500.0) AdaSVRG -22210775395.240753\n",
      "Full grad, iter: 0\n",
      "Full grad, iter: 4000\n",
      "done (50000.0, 5000.0) AdaSVRG -222104043909.04092\n",
      "Full grad, iter: 0\n",
      "Full grad, iter: 4000\n",
      "done (50000.0, 50000.0) AdaSVRG -2222135528478.3384\n"
     ]
    }
   ],
   "source": [
    "# N_ORACLE_CALLS = 150\n",
    "\n",
    "METHODS = [\n",
    "    # SGD(lambda_=0.0001, q=N_ORACLE_CALLS),\n",
    "    # AdaSpider(q=N_ORACLE_CALLS),\n",
    "    Spider(n_0 = 1e-05, lambda_=0.001, epsilon=0.0001, q=3000),\n",
    "    SpiderBoost(lambda_=1000, q=3000),\n",
    "    SVRG(lambda_=0.0001, q=5000),\n",
    "    # AdaGrad(lambda_=0.0001, epsilon= 0.0001, q=N_ORACLE_CALLS),\n",
    "    AdaSVRG(lambda_=0.01, epsilon = 0.0001, q=4000)\n",
    "]\n",
    "\n",
    "dataset_name = 'a1a'\n",
    "ITERATIONS = 5000\n",
    "print(\"Dataset\", dataset_name, \"Iterations: \", ITERATIONS)\n",
    "\n",
    "powers = np.array([range(-5, 5)], dtype=float)\n",
    "parameters = 5*10**powers.flatten()\n",
    "\n",
    "X, y = get_data(dataset_name)\n",
    "tx = build_model(X, y)\n",
    "initial_weights = get_initial_weights(tx)\n",
    "\n",
    "print(\"Parameters values: \", parameters)\n",
    "\n",
    "for method in METHODS[3:]:\n",
    "    if method.n_params_to_tune == 2:\n",
    "        for param in list(product(parameters, parameters)):\n",
    "            method.set_params(param[0], param[1])\n",
    "            _, losses = test_method(method, initial_weights, tx, y, ITERATIONS)\n",
    "            df = df.append(dict(zip(DF_COLUMNS, [method, np.sum(losses), str(param)])), ignore_index=True)\n",
    "            print('done', param, method.name, np.sum(losses))\n",
    "            \n",
    "    elif method.n_params_to_tune == 3:\n",
    "        for param in list(product(parameters, parameters))[10:]:\n",
    "            method.set_params(param[0], 5e-05, param[1])\n",
    "            _, losses = test_method(method, initial_weights, tx, y, ITERATIONS)\n",
    "            df = df.append(dict(zip(DF_COLUMNS, [method.name, np.sum(losses), str(param)])), ignore_index=True)\n",
    "            print('done', param, method, np.sum(losses))\n",
    "    \n",
    "    elif method.n_params_to_tune == 1:\n",
    "        for param in parameters:\n",
    "            method.set_params(param)\n",
    "            _, losses = test_method(method, initial_weights, tx, y, ITERATIONS)\n",
    "            df = df.append(dict(zip(DF_COLUMNS, [method.name, np.sum(losses), str(param)])), ignore_index=True)\n",
    "            print('done', param, method, np.sum(losses))\n",
    "            \n",
    "    else:\n",
    "        param = None\n",
    "        _, losses = test_method(method, initial_weights, tx, y, ITERATIONS)\n",
    "        df = df.append(dict(zip(DF_COLUMNS, [method.name, np.sum(losses), str(param)])), ignore_index=True)\n",
    "        print('done', param, method, np.sum(losses))\n",
    "    "
   ]
  },
  {
   "cell_type": "code",
   "execution_count": 83,
   "metadata": {
    "tags": []
   },
   "outputs": [],
   "source": [
    "df.to_csv(\"param_run_19_12.csv\", index=False)"
   ]
  },
  {
   "cell_type": "code",
   "execution_count": 95,
   "metadata": {
    "pycharm": {
     "name": "#%%\n"
    },
    "tags": []
   },
   "outputs": [],
   "source": [
    "df.to_csv(\"parameters_sweep_spider.csv\", index=False)"
   ]
  },
  {
   "cell_type": "code",
   "execution_count": null,
   "metadata": {},
   "outputs": [
    {
     "data": {
      "text/html": [
       "<div>\n",
       "<style scoped>\n",
       "    .dataframe tbody tr th:only-of-type {\n",
       "        vertical-align: middle;\n",
       "    }\n",
       "\n",
       "    .dataframe tbody tr th {\n",
       "        vertical-align: top;\n",
       "    }\n",
       "\n",
       "    .dataframe thead th {\n",
       "        text-align: right;\n",
       "    }\n",
       "</style>\n",
       "<table border=\"1\" class=\"dataframe\">\n",
       "  <thead>\n",
       "    <tr style=\"text-align: right;\">\n",
       "      <th></th>\n",
       "      <th>method_name</th>\n",
       "      <th>loss</th>\n",
       "      <th>parameters</th>\n",
       "    </tr>\n",
       "  </thead>\n",
       "  <tbody>\n",
       "    <tr>\n",
       "      <th>0</th>\n",
       "      <td>Spider</td>\n",
       "      <td>-6.869491e+02</td>\n",
       "      <td>(5e-05, 5e-05, 5e-05)</td>\n",
       "    </tr>\n",
       "    <tr>\n",
       "      <th>1</th>\n",
       "      <td>Spider</td>\n",
       "      <td>-6.870249e+02</td>\n",
       "      <td>(5e-05, 5e-05, 0.0005)</td>\n",
       "    </tr>\n",
       "    <tr>\n",
       "      <th>2</th>\n",
       "      <td>Spider</td>\n",
       "      <td>-6.870001e+02</td>\n",
       "      <td>(5e-05, 5e-05, 0.005)</td>\n",
       "    </tr>\n",
       "    <tr>\n",
       "      <th>3</th>\n",
       "      <td>Spider</td>\n",
       "      <td>-6.869258e+02</td>\n",
       "      <td>(5e-05, 5e-05, 0.05)</td>\n",
       "    </tr>\n",
       "    <tr>\n",
       "      <th>4</th>\n",
       "      <td>Spider</td>\n",
       "      <td>-6.857404e+02</td>\n",
       "      <td>(5e-05, 5e-05, 0.5)</td>\n",
       "    </tr>\n",
       "    <tr>\n",
       "      <th>...</th>\n",
       "      <td>...</td>\n",
       "      <td>...</td>\n",
       "      <td>...</td>\n",
       "    </tr>\n",
       "    <tr>\n",
       "      <th>235</th>\n",
       "      <td>&lt;src.optimizers.AdaSVRG.AdaSVRG object at 0x7f...</td>\n",
       "      <td>-2.219917e+08</td>\n",
       "      <td>(50000.0, 5.0)</td>\n",
       "    </tr>\n",
       "    <tr>\n",
       "      <th>236</th>\n",
       "      <td>&lt;src.optimizers.AdaSVRG.AdaSVRG object at 0x7f...</td>\n",
       "      <td>-2.221614e+09</td>\n",
       "      <td>(50000.0, 50.0)</td>\n",
       "    </tr>\n",
       "    <tr>\n",
       "      <th>237</th>\n",
       "      <td>&lt;src.optimizers.AdaSVRG.AdaSVRG object at 0x7f...</td>\n",
       "      <td>-2.221078e+10</td>\n",
       "      <td>(50000.0, 500.0)</td>\n",
       "    </tr>\n",
       "    <tr>\n",
       "      <th>238</th>\n",
       "      <td>&lt;src.optimizers.AdaSVRG.AdaSVRG object at 0x7f...</td>\n",
       "      <td>-2.221040e+11</td>\n",
       "      <td>(50000.0, 5000.0)</td>\n",
       "    </tr>\n",
       "    <tr>\n",
       "      <th>239</th>\n",
       "      <td>&lt;src.optimizers.AdaSVRG.AdaSVRG object at 0x7f...</td>\n",
       "      <td>-2.222136e+12</td>\n",
       "      <td>(50000.0, 50000.0)</td>\n",
       "    </tr>\n",
       "  </tbody>\n",
       "</table>\n",
       "<p>240 rows × 3 columns</p>\n",
       "</div>"
      ],
      "text/plain": [
       "                                           method_name          loss  \\\n",
       "0                                               Spider -6.869491e+02   \n",
       "1                                               Spider -6.870249e+02   \n",
       "2                                               Spider -6.870001e+02   \n",
       "3                                               Spider -6.869258e+02   \n",
       "4                                               Spider -6.857404e+02   \n",
       "..                                                 ...           ...   \n",
       "235  <src.optimizers.AdaSVRG.AdaSVRG object at 0x7f... -2.219917e+08   \n",
       "236  <src.optimizers.AdaSVRG.AdaSVRG object at 0x7f... -2.221614e+09   \n",
       "237  <src.optimizers.AdaSVRG.AdaSVRG object at 0x7f... -2.221078e+10   \n",
       "238  <src.optimizers.AdaSVRG.AdaSVRG object at 0x7f... -2.221040e+11   \n",
       "239  <src.optimizers.AdaSVRG.AdaSVRG object at 0x7f... -2.222136e+12   \n",
       "\n",
       "                 parameters  \n",
       "0     (5e-05, 5e-05, 5e-05)  \n",
       "1    (5e-05, 5e-05, 0.0005)  \n",
       "2     (5e-05, 5e-05, 0.005)  \n",
       "3      (5e-05, 5e-05, 0.05)  \n",
       "4       (5e-05, 5e-05, 0.5)  \n",
       "..                      ...  \n",
       "235          (50000.0, 5.0)  \n",
       "236         (50000.0, 50.0)  \n",
       "237        (50000.0, 500.0)  \n",
       "238       (50000.0, 5000.0)  \n",
       "239      (50000.0, 50000.0)  \n",
       "\n",
       "[240 rows x 3 columns]"
      ]
     },
     "execution_count": 85,
     "metadata": {},
     "output_type": "execute_result"
    }
   ],
   "source": []
  },
  {
   "cell_type": "code",
   "execution_count": 94,
   "metadata": {
    "tags": []
   },
   "outputs": [
    {
     "data": {
      "text/plain": [
       "(7, 226.71613212255397)"
      ]
     },
     "execution_count": 94,
     "metadata": {},
     "output_type": "execute_result"
    }
   ],
   "source": [
    "df['loss'].abs().idxmin(), df['loss'].abs().min()"
   ]
  },
  {
   "cell_type": "code",
   "execution_count": 208,
   "metadata": {
    "tags": []
   },
   "outputs": [
    {
     "data": {
      "text/plain": [
       "method_name    SpiderBoost\n",
       "loss            635.058059\n",
       "parameters             0.5\n",
       "Name: 4, dtype: object"
      ]
     },
     "execution_count": 208,
     "metadata": {},
     "output_type": "execute_result"
    }
   ],
   "source": [
    "df.iloc[4]"
   ]
  },
  {
   "cell_type": "code",
   "execution_count": 209,
   "metadata": {
    "tags": []
   },
   "outputs": [
    {
     "data": {
      "text/html": [
       "<div>\n",
       "<style scoped>\n",
       "    .dataframe tbody tr th:only-of-type {\n",
       "        vertical-align: middle;\n",
       "    }\n",
       "\n",
       "    .dataframe tbody tr th {\n",
       "        vertical-align: top;\n",
       "    }\n",
       "\n",
       "    .dataframe thead th {\n",
       "        text-align: right;\n",
       "    }\n",
       "</style>\n",
       "<table border=\"1\" class=\"dataframe\">\n",
       "  <thead>\n",
       "    <tr style=\"text-align: right;\">\n",
       "      <th></th>\n",
       "      <th>method_name</th>\n",
       "      <th>loss</th>\n",
       "      <th>parameters</th>\n",
       "    </tr>\n",
       "  </thead>\n",
       "  <tbody>\n",
       "    <tr>\n",
       "      <th>0</th>\n",
       "      <td>SpiderBoost</td>\n",
       "      <td>635.058469</td>\n",
       "      <td>5e-05</td>\n",
       "    </tr>\n",
       "    <tr>\n",
       "      <th>1</th>\n",
       "      <td>SpiderBoost</td>\n",
       "      <td>635.058385</td>\n",
       "      <td>0.0005</td>\n",
       "    </tr>\n",
       "    <tr>\n",
       "      <th>2</th>\n",
       "      <td>SpiderBoost</td>\n",
       "      <td>635.059386</td>\n",
       "      <td>0.005</td>\n",
       "    </tr>\n",
       "    <tr>\n",
       "      <th>3</th>\n",
       "      <td>SpiderBoost</td>\n",
       "      <td>635.059539</td>\n",
       "      <td>0.05</td>\n",
       "    </tr>\n",
       "    <tr>\n",
       "      <th>4</th>\n",
       "      <td>SpiderBoost</td>\n",
       "      <td>635.058059</td>\n",
       "      <td>0.5</td>\n",
       "    </tr>\n",
       "    <tr>\n",
       "      <th>5</th>\n",
       "      <td>SpiderBoost</td>\n",
       "      <td>635.070119</td>\n",
       "      <td>5.0</td>\n",
       "    </tr>\n",
       "    <tr>\n",
       "      <th>6</th>\n",
       "      <td>SpiderBoost</td>\n",
       "      <td>635.175792</td>\n",
       "      <td>50.0</td>\n",
       "    </tr>\n",
       "    <tr>\n",
       "      <th>7</th>\n",
       "      <td>SpiderBoost</td>\n",
       "      <td>636.221395</td>\n",
       "      <td>500.0</td>\n",
       "    </tr>\n",
       "    <tr>\n",
       "      <th>8</th>\n",
       "      <td>SpiderBoost</td>\n",
       "      <td>644.830861</td>\n",
       "      <td>5000.0</td>\n",
       "    </tr>\n",
       "    <tr>\n",
       "      <th>9</th>\n",
       "      <td>SpiderBoost</td>\n",
       "      <td>673.275301</td>\n",
       "      <td>50000.0</td>\n",
       "    </tr>\n",
       "  </tbody>\n",
       "</table>\n",
       "</div>"
      ],
      "text/plain": [
       "   method_name        loss parameters\n",
       "0  SpiderBoost  635.058469      5e-05\n",
       "1  SpiderBoost  635.058385     0.0005\n",
       "2  SpiderBoost  635.059386      0.005\n",
       "3  SpiderBoost  635.059539       0.05\n",
       "4  SpiderBoost  635.058059        0.5\n",
       "5  SpiderBoost  635.070119        5.0\n",
       "6  SpiderBoost  635.175792       50.0\n",
       "7  SpiderBoost  636.221395      500.0\n",
       "8  SpiderBoost  644.830861     5000.0\n",
       "9  SpiderBoost  673.275301    50000.0"
      ]
     },
     "execution_count": 209,
     "metadata": {},
     "output_type": "execute_result"
    }
   ],
   "source": [
    "df"
   ]
  },
  {
   "cell_type": "code",
   "execution_count": 91,
   "metadata": {
    "tags": []
   },
   "outputs": [],
   "source": [
    "from copy import copy"
   ]
  },
  {
   "cell_type": "code",
   "execution_count": 93,
   "metadata": {
    "pycharm": {
     "name": "#%%\n"
    },
    "tags": []
   },
   "outputs": [
    {
     "data": {
      "text/html": [
       "<div>\n",
       "<style scoped>\n",
       "    .dataframe tbody tr th:only-of-type {\n",
       "        vertical-align: middle;\n",
       "    }\n",
       "\n",
       "    .dataframe tbody tr th {\n",
       "        vertical-align: top;\n",
       "    }\n",
       "\n",
       "    .dataframe thead th {\n",
       "        text-align: right;\n",
       "    }\n",
       "</style>\n",
       "<table border=\"1\" class=\"dataframe\">\n",
       "  <thead>\n",
       "    <tr style=\"text-align: right;\">\n",
       "      <th></th>\n",
       "      <th>loss</th>\n",
       "      <th>parameters</th>\n",
       "    </tr>\n",
       "    <tr>\n",
       "      <th>method_name</th>\n",
       "      <th></th>\n",
       "      <th></th>\n",
       "    </tr>\n",
       "  </thead>\n",
       "  <tbody>\n",
       "    <tr>\n",
       "      <th>&lt;src.optimizers.AdaSVRG.AdaSVRG object at 0x7f6aad8de410&gt;</th>\n",
       "      <td>3463.300303</td>\n",
       "      <td>(0.0005, 0.0005)</td>\n",
       "    </tr>\n",
       "    <tr>\n",
       "      <th>AdaSVRG</th>\n",
       "      <td>3463.479083</td>\n",
       "      <td>(0.0005, 0.0005)</td>\n",
       "    </tr>\n",
       "    <tr>\n",
       "      <th>SVRG</th>\n",
       "      <td>1108.383014</td>\n",
       "      <td>0.0005</td>\n",
       "    </tr>\n",
       "    <tr>\n",
       "      <th>Spider</th>\n",
       "      <td>226.716132</td>\n",
       "      <td>(0.0005, 0.0005)</td>\n",
       "    </tr>\n",
       "    <tr>\n",
       "      <th>SpiderBoost</th>\n",
       "      <td>2213.296677</td>\n",
       "      <td>0.0005</td>\n",
       "    </tr>\n",
       "  </tbody>\n",
       "</table>\n",
       "</div>"
      ],
      "text/plain": [
       "                                                           loss  \\\n",
       "method_name                                                       \n",
       "<src.optimizers.AdaSVRG.AdaSVRG object at 0x7f6...  3463.300303   \n",
       "AdaSVRG                                             3463.479083   \n",
       "SVRG                                                1108.383014   \n",
       "Spider                                               226.716132   \n",
       "SpiderBoost                                         2213.296677   \n",
       "\n",
       "                                                          parameters  \n",
       "method_name                                                           \n",
       "<src.optimizers.AdaSVRG.AdaSVRG object at 0x7f6...  (0.0005, 0.0005)  \n",
       "AdaSVRG                                             (0.0005, 0.0005)  \n",
       "SVRG                                                          0.0005  \n",
       "Spider                                              (0.0005, 0.0005)  \n",
       "SpiderBoost                                                   0.0005  "
      ]
     },
     "execution_count": 93,
     "metadata": {},
     "output_type": "execute_result"
    }
   ],
   "source": [
    "df_2 = copy(df)\n",
    "df_2['loss'] = df_2['loss'].abs()\n",
    "df_2.groupby('method_name').min()"
   ]
  },
  {
   "cell_type": "code",
   "execution_count": 65,
   "metadata": {
    "collapsed": false,
    "jupyter": {
     "outputs_hidden": false
    },
    "pycharm": {
     "name": "#%%\n"
    }
   },
   "outputs": [],
   "source": [
    "# METHODS = ['AdaSpider', 'Spider']\n",
    "# ITERATIONS = 100\n",
    "#\n",
    "# def plot_data():\n",
    "#     # Write your code to make 4x4 panel here\n",
    "#     X_LABEL = \"Stochastic oracle calls\"\n",
    "#     Y_LABEL = \"||\\u0394f(x)||^2\"\n",
    "#\n",
    "#     fig, ax = plt.subplots(3,2,figsize=(16,16), sharey=False, sharex=False)\n",
    "#\n",
    "#     for i, dataset_name in enumerate(DATASETS):\n",
    "#         sbplt = ax[i%3, i%2]\n",
    "#         print(dataset_name)\n",
    "#         for method in METHODS:\n",
    "#             if method == \"Spider\":\n",
    "#                 spider_params = SpiderParam(100, 5, 0.05)\n",
    "#                 gradients = test_method(Spider, dataset_name, ITERATIONS, spider_params)\n",
    "#             else:\n",
    "#                 gradients = test_method(ADASpider, dataset_name, ITERATIONS)\n",
    "#             gradients = [np.linalg.norm(grad, 2) for grad in gradients]\n",
    "#             sbplt.plot(gradients, label=method)\n",
    "#\n",
    "#         sbplt.set_xscale('log')\n",
    "#         sbplt.set_title(dataset_name)\n",
    "#         sbplt.set_xlabel(X_LABEL)\n",
    "#         sbplt.set_ylabel(Y_LABEL)\n",
    "#         sbplt.legend(loc='lower left')\n",
    "#\n",
    "#         break  # plot single dataset\n",
    "#\n",
    "#     fig.tight_layout(pad=2.0)\n",
    "#     # fig.savefig('tests_logistic_regression.jpg', dpi=150)\n",
    "#\n",
    "# plot_data()"
   ]
  },
  {
   "cell_type": "markdown",
   "metadata": {
    "pycharm": {
     "name": "#%% md\n"
    }
   },
   "source": []
  }
 ],
 "metadata": {
  "instance_type": "ml.m5.4xlarge",
  "kernelspec": {
   "display_name": "Python 3 (Data Science)",
   "language": "python",
   "name": "python3__SAGEMAKER_INTERNAL__arn:aws:sagemaker:eu-west-1:470317259841:image/datascience-1.0"
  },
  "language_info": {
   "codemirror_mode": {
    "name": "ipython",
    "version": 3
   },
   "file_extension": ".py",
   "mimetype": "text/x-python",
   "name": "python",
   "nbconvert_exporter": "python",
   "pygments_lexer": "ipython3",
   "version": "3.7.10"
  }
 },
 "nbformat": 4,
 "nbformat_minor": 4
}
