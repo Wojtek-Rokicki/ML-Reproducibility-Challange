{
 "cells": [
  {
   "cell_type": "code",
   "execution_count": 61,
   "id": "a675ad69",
   "metadata": {
    "scrolled": true
   },
   "outputs": [],
   "source": [
    "from keras.datasets import mnist\n",
    "import numpy as np\n",
    "from sklearn.preprocessing import OneHotEncoder\n",
    "import pandas as pd"
   ]
  },
  {
   "cell_type": "code",
   "execution_count": 72,
   "id": "df726c41",
   "metadata": {},
   "outputs": [],
   "source": [
    "from keras.utils import np_utils"
   ]
  },
  {
   "cell_type": "code",
   "execution_count": 35,
   "id": "6e6f8bde",
   "metadata": {},
   "outputs": [],
   "source": [
    "def load_data():\n",
    "    mnist = fetch_openml('mnist_784')\n",
    "    data_X = mnist.data\n",
    "    data_y = mnist.target\n",
    "    return data_X, data_y\n",
    "\n",
    "def one_hot_encode_labels(data_y):\n",
    "    return pd.get_dummies(data_y).to_numpy()"
   ]
  },
  {
   "cell_type": "code",
   "execution_count": 103,
   "id": "fab477fd",
   "metadata": {
    "scrolled": true
   },
   "outputs": [],
   "source": [
    "# load MNIST from server\n",
    "(x_train, y_train), (x_test, y_test) = mnist.load_data()"
   ]
  },
  {
   "cell_type": "code",
   "execution_count": 124,
   "id": "44ffda32",
   "metadata": {},
   "outputs": [],
   "source": [
    "def preprocess_data(x, y, min=None, max=None):\n",
    "    x = x.reshape(x.shape[0], 28 * 28, 1)\n",
    "    x = x.astype(\"float32\") / 255\n",
    "    # encode output which is a number in range [0,9] into a vector of size 10\n",
    "    # e.g. number 3 will become [0, 0, 0, 1, 0, 0, 0, 0, 0, 0]\n",
    "    y = np_utils.to_categorical(y)\n",
    "    y = y.reshape(y.shape[0], 10, 1)\n",
    "    \n",
    "    if min and max:\n",
    "        return x[min:max], y[min:max]\n",
    "    elif max:\n",
    "        return x[:max], y[:max]\n",
    "    elif min:\n",
    "        return x[min:], y[min:]\n",
    "    else:\n",
    "        return x, y"
   ]
  },
  {
   "cell_type": "code",
   "execution_count": 125,
   "id": "1d46cb82",
   "metadata": {},
   "outputs": [],
   "source": [
    "train_X, train_y = preprocess_data(x_train, y_train)\n",
    "test_X, test_y = preprocess_data(x_test, y_test)"
   ]
  },
  {
   "cell_type": "code",
   "execution_count": 126,
   "id": "e7c4d4ac",
   "metadata": {},
   "outputs": [
    {
     "data": {
      "text/plain": [
       "10000"
      ]
     },
     "execution_count": 126,
     "metadata": {},
     "output_type": "execute_result"
    }
   ],
   "source": [
    "len(test_X)"
   ]
  }
 ],
 "metadata": {
  "kernelspec": {
   "display_name": "Python 3 (ipykernel)",
   "language": "python",
   "name": "python3"
  },
  "language_info": {
   "codemirror_mode": {
    "name": "ipython",
    "version": 3
   },
   "file_extension": ".py",
   "mimetype": "text/x-python",
   "name": "python",
   "nbconvert_exporter": "python",
   "pygments_lexer": "ipython3",
   "version": "3.8.8"
  }
 },
 "nbformat": 4,
 "nbformat_minor": 5
}
