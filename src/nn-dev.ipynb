{
 "cells": [
  {
   "cell_type": "code",
   "execution_count": 1,
   "metadata": {
    "collapsed": true,
    "pycharm": {
     "name": "#%%\n"
    }
   },
   "outputs": [],
   "source": [
    "from data_management import get_mnist_dataset\n",
    "import torch\n",
    "from tqdm import tqdm"
   ]
  },
  {
   "cell_type": "markdown",
   "source": [
    "## NN"
   ],
   "metadata": {
    "collapsed": false,
    "pycharm": {
     "name": "#%% md\n"
    }
   }
  },
  {
   "cell_type": "code",
   "execution_count": 2,
   "outputs": [],
   "source": [
    "import torch.nn.functional as F\n",
    "import torch.nn as nn"
   ],
   "metadata": {
    "collapsed": false,
    "pycharm": {
     "name": "#%%\n"
    }
   }
  },
  {
   "cell_type": "code",
   "execution_count": 25,
   "outputs": [],
   "source": [
    "class Net(nn.Module):\n",
    "    def __init__(self):\n",
    "        super(Net, self).__init__()\n",
    "        self.flatten = nn.Flatten()\n",
    "        self.linear_relu_stack = nn.Sequential(\n",
    "            nn.Linear(784, 128),\n",
    "            nn.ReLU(),\n",
    "            nn.Linear(128, 64),\n",
    "            nn.ReLU(),\n",
    "            nn.Linear(64, 10)\n",
    "            ## Softmax layer ignored since the loss function defined is nn.CrossEntropy()\n",
    "        )\n",
    "\n",
    "    def forward(self, x):\n",
    "        x = self.flatten(x)\n",
    "        logits = self.linear_relu_stack(x)\n",
    "        return  logits\n",
    "\n",
    "loss_function = nn.CrossEntropyLoss()\n",
    "\n",
    "\n",
    "def train(model, device, train_loader, optimizer, epochs):\n",
    "    for epoch in range(epochs+1):\n",
    "        model.train()\n",
    "        loss_vals = list()\n",
    "        with tqdm(total=len(train_loader)) as pbar:\n",
    "            for data, target in train_loader:\n",
    "                data, target = data.to(device), target.to(device)\n",
    "\n",
    "                output = model(data)  # forward pass\n",
    "\n",
    "                loss = loss_function(output, target)\n",
    "                loss_vals.append(loss.cpu().item())\n",
    "                optimizer.zero_grad()  # clean gradient from last iteration\n",
    "                loss.backward()  # backprop\n",
    "                optimizer.step()  # optimize\n",
    "\n",
    "                # tqdm bar\n",
    "\n",
    "                desc = f\"epoch: [{epoch+1}/{epochs}] loss: {np.mean(loss_vals):.4f}\"\n",
    "                pbar.set_description(desc)\n",
    "                pbar.update()\n",
    "\n",
    "        return loss_vals\n",
    "\n",
    "\n",
    "# def test(model, device, test_loader):\n",
    "#     model.eval()\n",
    "#     test_loss = 0\n",
    "#     correct = 0\n",
    "#     with tqdm(total=len(train_loader)) as pbar:\n",
    "#         for data, target in test_loader:\n",
    "#             data, target = data.to(device), target.to(device)\n",
    "#             output = model(data)\n",
    "#             test_loss += F.nll_loss(output, target, reduction='sum').item()  # sum up batch loss\n",
    "#             pred = output.argmax(dim=1, keepdim=True)  # get the index of the max log-probability\n",
    "#             correct += pred.eq(target.view_as(pred)).sum().item()\n",
    "#\n",
    "#     test_loss /= len(test_loader.dataset)\n",
    "#\n",
    "#     print('\\nTest set: Average loss: {:.4f}, Accuracy: {}/{} ({:.0f}%)\\n'.format(\n",
    "#         test_loss, correct, len(test_loader.dataset),\n",
    "#         100. * correct / len(test_loader.dataset)))"
   ],
   "metadata": {
    "collapsed": false,
    "pycharm": {
     "name": "#%%\n"
    }
   }
  },
  {
   "cell_type": "markdown",
   "source": [
    "## RUN NN"
   ],
   "metadata": {
    "collapsed": false,
    "pycharm": {
     "name": "#%% md\n"
    }
   }
  },
  {
   "cell_type": "code",
   "execution_count": 13,
   "outputs": [],
   "source": [],
   "metadata": {
    "collapsed": false,
    "pycharm": {
     "name": "#%%\n"
    }
   }
  },
  {
   "cell_type": "code",
   "execution_count": 14,
   "outputs": [],
   "source": [
    "device = torch.device(\"cuda\")"
   ],
   "metadata": {
    "collapsed": false,
    "pycharm": {
     "name": "#%%\n"
    }
   }
  },
  {
   "cell_type": "code",
   "execution_count": 15,
   "outputs": [],
   "source": [
    "train_data = get_mnist_dataset(train=True)\n",
    "test_data = get_mnist_dataset(train=False)\n",
    "train_loader = torch.utils.data.DataLoader(train_data, batch_size=64)\n",
    "test_loader = torch.utils.data.DataLoader(test_data, batch_size=64)"
   ],
   "metadata": {
    "collapsed": false,
    "pycharm": {
     "name": "#%%\n"
    }
   }
  },
  {
   "cell_type": "markdown",
   "source": [
    "### Spider"
   ],
   "metadata": {
    "collapsed": false,
    "pycharm": {
     "name": "#%% md\n"
    }
   }
  },
  {
   "cell_type": "code",
   "execution_count": 16,
   "outputs": [],
   "source": [
    "def grad_mse_array(data, params, targets):\n",
    "    return -1 / data.shape[0] * data.T @ (targets - data @ params)\n",
    "\n",
    "def grad_array(data, w, targets):\n",
    "    return grad_mse_array(data, w, targets)"
   ],
   "metadata": {
    "collapsed": false,
    "pycharm": {
     "name": "#%%\n"
    }
   }
  },
  {
   "cell_type": "code",
   "execution_count": 44,
   "outputs": [
    {
     "name": "stderr",
     "output_type": "stream",
     "text": [
      "epoch: [1/0] loss: 0.5427: 100%|██████████| 938/938 [00:26<00:00, 36.04it/s]\n"
     ]
    }
   ],
   "source": [
    "import numpy as np\n",
    "import torch\n",
    "import math\n",
    "from torch.optim import Optimizer\n",
    "import os\n",
    "\n",
    "class Spider(Optimizer):\n",
    "    \"\"\"Take a coordinate descent step for a random parameter.\n",
    "    And also, make every 100th step way bigger.\"\"\"\n",
    "    def __init__(self, parameters, n_samples):\n",
    "        defaults = {\n",
    "            \"n_samples\": n_samples\n",
    "        }\n",
    "        super().__init__(parameters, defaults)\n",
    "\n",
    "    def step(self, closure=None):\n",
    "        n_samples = self.defaults.get(\"n_samples\")\n",
    "\n",
    "        loss = None\n",
    "        if closure is not None:\n",
    "            loss = closure()\n",
    "\n",
    "        if not self.state:\n",
    "            self.state = {\n",
    "                \"step\": 1,\n",
    "                \"q_k\": int(math.sqrt(n_samples)),\n",
    "                \"grad_last\": None,\n",
    "                \"v_previous\": None,\n",
    "            }\n",
    "        else:\n",
    "            self.state[\"step\"] += 1\n",
    "\n",
    "        for group in self.param_groups:\n",
    "            for param in group['params']:\n",
    "                if param.grad is None:\n",
    "                    continue\n",
    "\n",
    "                grad = param.grad.data\n",
    "\n",
    "                # SPIDER ALGO\n",
    "                q_k = self.state.get(\"q_k\")\n",
    "                v_k = 0\n",
    "                q_k = param.shape[0]\n",
    "                if self.state[\"step\"] % q_k == 0:\n",
    "                    v_k = grad\n",
    "                else:\n",
    "                    v_previous = self.state[\"v_previous\"]\n",
    "                    grad_last = self.state[\"grad_last\"]\n",
    "                    if grad_last is not None and v_previous is not None:\n",
    "                        grad_last = torch.Tensor(grad_last)\n",
    "                        print(grad_last.shape)\n",
    "                        v_k = (grad.data.cpu() - grad_last) + v_previous\n",
    "\n",
    "                print(grad.data.cpu().shape)\n",
    "                self.state[\"grad_last\"] = np.copy(grad.data.cpu())\n",
    "                self.state[\"v_previous\"] = np.copy(v_k)\n",
    "\n",
    "                param.data = param.data - 0.2 *v_k\n",
    "\n",
    "        return loss\n",
    "\n",
    "\n",
    "model = Net().to(device)\n",
    "model.parameters()\n",
    "\n",
    "# optimizer = Spider(model.parameters(), len(train_data))\n",
    "optimizer = torch.optim.SGD(model.parameters(), lr=0.01, momentum=0.9)\n",
    "\n",
    "# with torch.no_grad():\n",
    "for epoch in range(0, 1):\n",
    "    loss_values = train(model, device, train_loader, optimizer, epoch)"
   ],
   "metadata": {
    "collapsed": false,
    "pycharm": {
     "name": "#%%\n"
    }
   }
  },
  {
   "cell_type": "code",
   "execution_count": 33,
   "outputs": [],
   "source": [
    "import matplotlib.pyplot as plt"
   ],
   "metadata": {
    "collapsed": false,
    "pycharm": {
     "name": "#%%\n"
    }
   }
  },
  {
   "cell_type": "code",
   "execution_count": 45,
   "outputs": [
    {
     "data": {
      "text/plain": "[<matplotlib.lines.Line2D at 0x2a508cd3b80>]"
     },
     "execution_count": 45,
     "metadata": {},
     "output_type": "execute_result"
    },
    {
     "data": {
      "text/plain": "<Figure size 432x288 with 1 Axes>",
      "image/png": "[encoded data removed]"
     },
     "metadata": {
      "needs_background": "light"
     },
     "output_type": "display_data"
    }
   ],
   "source": [
    "plt.plot(loss_values)"
   ],
   "metadata": {
    "collapsed": false,
    "pycharm": {
     "name": "#%%\n"
    }
   }
  }
 ],
 "metadata": {
  "kernelspec": {
   "display_name": "Python 3",
   "language": "python",
   "name": "python3"
  },
  "language_info": {
   "codemirror_mode": {
    "name": "ipython",
    "version": 2
   },
   "file_extension": ".py",
   "mimetype": "text/x-python",
   "name": "python",
   "nbconvert_exporter": "python",
   "pygments_lexer": "ipython2",
   "version": "2.7.6"
  }
 },
 "nbformat": 4,
 "nbformat_minor": 0
}