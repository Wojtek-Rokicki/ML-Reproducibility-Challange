{
 "cells": [
  {
   "cell_type": "code",
   "execution_count": 1,
   "metadata": {},
   "outputs": [],
   "source": [
    "import numpy as np\n",
    "from ADASpider import ADASpider\n",
    "from AdaSpiderUtil import *"
   ]
  },
  {
   "cell_type": "code",
   "execution_count": 2,
   "metadata": {},
   "outputs": [
    {
     "data": {
      "text/plain": [
       "((4, 3), (4,), (3,))"
      ]
     },
     "execution_count": 2,
     "metadata": {},
     "output_type": "execute_result"
    }
   ],
   "source": [
    "# test arrays\n",
    "tx = np.ones((4,3))\n",
    "y = np.ones(tx.shape[0])\n",
    "w_0 = np.zeros(tx.shape[1])\n",
    "tx.shape, y.shape, w_0.shape"
   ]
  },
  {
   "cell_type": "code",
   "execution_count": 5,
   "metadata": {},
   "outputs": [],
   "source": [
    "w = [w_0]\n",
    "t = 0"
   ]
  },
  {
   "cell_type": "code",
   "execution_count": 6,
   "metadata": {},
   "outputs": [],
   "source": [
    "# gradient of the logistic loss function\n",
    "def gradient(y, tx, w):\n",
    "    lamb = 0.5\n",
    "    pred = sigmoid(np.dot(tx,w))\n",
    "    grad = tx.T.dot(pred - y) * (1 / y.size) + 2 * lamb * nonconvex(w)\n",
    "    return grad"
   ]
  },
  {
   "cell_type": "code",
   "execution_count": 8,
   "metadata": {},
   "outputs": [],
   "source": [
    "grads = []\n",
    "t_grad = gradient(y,tx,w[t])"
   ]
  },
  {
   "cell_type": "markdown",
   "metadata": {},
   "source": [
    "logistics Gradient function works"
   ]
  },
  {
   "cell_type": "code",
   "execution_count": 9,
   "metadata": {},
   "outputs": [],
   "source": [
    "# compute stochastic gradient\n",
    "def sto_grad(y, tx, w, i_t):\n",
    "    y_sgd = y[i_t]\n",
    "    x_sgd = tx[i_t,:]\n",
    "    return gradient(y_sgd, x_sgd, w)"
   ]
  },
  {
   "cell_type": "code",
   "execution_count": 10,
   "metadata": {},
   "outputs": [
    {
     "data": {
      "text/plain": [
       "2"
      ]
     },
     "execution_count": 10,
     "metadata": {},
     "output_type": "execute_result"
    }
   ],
   "source": [
    "i_t = np.random.choice(np.arange(len(y)))\n",
    "i_t"
   ]
  },
  {
   "cell_type": "code",
   "execution_count": 11,
   "metadata": {},
   "outputs": [],
   "source": [
    "s_grad = sto_grad(y, tx, w[t], i_t)"
   ]
  },
  {
   "cell_type": "markdown",
   "metadata": {},
   "source": [
    "logistic stochastic gradient works"
   ]
  },
  {
   "cell_type": "code",
   "execution_count": 12,
   "metadata": {},
   "outputs": [],
   "source": [
    "grads.append(t_grad)\n",
    "grads.append(s_grad)"
   ]
  },
  {
   "cell_type": "code",
   "execution_count": 13,
   "metadata": {},
   "outputs": [],
   "source": [
    "def grad_sum(grads):\n",
    "    temp = []\n",
    "    for s in range(len(grads)):\n",
    "        norm = np.linalg.norm(grads[s])**2\n",
    "        temp.append(norm)\n",
    "    return np.sum(temp)"
   ]
  },
  {
   "cell_type": "code",
   "execution_count": 14,
   "metadata": {},
   "outputs": [
    {
     "data": {
      "text/plain": [
       "1.4999999999999998"
      ]
     },
     "execution_count": 14,
     "metadata": {},
     "output_type": "execute_result"
    }
   ],
   "source": [
    "grad_sum(grads)"
   ]
  },
  {
   "cell_type": "markdown",
   "metadata": {},
   "source": [
    "grad_sum function works"
   ]
  },
  {
   "cell_type": "code",
   "execution_count": 15,
   "metadata": {},
   "outputs": [],
   "source": [
    "def ADASpider(w_0, tx, y, max_iter):\n",
    "    grads = []\n",
    "    w = [w_0]\n",
    "    n = len(y)\n",
    "\n",
    "    for t in range(max_iter):\n",
    "        if t % n == 0:\n",
    "            t_grad = gradient(tx, y, w[t])\n",
    "        else:\n",
    "            i_t = np.random.choice(np.arange(len(y)))\n",
    "            t_grad = sto_grad(y, tx, w[t], i_t) - sto_grad(y, tx, w[t-1], i_t) - grads[t-1]\n",
    "        \n",
    "        grads.append(t_grad)\n",
    "        gamma = 1 / (n**(1/4) * np.sqrt(np.sqrt(n) + grad_sum(grads)))\n",
    "\n",
    "        w_next = w[t] - gamma * t_grad\n",
    "        w.append(w_next)\n",
    "\n",
    "    return w"
   ]
  },
  {
   "cell_type": "code",
   "execution_count": 16,
   "metadata": {},
   "outputs": [
    {
     "ename": "ValueError",
     "evalue": "shapes (4,) and (3,) not aligned: 4 (dim 0) != 3 (dim 0)",
     "output_type": "error",
     "traceback": [
      "\u001b[0;31m---------------------------------------------------------------------------\u001b[0m",
      "\u001b[0;31mValueError\u001b[0m                                Traceback (most recent call last)",
      "\u001b[1;32m/Volumes/External SSD/ML-Reproducibility-Challange/code/test.ipynb Cell 16\u001b[0m in \u001b[0;36m<cell line: 1>\u001b[0;34m()\u001b[0m\n\u001b[0;32m----> <a href='vscode-notebook-cell:/Volumes/External%20SSD/ML-Reproducibility-Challange/code/test.ipynb#X10sZmlsZQ%3D%3D?line=0'>1</a>\u001b[0m ADASpider(w_0, tx, y, \u001b[39m1\u001b[39;49m)\n",
      "\u001b[1;32m/Volumes/External SSD/ML-Reproducibility-Challange/code/test.ipynb Cell 16\u001b[0m in \u001b[0;36mADASpider\u001b[0;34m(w_0, tx, y, max_iter)\u001b[0m\n\u001b[1;32m      <a href='vscode-notebook-cell:/Volumes/External%20SSD/ML-Reproducibility-Challange/code/test.ipynb#X10sZmlsZQ%3D%3D?line=5'>6</a>\u001b[0m \u001b[39mfor\u001b[39;00m t \u001b[39min\u001b[39;00m \u001b[39mrange\u001b[39m(max_iter):\n\u001b[1;32m      <a href='vscode-notebook-cell:/Volumes/External%20SSD/ML-Reproducibility-Challange/code/test.ipynb#X10sZmlsZQ%3D%3D?line=6'>7</a>\u001b[0m     \u001b[39mif\u001b[39;00m t \u001b[39m%\u001b[39m n \u001b[39m==\u001b[39m \u001b[39m0\u001b[39m:\n\u001b[0;32m----> <a href='vscode-notebook-cell:/Volumes/External%20SSD/ML-Reproducibility-Challange/code/test.ipynb#X10sZmlsZQ%3D%3D?line=7'>8</a>\u001b[0m         t_grad \u001b[39m=\u001b[39m gradient(tx, y, w[t])\n\u001b[1;32m      <a href='vscode-notebook-cell:/Volumes/External%20SSD/ML-Reproducibility-Challange/code/test.ipynb#X10sZmlsZQ%3D%3D?line=8'>9</a>\u001b[0m     \u001b[39melse\u001b[39;00m:\n\u001b[1;32m     <a href='vscode-notebook-cell:/Volumes/External%20SSD/ML-Reproducibility-Challange/code/test.ipynb#X10sZmlsZQ%3D%3D?line=9'>10</a>\u001b[0m         i_t \u001b[39m=\u001b[39m np\u001b[39m.\u001b[39mrandom\u001b[39m.\u001b[39mchoice(np\u001b[39m.\u001b[39marange(\u001b[39mlen\u001b[39m(y)))\n",
      "\u001b[1;32m/Volumes/External SSD/ML-Reproducibility-Challange/code/test.ipynb Cell 16\u001b[0m in \u001b[0;36mgradient\u001b[0;34m(y, tx, w)\u001b[0m\n\u001b[1;32m      <a href='vscode-notebook-cell:/Volumes/External%20SSD/ML-Reproducibility-Challange/code/test.ipynb#X10sZmlsZQ%3D%3D?line=1'>2</a>\u001b[0m \u001b[39mdef\u001b[39;00m \u001b[39mgradient\u001b[39m(y, tx, w):\n\u001b[1;32m      <a href='vscode-notebook-cell:/Volumes/External%20SSD/ML-Reproducibility-Challange/code/test.ipynb#X10sZmlsZQ%3D%3D?line=2'>3</a>\u001b[0m     lamb \u001b[39m=\u001b[39m \u001b[39m0.5\u001b[39m\n\u001b[0;32m----> <a href='vscode-notebook-cell:/Volumes/External%20SSD/ML-Reproducibility-Challange/code/test.ipynb#X10sZmlsZQ%3D%3D?line=3'>4</a>\u001b[0m     pred \u001b[39m=\u001b[39m sigmoid(np\u001b[39m.\u001b[39;49mdot(tx,w))\n\u001b[1;32m      <a href='vscode-notebook-cell:/Volumes/External%20SSD/ML-Reproducibility-Challange/code/test.ipynb#X10sZmlsZQ%3D%3D?line=4'>5</a>\u001b[0m     grad \u001b[39m=\u001b[39m tx\u001b[39m.\u001b[39mT\u001b[39m.\u001b[39mdot(pred \u001b[39m-\u001b[39m y) \u001b[39m*\u001b[39m (\u001b[39m1\u001b[39m \u001b[39m/\u001b[39m y\u001b[39m.\u001b[39msize) \u001b[39m+\u001b[39m \u001b[39m2\u001b[39m \u001b[39m*\u001b[39m lamb \u001b[39m*\u001b[39m nonconvex(w)\n\u001b[1;32m      <a href='vscode-notebook-cell:/Volumes/External%20SSD/ML-Reproducibility-Challange/code/test.ipynb#X10sZmlsZQ%3D%3D?line=5'>6</a>\u001b[0m     \u001b[39mreturn\u001b[39;00m grad\n",
      "File \u001b[0;32m<__array_function__ internals>:5\u001b[0m, in \u001b[0;36mdot\u001b[0;34m(*args, **kwargs)\u001b[0m\n",
      "\u001b[0;31mValueError\u001b[0m: shapes (4,) and (3,) not aligned: 4 (dim 0) != 3 (dim 0)"
     ]
    }
   ],
   "source": [
    "ADASpider(w_0, tx, y, 1)"
   ]
  },
  {
   "cell_type": "code",
   "execution_count": null,
   "metadata": {},
   "outputs": [],
   "source": []
  }
 ],
 "metadata": {
  "kernelspec": {
   "display_name": "Python 3.9.13 ('MachineLearning')",
   "language": "python",
   "name": "python3"
  },
  "language_info": {
   "codemirror_mode": {
    "name": "ipython",
    "version": 3
   },
   "file_extension": ".py",
   "mimetype": "text/x-python",
   "name": "python",
   "nbconvert_exporter": "python",
   "pygments_lexer": "ipython3",
   "version": "3.9.13"
  },
  "orig_nbformat": 4,
  "vscode": {
   "interpreter": {
    "hash": "c27df67a6d6ac5399fff7c448ca29924bda783c2e4e6eda1f6b50284d0affdd6"
   }
  }
 },
 "nbformat": 4,
 "nbformat_minor": 2
}
