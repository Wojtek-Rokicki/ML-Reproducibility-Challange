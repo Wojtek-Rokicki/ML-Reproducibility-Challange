{
 "cells": [
  {
   "cell_type": "code",
   "execution_count": 18,
   "metadata": {},
   "outputs": [],
   "source": [
    "import tensorflow as tf"
   ]
  },
  {
   "cell_type": "code",
   "execution_count": 31,
   "metadata": {},
   "outputs": [],
   "source": [
    "# import mnist data\n",
    "mnist = tf.keras.datasets.mnist\n",
    "\n",
    "(x_train, y_train), (x_test, y_test) = mnist.load_data()\n",
    "x_train, x_test = x_train / 255.0, x_test / 255.0\n",
    "\n",
    "# Add a channels dimension\n",
    "x_train, x_test = x_train[..., tf.newaxis].astype(\"float32\"), x_test[..., tf.newaxis].astype(\"float32\")\n",
    "y_train, y_test = x_test.astype(\"float32\"), y_test.astype(\"float32\")"
   ]
  },
  {
   "cell_type": "code",
   "execution_count": 20,
   "metadata": {},
   "outputs": [],
   "source": [
    "# Create batches from the mnist data\n",
    "train_ds = tf.data.Dataset.from_tensor_slices(\n",
    "    (x_train, y_train)).shuffle(10000).batch(32)\n",
    "\n",
    "test_ds = tf.data.Dataset.from_tensor_slices((x_test, y_test)).batch(32)"
   ]
  },
  {
   "cell_type": "code",
   "execution_count": 36,
   "metadata": {},
   "outputs": [],
   "source": [
    "# Define the Neural Network\n",
    "model = tf.keras.models.Sequential([\n",
    "    tf.keras.layers.Flatten(input_shape=(28, 28)),      # input layer, rehaping image into vectors\n",
    "    tf.keras.layers.Dense(512, activation='elu', kernel_initializer='he_uniform'),       # applying a linear layer with activation function\n",
    "    tf.keras.layers.Dense(512, activation='elu', kernel_initializer='he_uniform'),\n",
    "    tf.keras.layers.Dropout(0.2),                       # randomly sets inputs to zero at rate of 0.2 steps, reducing overfitting\n",
    "    tf.keras.layers.Dense(10)                           # output layer\n",
    "])"
   ]
  },
  {
   "cell_type": "code",
   "execution_count": 27,
   "metadata": {},
   "outputs": [],
   "source": [
    "# Define the cross entropy loss function\n",
    "cross_loss = tf.keras.losses.SparseCategoricalCrossentropy(from_logits=True)"
   ]
  },
  {
   "cell_type": "code",
   "execution_count": 23,
   "metadata": {},
   "outputs": [],
   "source": [
    "# Define the optimizer, in this case, it is AdaGrad\n",
    "adagrad = tf.keras.optimizers.experimental.Adagrad(learning_rate=0.01, epsilon=1e-04)"
   ]
  },
  {
   "cell_type": "code",
   "execution_count": 24,
   "metadata": {},
   "outputs": [],
   "source": [
    "# Computing the average loss and accuracy for each batch\n",
    "train_loss = tf.keras.metrics.Mean(name='train_loss')\n",
    "train_accuracy = tf.keras.metrics.SparseCategoricalAccuracy(name='train_accuracy')\n",
    "\n",
    "test_loss = tf.keras.metrics.Mean(name='test_loss')\n",
    "test_accuracy = tf.keras.metrics.SparseCategoricalAccuracy(name='test_accuracy')"
   ]
  },
  {
   "cell_type": "code",
   "execution_count": 28,
   "metadata": {},
   "outputs": [],
   "source": [
    "# Define our training and testing steps\n",
    "@tf.function\n",
    "def train_step(images, labels):\n",
    "  with tf.GradientTape() as tape:\n",
    "    predictions = model(images, training=True)\n",
    "    loss = cross_loss(labels, predictions)\n",
    "  gradients = tape.gradient(loss, model.trainable_variables)\n",
    "  adagrad.apply_gradients(zip(gradients, model.trainable_variables))\n",
    "\n",
    "  train_loss(loss)\n",
    "  train_accuracy(labels, predictions)\n",
    "\n",
    "@tf.function\n",
    "def test_step(images, labels):\n",
    "  predictions = model(images, training=False)\n",
    "  t_loss = cross_loss(labels, predictions)\n",
    "\n",
    "  test_loss(t_loss)\n",
    "  test_accuracy(labels, predictions)"
   ]
  },
  {
   "cell_type": "code",
   "execution_count": 37,
   "metadata": {},
   "outputs": [
    {
     "name": "stdout",
     "output_type": "stream",
     "text": [
      "Epoch 1, Loss: 0.06770087033510208, Accuracy: 98.0183334350586, Test Loss: 0.08478207886219025, Test Accuracy: 97.43999481201172\n",
      "Epoch 2, Loss: 0.06400670111179352, Accuracy: 98.02667236328125, Test Loss: 0.08204759657382965, Test Accuracy: 97.53999328613281\n",
      "Epoch 3, Loss: 0.061353616416454315, Accuracy: 98.15833282470703, Test Loss: 0.0816703587770462, Test Accuracy: 97.53999328613281\n",
      "Epoch 4, Loss: 0.05885535478591919, Accuracy: 98.24500274658203, Test Loss: 0.07855336368083954, Test Accuracy: 97.6199951171875\n",
      "Epoch 5, Loss: 0.05487972870469093, Accuracy: 98.36666870117188, Test Loss: 0.07714438438415527, Test Accuracy: 97.56999969482422\n"
     ]
    }
   ],
   "source": [
    "# Training the model\n",
    "\n",
    "EPOCHS = 5\n",
    "\n",
    "for epoch in range(EPOCHS):\n",
    "  # Reset the metrics at the start of the next epoch\n",
    "  train_loss.reset_states()\n",
    "  train_accuracy.reset_states()\n",
    "  test_loss.reset_states()\n",
    "  test_accuracy.reset_states()\n",
    "\n",
    "  for images, labels in train_ds:\n",
    "    train_step(images, labels)\n",
    "\n",
    "  for test_images, test_labels in test_ds:\n",
    "    test_step(test_images, test_labels)\n",
    "\n",
    "  print(\n",
    "    f'Epoch {epoch + 1}, '\n",
    "    f'Loss: {train_loss.result()}, '\n",
    "    f'Accuracy: {train_accuracy.result() * 100}, '\n",
    "    f'Test Loss: {test_loss.result()}, '\n",
    "    f'Test Accuracy: {test_accuracy.result() * 100}'\n",
    "  )"
   ]
  },
  {
   "cell_type": "code",
   "execution_count": null,
   "metadata": {},
   "outputs": [],
   "source": []
  }
 ],
 "metadata": {
  "kernelspec": {
   "display_name": "Python 3.10.8 ('tensorflow')",
   "language": "python",
   "name": "python3"
  },
  "language_info": {
   "codemirror_mode": {
    "name": "ipython",
    "version": 3
   },
   "file_extension": ".py",
   "mimetype": "text/x-python",
   "name": "python",
   "nbconvert_exporter": "python",
   "pygments_lexer": "ipython3",
   "version": "3.10.8"
  },
  "orig_nbformat": 4,
  "vscode": {
   "interpreter": {
    "hash": "302c105f7d704774145b5779d4dbd1bbc67b9915bf3ba9b32e8cbe0f45b4034a"
   }
  }
 },
 "nbformat": 4,
 "nbformat_minor": 2
}
