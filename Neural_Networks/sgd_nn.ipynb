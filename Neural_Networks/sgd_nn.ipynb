{
 "cells": [
  {
   "cell_type": "code",
   "execution_count": 1,
   "metadata": {},
   "outputs": [],
   "source": [
    "import tensorflow as tf\n",
    "import keras\n",
    "from tensorflow.keras.losses import Loss"
   ]
  },
  {
   "cell_type": "code",
   "execution_count": 30,
   "metadata": {},
   "outputs": [],
   "source": [
    "# Loss function\n",
    "class Custom_Loss(Loss):\n",
    "    def __init__(self):\n",
    "        super().__init__()\n",
    "    \n",
    "    def call(self, y_true, y_pred):\n",
    "        y_pred = tf.nn.softmax(y_pred)\n",
    "        y_true = tf.nn.softmax(y_true)\n",
    "\n",
    "        return tf.math.reduce_logsumexp(y_pred) - tf.tensordot(tf.transpose(y_true), y_pred, axes=0)"
   ]
  },
  {
   "cell_type": "code",
   "execution_count": 22,
   "metadata": {},
   "outputs": [],
   "source": [
    "mnist = tf.keras.datasets.mnist"
   ]
  },
  {
   "cell_type": "code",
   "execution_count": 23,
   "metadata": {},
   "outputs": [],
   "source": [
    "(x_train, y_train), (x_test, y_test) = mnist.load_data()\n",
    "x_train, x_test = x_train / 255.0, x_test / 255.0\n",
    "x_train, y_train = tf.cast(x_train, tf.float32), tf.cast(y_train, tf.float32)\n",
    "x_test, y_test = tf.cast(x_test, tf.float32), tf.cast(y_test, tf.float32)"
   ]
  },
  {
   "cell_type": "code",
   "execution_count": 38,
   "metadata": {},
   "outputs": [],
   "source": [
    "model = tf.keras.models.Sequential([\n",
    "    tf.keras.layers.Flatten(input_shape=(28, 28)),      # input layer, rehaping image into vectors\n",
    "    tf.keras.layers.Dense(512, activation='elu'),       # applying a linear layer with activation function\n",
    "    tf.keras.layers.Dense(512, activation='elu'),\n",
    "    tf.keras.layers.Dropout(0.2),                       # randomly sets inputs to zero at rate of 0.2 steps, reducing overfitting\n",
    "    tf.keras.layers.Dense(10)                           # output layer\n",
    "])"
   ]
  },
  {
   "cell_type": "code",
   "execution_count": 37,
   "metadata": {},
   "outputs": [],
   "source": [
    "loss = tf.keras.losses.SparseCategoricalCrossentropy(from_logits=True)"
   ]
  },
  {
   "cell_type": "code",
   "execution_count": 41,
   "metadata": {},
   "outputs": [],
   "source": [
    "adagrad = tf.keras.optimizers.experimental.Adagrad(learning_rate=0.01, epsilon=1e-04)"
   ]
  },
  {
   "cell_type": "code",
   "execution_count": 42,
   "metadata": {},
   "outputs": [
    {
     "name": "stdout",
     "output_type": "stream",
     "text": [
      "Epoch 1/100\n",
      "1875/1875 - 5s - loss: 0.0181 - accuracy: 0.9941 - 5s/epoch - 3ms/step\n",
      "Epoch 2/100\n",
      "1875/1875 - 5s - loss: 0.0166 - accuracy: 0.9947 - 5s/epoch - 3ms/step\n",
      "Epoch 3/100\n",
      "1875/1875 - 5s - loss: 0.0151 - accuracy: 0.9952 - 5s/epoch - 3ms/step\n",
      "Epoch 4/100\n",
      "1875/1875 - 5s - loss: 0.0139 - accuracy: 0.9956 - 5s/epoch - 3ms/step\n",
      "Epoch 5/100\n",
      "1875/1875 - 5s - loss: 0.0122 - accuracy: 0.9963 - 5s/epoch - 3ms/step\n",
      "Epoch 6/100\n",
      "1875/1875 - 5s - loss: 0.0120 - accuracy: 0.9966 - 5s/epoch - 3ms/step\n",
      "Epoch 7/100\n",
      "1875/1875 - 5s - loss: 0.0100 - accuracy: 0.9971 - 5s/epoch - 3ms/step\n",
      "Epoch 8/100\n",
      "1875/1875 - 5s - loss: 0.0097 - accuracy: 0.9972 - 5s/epoch - 3ms/step\n",
      "Epoch 9/100\n",
      "1875/1875 - 5s - loss: 0.0088 - accuracy: 0.9976 - 5s/epoch - 3ms/step\n",
      "Epoch 10/100\n",
      "1875/1875 - 5s - loss: 0.0083 - accuracy: 0.9978 - 5s/epoch - 3ms/step\n",
      "Epoch 11/100\n",
      "1875/1875 - 5s - loss: 0.0077 - accuracy: 0.9982 - 5s/epoch - 3ms/step\n",
      "Epoch 12/100\n",
      "1875/1875 - 5s - loss: 0.0075 - accuracy: 0.9981 - 5s/epoch - 3ms/step\n",
      "Epoch 13/100\n",
      "1875/1875 - 5s - loss: 0.0066 - accuracy: 0.9987 - 5s/epoch - 3ms/step\n",
      "Epoch 14/100\n",
      "1875/1875 - 5s - loss: 0.0065 - accuracy: 0.9985 - 5s/epoch - 3ms/step\n",
      "Epoch 15/100\n",
      "1875/1875 - 5s - loss: 0.0064 - accuracy: 0.9984 - 5s/epoch - 3ms/step\n",
      "Epoch 16/100\n",
      "1875/1875 - 5s - loss: 0.0057 - accuracy: 0.9988 - 5s/epoch - 3ms/step\n",
      "Epoch 17/100\n",
      "1875/1875 - 5s - loss: 0.0060 - accuracy: 0.9986 - 5s/epoch - 3ms/step\n",
      "Epoch 18/100\n",
      "1875/1875 - 5s - loss: 0.0058 - accuracy: 0.9986 - 5s/epoch - 3ms/step\n",
      "Epoch 19/100\n",
      "1875/1875 - 5s - loss: 0.0047 - accuracy: 0.9992 - 5s/epoch - 3ms/step\n",
      "Epoch 20/100\n",
      "1875/1875 - 5s - loss: 0.0056 - accuracy: 0.9986 - 5s/epoch - 3ms/step\n",
      "Epoch 21/100\n",
      "1875/1875 - 5s - loss: 0.0047 - accuracy: 0.9991 - 5s/epoch - 3ms/step\n",
      "Epoch 22/100\n",
      "1875/1875 - 5s - loss: 0.0043 - accuracy: 0.9991 - 5s/epoch - 3ms/step\n",
      "Epoch 23/100\n",
      "1875/1875 - 5s - loss: 0.0046 - accuracy: 0.9990 - 5s/epoch - 3ms/step\n",
      "Epoch 24/100\n",
      "1875/1875 - 5s - loss: 0.0038 - accuracy: 0.9994 - 5s/epoch - 3ms/step\n",
      "Epoch 25/100\n",
      "1875/1875 - 5s - loss: 0.0042 - accuracy: 0.9991 - 5s/epoch - 3ms/step\n",
      "Epoch 26/100\n",
      "1875/1875 - 5s - loss: 0.0035 - accuracy: 0.9996 - 5s/epoch - 3ms/step\n",
      "Epoch 27/100\n",
      "1875/1875 - 5s - loss: 0.0037 - accuracy: 0.9993 - 5s/epoch - 3ms/step\n",
      "Epoch 28/100\n",
      "1875/1875 - 6s - loss: 0.0034 - accuracy: 0.9995 - 6s/epoch - 3ms/step\n",
      "Epoch 29/100\n",
      "1875/1875 - 6s - loss: 0.0031 - accuracy: 0.9996 - 6s/epoch - 3ms/step\n",
      "Epoch 30/100\n",
      "1875/1875 - 6s - loss: 0.0031 - accuracy: 0.9995 - 6s/epoch - 3ms/step\n",
      "Epoch 31/100\n",
      "1875/1875 - 6s - loss: 0.0031 - accuracy: 0.9996 - 6s/epoch - 3ms/step\n",
      "Epoch 32/100\n",
      "1875/1875 - 6s - loss: 0.0027 - accuracy: 0.9997 - 6s/epoch - 3ms/step\n",
      "Epoch 33/100\n",
      "1875/1875 - 7s - loss: 0.0027 - accuracy: 0.9996 - 7s/epoch - 4ms/step\n",
      "Epoch 34/100\n",
      "1875/1875 - 7s - loss: 0.0031 - accuracy: 0.9996 - 7s/epoch - 4ms/step\n",
      "Epoch 35/100\n",
      "1875/1875 - 7s - loss: 0.0024 - accuracy: 0.9998 - 7s/epoch - 4ms/step\n",
      "Epoch 36/100\n",
      "1875/1875 - 7s - loss: 0.0026 - accuracy: 0.9996 - 7s/epoch - 4ms/step\n",
      "Epoch 37/100\n",
      "1875/1875 - 8s - loss: 0.0025 - accuracy: 0.9997 - 8s/epoch - 4ms/step\n",
      "Epoch 38/100\n",
      "1875/1875 - 8s - loss: 0.0027 - accuracy: 0.9995 - 8s/epoch - 4ms/step\n",
      "Epoch 39/100\n",
      "1875/1875 - 9s - loss: 0.0024 - accuracy: 0.9997 - 9s/epoch - 5ms/step\n",
      "Epoch 40/100\n",
      "1875/1875 - 9s - loss: 0.0023 - accuracy: 0.9997 - 9s/epoch - 5ms/step\n",
      "Epoch 41/100\n",
      "1875/1875 - 9s - loss: 0.0024 - accuracy: 0.9997 - 9s/epoch - 5ms/step\n",
      "Epoch 42/100\n",
      "1875/1875 - 8s - loss: 0.0024 - accuracy: 0.9996 - 8s/epoch - 4ms/step\n",
      "Epoch 43/100\n",
      "1875/1875 - 8s - loss: 0.0024 - accuracy: 0.9996 - 8s/epoch - 4ms/step\n",
      "Epoch 44/100\n",
      "1875/1875 - 8s - loss: 0.0023 - accuracy: 0.9997 - 8s/epoch - 5ms/step\n",
      "Epoch 45/100\n",
      "1875/1875 - 9s - loss: 0.0022 - accuracy: 0.9998 - 9s/epoch - 5ms/step\n",
      "Epoch 46/100\n",
      "1875/1875 - 10s - loss: 0.0020 - accuracy: 0.9998 - 10s/epoch - 5ms/step\n",
      "Epoch 47/100\n",
      "1875/1875 - 9s - loss: 0.0020 - accuracy: 0.9998 - 9s/epoch - 5ms/step\n",
      "Epoch 48/100\n",
      "1875/1875 - 9s - loss: 0.0019 - accuracy: 0.9998 - 9s/epoch - 5ms/step\n",
      "Epoch 49/100\n",
      "1875/1875 - 8s - loss: 0.0021 - accuracy: 0.9997 - 8s/epoch - 4ms/step\n",
      "Epoch 50/100\n",
      "1875/1875 - 7s - loss: 0.0019 - accuracy: 0.9998 - 7s/epoch - 4ms/step\n",
      "Epoch 51/100\n",
      "1875/1875 - 7s - loss: 0.0020 - accuracy: 0.9997 - 7s/epoch - 4ms/step\n",
      "Epoch 52/100\n",
      "1875/1875 - 8s - loss: 0.0018 - accuracy: 0.9998 - 8s/epoch - 4ms/step\n",
      "Epoch 53/100\n",
      "1875/1875 - 8s - loss: 0.0017 - accuracy: 0.9999 - 8s/epoch - 4ms/step\n",
      "Epoch 54/100\n",
      "1875/1875 - 7s - loss: 0.0018 - accuracy: 0.9997 - 7s/epoch - 4ms/step\n",
      "Epoch 55/100\n",
      "1875/1875 - 7s - loss: 0.0017 - accuracy: 0.9998 - 7s/epoch - 4ms/step\n",
      "Epoch 56/100\n",
      "1875/1875 - 7s - loss: 0.0014 - accuracy: 0.9999 - 7s/epoch - 4ms/step\n",
      "Epoch 57/100\n",
      "1875/1875 - 7s - loss: 0.0017 - accuracy: 0.9998 - 7s/epoch - 4ms/step\n",
      "Epoch 58/100\n",
      "1875/1875 - 7s - loss: 0.0016 - accuracy: 0.9998 - 7s/epoch - 4ms/step\n",
      "Epoch 59/100\n",
      "1875/1875 - 7s - loss: 0.0015 - accuracy: 0.9999 - 7s/epoch - 4ms/step\n",
      "Epoch 60/100\n",
      "1875/1875 - 7s - loss: 0.0015 - accuracy: 0.9998 - 7s/epoch - 4ms/step\n",
      "Epoch 61/100\n",
      "1875/1875 - 7s - loss: 0.0014 - accuracy: 0.9999 - 7s/epoch - 4ms/step\n",
      "Epoch 62/100\n",
      "1875/1875 - 7s - loss: 0.0014 - accuracy: 0.9999 - 7s/epoch - 4ms/step\n",
      "Epoch 63/100\n",
      "1875/1875 - 7s - loss: 0.0014 - accuracy: 0.9999 - 7s/epoch - 4ms/step\n",
      "Epoch 64/100\n",
      "1875/1875 - 7s - loss: 0.0013 - accuracy: 1.0000 - 7s/epoch - 4ms/step\n",
      "Epoch 65/100\n",
      "1875/1875 - 7s - loss: 0.0012 - accuracy: 1.0000 - 7s/epoch - 4ms/step\n",
      "Epoch 66/100\n",
      "1875/1875 - 7s - loss: 0.0014 - accuracy: 0.9999 - 7s/epoch - 4ms/step\n",
      "Epoch 67/100\n",
      "1875/1875 - 7s - loss: 0.0012 - accuracy: 0.9999 - 7s/epoch - 4ms/step\n",
      "Epoch 68/100\n",
      "1875/1875 - 7s - loss: 0.0013 - accuracy: 0.9999 - 7s/epoch - 4ms/step\n",
      "Epoch 69/100\n",
      "1875/1875 - 7s - loss: 0.0012 - accuracy: 1.0000 - 7s/epoch - 4ms/step\n",
      "Epoch 70/100\n",
      "1875/1875 - 7s - loss: 0.0013 - accuracy: 1.0000 - 7s/epoch - 4ms/step\n",
      "Epoch 71/100\n",
      "1875/1875 - 7s - loss: 0.0011 - accuracy: 1.0000 - 7s/epoch - 4ms/step\n",
      "Epoch 72/100\n",
      "1875/1875 - 7s - loss: 0.0012 - accuracy: 0.9999 - 7s/epoch - 4ms/step\n",
      "Epoch 73/100\n",
      "1875/1875 - 7s - loss: 0.0012 - accuracy: 0.9999 - 7s/epoch - 4ms/step\n",
      "Epoch 74/100\n",
      "1875/1875 - 7s - loss: 0.0012 - accuracy: 0.9999 - 7s/epoch - 4ms/step\n",
      "Epoch 75/100\n",
      "1875/1875 - 7s - loss: 0.0011 - accuracy: 0.9999 - 7s/epoch - 4ms/step\n",
      "Epoch 76/100\n",
      "1875/1875 - 7s - loss: 0.0012 - accuracy: 0.9999 - 7s/epoch - 4ms/step\n",
      "Epoch 77/100\n",
      "1875/1875 - 7s - loss: 0.0011 - accuracy: 1.0000 - 7s/epoch - 4ms/step\n",
      "Epoch 78/100\n",
      "1875/1875 - 7s - loss: 0.0011 - accuracy: 1.0000 - 7s/epoch - 4ms/step\n",
      "Epoch 79/100\n",
      "1875/1875 - 7s - loss: 0.0011 - accuracy: 0.9999 - 7s/epoch - 4ms/step\n",
      "Epoch 80/100\n",
      "1875/1875 - 7s - loss: 0.0011 - accuracy: 0.9999 - 7s/epoch - 4ms/step\n",
      "Epoch 81/100\n",
      "1875/1875 - 7s - loss: 0.0011 - accuracy: 0.9999 - 7s/epoch - 4ms/step\n",
      "Epoch 82/100\n",
      "1875/1875 - 7s - loss: 0.0011 - accuracy: 0.9999 - 7s/epoch - 4ms/step\n",
      "Epoch 83/100\n",
      "1875/1875 - 7s - loss: 0.0011 - accuracy: 0.9999 - 7s/epoch - 4ms/step\n",
      "Epoch 84/100\n",
      "1875/1875 - 8s - loss: 9.1182e-04 - accuracy: 1.0000 - 8s/epoch - 4ms/step\n",
      "Epoch 85/100\n",
      "1875/1875 - 8s - loss: 9.2641e-04 - accuracy: 1.0000 - 8s/epoch - 4ms/step\n",
      "Epoch 86/100\n",
      "1875/1875 - 7s - loss: 9.8169e-04 - accuracy: 0.9999 - 7s/epoch - 4ms/step\n",
      "Epoch 87/100\n",
      "1875/1875 - 7s - loss: 8.5290e-04 - accuracy: 1.0000 - 7s/epoch - 4ms/step\n",
      "Epoch 88/100\n",
      "1875/1875 - 7s - loss: 8.9884e-04 - accuracy: 0.9999 - 7s/epoch - 4ms/step\n",
      "Epoch 89/100\n",
      "1875/1875 - 7s - loss: 9.7765e-04 - accuracy: 0.9999 - 7s/epoch - 4ms/step\n",
      "Epoch 90/100\n",
      "1875/1875 - 7s - loss: 8.7805e-04 - accuracy: 1.0000 - 7s/epoch - 4ms/step\n",
      "Epoch 91/100\n",
      "1875/1875 - 7s - loss: 9.6272e-04 - accuracy: 0.9999 - 7s/epoch - 4ms/step\n",
      "Epoch 92/100\n",
      "1875/1875 - 7s - loss: 9.4656e-04 - accuracy: 0.9999 - 7s/epoch - 4ms/step\n",
      "Epoch 93/100\n",
      "1875/1875 - 7s - loss: 8.8100e-04 - accuracy: 0.9999 - 7s/epoch - 4ms/step\n",
      "Epoch 94/100\n",
      "1875/1875 - 7s - loss: 8.7152e-04 - accuracy: 1.0000 - 7s/epoch - 4ms/step\n",
      "Epoch 95/100\n",
      "1875/1875 - 7s - loss: 8.3742e-04 - accuracy: 1.0000 - 7s/epoch - 4ms/step\n",
      "Epoch 96/100\n",
      "1875/1875 - 7s - loss: 7.4238e-04 - accuracy: 1.0000 - 7s/epoch - 4ms/step\n",
      "Epoch 97/100\n",
      "1875/1875 - 7s - loss: 8.4219e-04 - accuracy: 1.0000 - 7s/epoch - 4ms/step\n",
      "Epoch 98/100\n",
      "1875/1875 - 7s - loss: 8.0110e-04 - accuracy: 0.9999 - 7s/epoch - 4ms/step\n",
      "Epoch 99/100\n",
      "1875/1875 - 7s - loss: 7.9896e-04 - accuracy: 1.0000 - 7s/epoch - 4ms/step\n",
      "Epoch 100/100\n",
      "1875/1875 - 7s - loss: 7.0950e-04 - accuracy: 1.0000 - 7s/epoch - 4ms/step\n"
     ]
    },
    {
     "data": {
      "text/plain": [
       "<keras.callbacks.History at 0x7ff152ddbf10>"
      ]
     },
     "execution_count": 42,
     "metadata": {},
     "output_type": "execute_result"
    }
   ],
   "source": [
    "model.compile(optimizer=adagrad, loss=loss, metrics=['accuracy'])\n",
    "model.fit(x_train, y_train, epochs=100, verbose=2)"
   ]
  },
  {
   "cell_type": "code",
   "execution_count": 40,
   "metadata": {},
   "outputs": [
    {
     "name": "stdout",
     "output_type": "stream",
     "text": [
      "313/313 - 1s - loss: 0.0741 - accuracy: 0.9802 - 501ms/epoch - 2ms/step\n"
     ]
    },
    {
     "data": {
      "text/plain": [
       "[0.07407862693071365, 0.9801999926567078]"
      ]
     },
     "execution_count": 40,
     "metadata": {},
     "output_type": "execute_result"
    }
   ],
   "source": [
    "# SGD test accuracy\n",
    "model.evaluate(x_test,  y_test, verbose=2)"
   ]
  },
  {
   "cell_type": "code",
   "execution_count": 43,
   "metadata": {},
   "outputs": [
    {
     "name": "stdout",
     "output_type": "stream",
     "text": [
      "313/313 - 1s - loss: 0.1014 - accuracy: 0.9807 - 758ms/epoch - 2ms/step\n"
     ]
    },
    {
     "data": {
      "text/plain": [
       "[0.1013999953866005, 0.9807000160217285]"
      ]
     },
     "execution_count": 43,
     "metadata": {},
     "output_type": "execute_result"
    }
   ],
   "source": [
    "# AdaGrad test accuracy\n",
    "model.evaluate(x_test,  y_test, verbose=2)"
   ]
  },
  {
   "cell_type": "code",
   "execution_count": null,
   "metadata": {},
   "outputs": [],
   "source": []
  }
 ],
 "metadata": {
  "kernelspec": {
   "display_name": "Python 3.10.8 ('tensorflow')",
   "language": "python",
   "name": "python3"
  },
  "language_info": {
   "codemirror_mode": {
    "name": "ipython",
    "version": 3
   },
   "file_extension": ".py",
   "mimetype": "text/x-python",
   "name": "python",
   "nbconvert_exporter": "python",
   "pygments_lexer": "ipython3",
   "version": "3.10.8"
  },
  "orig_nbformat": 4,
  "vscode": {
   "interpreter": {
    "hash": "302c105f7d704774145b5779d4dbd1bbc67b9915bf3ba9b32e8cbe0f45b4034a"
   }
  }
 },
 "nbformat": 4,
 "nbformat_minor": 2
}
