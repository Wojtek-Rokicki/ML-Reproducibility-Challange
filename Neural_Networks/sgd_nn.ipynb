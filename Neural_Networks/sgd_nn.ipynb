{
 "cells": [
  {
   "cell_type": "code",
   "execution_count": 1,
   "metadata": {},
   "outputs": [],
   "source": [
    "import tensorflow as tf\n",
    "import keras\n",
    "from tensorflow.keras.losses import Loss"
   ]
  },
  {
   "cell_type": "code",
   "execution_count": 2,
   "metadata": {},
   "outputs": [],
   "source": [
    "# Loss function\n",
    "class Custom_Loss(Loss):\n",
    "    def __init__(self):\n",
    "        super().__init__()\n",
    "    \n",
    "    def call(self, y_true, y_pred):\n",
    "        y_pred = tf.nn.softmax(y_pred)\n",
    "        y_true = tf.nn.softmax(y_true)\n",
    "\n",
    "        return tf.math.reduce_logsumexp(y_pred) - tf.tensordot(tf.transpose(y_true), y_pred, axes=0)"
   ]
  },
  {
   "cell_type": "code",
   "execution_count": 3,
   "metadata": {},
   "outputs": [],
   "source": [
    "mnist = tf.keras.datasets.mnist"
   ]
  },
  {
   "cell_type": "code",
   "execution_count": 4,
   "metadata": {},
   "outputs": [
    {
     "name": "stderr",
     "output_type": "stream",
     "text": [
      "2022-12-10 16:12:20.454755: I tensorflow/core/platform/cpu_feature_guard.cc:193] This TensorFlow binary is optimized with oneAPI Deep Neural Network Library (oneDNN) to use the following CPU instructions in performance-critical operations:  SSE4.1 SSE4.2\n",
      "To enable them in other operations, rebuild TensorFlow with the appropriate compiler flags.\n"
     ]
    }
   ],
   "source": [
    "(x_train, y_train), (x_test, y_test) = mnist.load_data()\n",
    "x_train, x_test = x_train / 255.0, x_test / 255.0\n",
    "x_train, y_train = tf.cast(x_train, tf.float32), tf.cast(y_train, tf.float32)\n",
    "x_test, y_test = tf.cast(x_test, tf.float32), tf.cast(y_test, tf.float32)"
   ]
  },
  {
   "cell_type": "code",
   "execution_count": 5,
   "metadata": {},
   "outputs": [],
   "source": [
    "model = tf.keras.models.Sequential([\n",
    "    tf.keras.layers.Flatten(input_shape=(28, 28)),      # input layer, rehaping image into vectors\n",
    "    tf.keras.layers.Dense(512, activation='elu'),       # applying a linear layer with activation function\n",
    "    tf.keras.layers.Dense(512, activation='elu'),\n",
    "    tf.keras.layers.Dropout(0.2),                       # randomly sets inputs to zero at rate of 0.2 steps, reducing overfitting\n",
    "    tf.keras.layers.Dense(10)                           # output layer\n",
    "])"
   ]
  },
  {
   "cell_type": "code",
   "execution_count": 6,
   "metadata": {},
   "outputs": [
    {
     "name": "stdout",
     "output_type": "stream",
     "text": [
      "Epoch 1/100\n",
      "1875/1875 - 5s - loss: 5.7690 - accuracy: 0.0962 - 5s/epoch - 2ms/step\n",
      "Epoch 2/100\n",
      "1875/1875 - 4s - loss: 5.7688 - accuracy: 0.1011 - 4s/epoch - 2ms/step\n",
      "Epoch 3/100\n",
      "1875/1875 - 4s - loss: 5.7687 - accuracy: 0.1041 - 4s/epoch - 2ms/step\n",
      "Epoch 4/100\n",
      "1875/1875 - 4s - loss: 5.7687 - accuracy: 0.1059 - 4s/epoch - 2ms/step\n",
      "Epoch 5/100\n",
      "1875/1875 - 4s - loss: 5.7687 - accuracy: 0.1065 - 4s/epoch - 2ms/step\n",
      "Epoch 6/100\n",
      "1875/1875 - 4s - loss: 5.7686 - accuracy: 0.1064 - 4s/epoch - 2ms/step\n",
      "Epoch 7/100\n",
      "1875/1875 - 4s - loss: 5.7686 - accuracy: 0.1064 - 4s/epoch - 2ms/step\n",
      "Epoch 8/100\n",
      "1875/1875 - 4s - loss: 5.7686 - accuracy: 0.1053 - 4s/epoch - 2ms/step\n",
      "Epoch 9/100\n",
      "1875/1875 - 4s - loss: 5.7686 - accuracy: 0.1084 - 4s/epoch - 2ms/step\n",
      "Epoch 10/100\n",
      "1875/1875 - 4s - loss: 5.7686 - accuracy: 0.1073 - 4s/epoch - 2ms/step\n",
      "Epoch 11/100\n",
      "1875/1875 - 4s - loss: 5.7686 - accuracy: 0.1050 - 4s/epoch - 2ms/step\n",
      "Epoch 12/100\n",
      "1875/1875 - 4s - loss: 5.7686 - accuracy: 0.1075 - 4s/epoch - 2ms/step\n",
      "Epoch 13/100\n",
      "1875/1875 - 4s - loss: 5.7686 - accuracy: 0.1042 - 4s/epoch - 2ms/step\n",
      "Epoch 14/100\n",
      "1875/1875 - 4s - loss: 5.7686 - accuracy: 0.1043 - 4s/epoch - 2ms/step\n",
      "Epoch 15/100\n",
      "1875/1875 - 4s - loss: 5.7686 - accuracy: 0.1041 - 4s/epoch - 2ms/step\n",
      "Epoch 16/100\n",
      "1875/1875 - 4s - loss: 5.7686 - accuracy: 0.1056 - 4s/epoch - 2ms/step\n",
      "Epoch 17/100\n",
      "1875/1875 - 4s - loss: 5.7686 - accuracy: 0.1059 - 4s/epoch - 2ms/step\n",
      "Epoch 18/100\n",
      "1875/1875 - 4s - loss: 5.7686 - accuracy: 0.1048 - 4s/epoch - 2ms/step\n",
      "Epoch 19/100\n",
      "1875/1875 - 4s - loss: 5.7686 - accuracy: 0.1019 - 4s/epoch - 2ms/step\n",
      "Epoch 20/100\n",
      "1875/1875 - 4s - loss: 5.7686 - accuracy: 0.1030 - 4s/epoch - 2ms/step\n",
      "Epoch 21/100\n",
      "1875/1875 - 4s - loss: 5.7686 - accuracy: 0.1035 - 4s/epoch - 2ms/step\n",
      "Epoch 22/100\n",
      "1875/1875 - 4s - loss: 5.7686 - accuracy: 0.1038 - 4s/epoch - 2ms/step\n",
      "Epoch 23/100\n",
      "1875/1875 - 4s - loss: 5.7686 - accuracy: 0.1033 - 4s/epoch - 2ms/step\n",
      "Epoch 24/100\n",
      "1875/1875 - 4s - loss: 5.7686 - accuracy: 0.1017 - 4s/epoch - 2ms/step\n",
      "Epoch 25/100\n",
      "1875/1875 - 4s - loss: 5.7686 - accuracy: 0.1014 - 4s/epoch - 2ms/step\n",
      "Epoch 26/100\n",
      "1875/1875 - 4s - loss: 5.7686 - accuracy: 0.1013 - 4s/epoch - 2ms/step\n",
      "Epoch 27/100\n",
      "1875/1875 - 4s - loss: 5.7686 - accuracy: 0.1031 - 4s/epoch - 2ms/step\n",
      "Epoch 28/100\n",
      "1875/1875 - 4s - loss: 5.7686 - accuracy: 0.1033 - 4s/epoch - 2ms/step\n",
      "Epoch 29/100\n",
      "1875/1875 - 4s - loss: 5.7686 - accuracy: 0.1008 - 4s/epoch - 2ms/step\n",
      "Epoch 30/100\n",
      "1875/1875 - 4s - loss: 5.7686 - accuracy: 0.1053 - 4s/epoch - 2ms/step\n",
      "Epoch 31/100\n",
      "1875/1875 - 4s - loss: 5.7686 - accuracy: 0.1011 - 4s/epoch - 2ms/step\n",
      "Epoch 32/100\n",
      "1875/1875 - 4s - loss: 5.7686 - accuracy: 0.1012 - 4s/epoch - 2ms/step\n",
      "Epoch 33/100\n",
      "1875/1875 - 4s - loss: 5.7686 - accuracy: 0.1022 - 4s/epoch - 2ms/step\n",
      "Epoch 34/100\n",
      "1875/1875 - 4s - loss: 5.7686 - accuracy: 0.1013 - 4s/epoch - 2ms/step\n",
      "Epoch 35/100\n",
      "1875/1875 - 4s - loss: 5.7686 - accuracy: 0.1010 - 4s/epoch - 2ms/step\n",
      "Epoch 36/100\n",
      "1875/1875 - 4s - loss: 5.7686 - accuracy: 0.1011 - 4s/epoch - 2ms/step\n",
      "Epoch 37/100\n",
      "1875/1875 - 4s - loss: 5.7686 - accuracy: 0.1026 - 4s/epoch - 2ms/step\n",
      "Epoch 38/100\n",
      "1875/1875 - 4s - loss: 5.7686 - accuracy: 0.1022 - 4s/epoch - 2ms/step\n",
      "Epoch 39/100\n",
      "1875/1875 - 4s - loss: 5.7686 - accuracy: 0.1023 - 4s/epoch - 2ms/step\n",
      "Epoch 40/100\n",
      "1875/1875 - 4s - loss: 5.7686 - accuracy: 0.1025 - 4s/epoch - 2ms/step\n",
      "Epoch 41/100\n",
      "1875/1875 - 4s - loss: 5.7686 - accuracy: 0.1027 - 4s/epoch - 2ms/step\n",
      "Epoch 42/100\n",
      "1875/1875 - 4s - loss: 5.7686 - accuracy: 0.1039 - 4s/epoch - 2ms/step\n",
      "Epoch 43/100\n",
      "1875/1875 - 4s - loss: 5.7686 - accuracy: 0.1024 - 4s/epoch - 2ms/step\n",
      "Epoch 44/100\n",
      "1875/1875 - 4s - loss: 5.7686 - accuracy: 0.0989 - 4s/epoch - 2ms/step\n",
      "Epoch 45/100\n",
      "1875/1875 - 4s - loss: 5.7686 - accuracy: 0.1010 - 4s/epoch - 2ms/step\n",
      "Epoch 46/100\n",
      "1875/1875 - 4s - loss: 5.7686 - accuracy: 0.1012 - 4s/epoch - 2ms/step\n",
      "Epoch 47/100\n",
      "1875/1875 - 4s - loss: 5.7686 - accuracy: 0.1024 - 4s/epoch - 2ms/step\n",
      "Epoch 48/100\n",
      "1875/1875 - 4s - loss: 5.7686 - accuracy: 0.1028 - 4s/epoch - 2ms/step\n",
      "Epoch 49/100\n",
      "1875/1875 - 4s - loss: 5.7686 - accuracy: 0.1025 - 4s/epoch - 2ms/step\n",
      "Epoch 50/100\n",
      "1875/1875 - 4s - loss: 5.7686 - accuracy: 0.1009 - 4s/epoch - 2ms/step\n",
      "Epoch 51/100\n",
      "1875/1875 - 4s - loss: 5.7686 - accuracy: 0.1021 - 4s/epoch - 2ms/step\n",
      "Epoch 52/100\n",
      "1875/1875 - 4s - loss: 5.7686 - accuracy: 0.1010 - 4s/epoch - 2ms/step\n",
      "Epoch 53/100\n",
      "1875/1875 - 4s - loss: 5.7685 - accuracy: 0.1019 - 4s/epoch - 2ms/step\n",
      "Epoch 54/100\n",
      "1875/1875 - 4s - loss: 5.7685 - accuracy: 0.1016 - 4s/epoch - 2ms/step\n",
      "Epoch 55/100\n",
      "1875/1875 - 4s - loss: 5.7685 - accuracy: 0.0994 - 4s/epoch - 2ms/step\n",
      "Epoch 56/100\n",
      "1875/1875 - 4s - loss: 5.7685 - accuracy: 0.1034 - 4s/epoch - 2ms/step\n",
      "Epoch 57/100\n",
      "1875/1875 - 4s - loss: 5.7685 - accuracy: 0.1039 - 4s/epoch - 2ms/step\n",
      "Epoch 58/100\n",
      "1875/1875 - 4s - loss: 5.7685 - accuracy: 0.1002 - 4s/epoch - 2ms/step\n",
      "Epoch 59/100\n",
      "1875/1875 - 4s - loss: 5.7685 - accuracy: 0.1022 - 4s/epoch - 2ms/step\n",
      "Epoch 60/100\n",
      "1875/1875 - 4s - loss: 5.7685 - accuracy: 0.1028 - 4s/epoch - 2ms/step\n",
      "Epoch 61/100\n",
      "1875/1875 - 4s - loss: 5.7685 - accuracy: 0.1034 - 4s/epoch - 2ms/step\n",
      "Epoch 62/100\n",
      "1875/1875 - 4s - loss: 5.7685 - accuracy: 0.1006 - 4s/epoch - 2ms/step\n",
      "Epoch 63/100\n",
      "1875/1875 - 4s - loss: 5.7685 - accuracy: 0.1018 - 4s/epoch - 2ms/step\n",
      "Epoch 64/100\n",
      "1875/1875 - 4s - loss: 5.7685 - accuracy: 0.1002 - 4s/epoch - 2ms/step\n",
      "Epoch 65/100\n",
      "1875/1875 - 4s - loss: 5.7685 - accuracy: 0.1004 - 4s/epoch - 2ms/step\n",
      "Epoch 66/100\n",
      "1875/1875 - 4s - loss: 5.7685 - accuracy: 0.0999 - 4s/epoch - 2ms/step\n",
      "Epoch 67/100\n",
      "1875/1875 - 4s - loss: 5.7685 - accuracy: 0.1024 - 4s/epoch - 2ms/step\n",
      "Epoch 68/100\n",
      "1875/1875 - 4s - loss: 5.7685 - accuracy: 0.1038 - 4s/epoch - 2ms/step\n",
      "Epoch 69/100\n",
      "1875/1875 - 4s - loss: 5.7685 - accuracy: 0.1005 - 4s/epoch - 2ms/step\n",
      "Epoch 70/100\n",
      "1875/1875 - 4s - loss: 5.7685 - accuracy: 0.1014 - 4s/epoch - 2ms/step\n",
      "Epoch 71/100\n",
      "1875/1875 - 4s - loss: 5.7685 - accuracy: 0.1009 - 4s/epoch - 2ms/step\n",
      "Epoch 72/100\n",
      "1875/1875 - 4s - loss: 5.7685 - accuracy: 0.1041 - 4s/epoch - 2ms/step\n",
      "Epoch 73/100\n",
      "1875/1875 - 4s - loss: 5.7685 - accuracy: 0.1013 - 4s/epoch - 2ms/step\n",
      "Epoch 74/100\n",
      "1875/1875 - 4s - loss: 5.7685 - accuracy: 0.1007 - 4s/epoch - 2ms/step\n",
      "Epoch 75/100\n",
      "1875/1875 - 4s - loss: 5.7685 - accuracy: 0.1013 - 4s/epoch - 2ms/step\n",
      "Epoch 76/100\n",
      "1875/1875 - 4s - loss: 5.7685 - accuracy: 0.1021 - 4s/epoch - 2ms/step\n",
      "Epoch 77/100\n",
      "1875/1875 - 4s - loss: 5.7685 - accuracy: 0.1009 - 4s/epoch - 2ms/step\n",
      "Epoch 78/100\n",
      "1875/1875 - 4s - loss: 5.7685 - accuracy: 0.1013 - 4s/epoch - 2ms/step\n",
      "Epoch 79/100\n",
      "1875/1875 - 4s - loss: 5.7685 - accuracy: 0.1020 - 4s/epoch - 2ms/step\n",
      "Epoch 80/100\n",
      "1875/1875 - 4s - loss: 5.7685 - accuracy: 0.1014 - 4s/epoch - 2ms/step\n",
      "Epoch 81/100\n",
      "1875/1875 - 4s - loss: 5.7685 - accuracy: 0.1004 - 4s/epoch - 2ms/step\n",
      "Epoch 82/100\n",
      "1875/1875 - 4s - loss: 5.7685 - accuracy: 0.1018 - 4s/epoch - 2ms/step\n",
      "Epoch 83/100\n",
      "1875/1875 - 4s - loss: 5.7685 - accuracy: 0.1010 - 4s/epoch - 2ms/step\n",
      "Epoch 84/100\n",
      "1875/1875 - 4s - loss: 5.7685 - accuracy: 0.1014 - 4s/epoch - 2ms/step\n",
      "Epoch 85/100\n",
      "1875/1875 - 4s - loss: 5.7685 - accuracy: 0.0986 - 4s/epoch - 2ms/step\n",
      "Epoch 86/100\n",
      "1875/1875 - 4s - loss: 5.7685 - accuracy: 0.0998 - 4s/epoch - 2ms/step\n",
      "Epoch 87/100\n",
      "1875/1875 - 4s - loss: 5.7685 - accuracy: 0.1018 - 4s/epoch - 2ms/step\n",
      "Epoch 88/100\n",
      "1875/1875 - 4s - loss: 5.7685 - accuracy: 0.1022 - 4s/epoch - 2ms/step\n",
      "Epoch 89/100\n",
      "1875/1875 - 4s - loss: 5.7685 - accuracy: 0.1011 - 4s/epoch - 2ms/step\n",
      "Epoch 90/100\n",
      "1875/1875 - 4s - loss: 5.7685 - accuracy: 0.0999 - 4s/epoch - 2ms/step\n",
      "Epoch 91/100\n",
      "1875/1875 - 4s - loss: 5.7685 - accuracy: 0.1013 - 4s/epoch - 2ms/step\n",
      "Epoch 92/100\n",
      "1875/1875 - 4s - loss: 5.7685 - accuracy: 0.0998 - 4s/epoch - 2ms/step\n",
      "Epoch 93/100\n",
      "1875/1875 - 4s - loss: 5.7685 - accuracy: 0.1009 - 4s/epoch - 2ms/step\n",
      "Epoch 94/100\n",
      "1875/1875 - 4s - loss: 5.7685 - accuracy: 0.1029 - 4s/epoch - 2ms/step\n",
      "Epoch 95/100\n",
      "1875/1875 - 4s - loss: 5.7685 - accuracy: 0.1016 - 4s/epoch - 2ms/step\n",
      "Epoch 96/100\n",
      "1875/1875 - 4s - loss: 5.7685 - accuracy: 0.1019 - 4s/epoch - 2ms/step\n",
      "Epoch 97/100\n",
      "1875/1875 - 4s - loss: 5.7685 - accuracy: 0.1027 - 4s/epoch - 2ms/step\n",
      "Epoch 98/100\n",
      "1875/1875 - 4s - loss: 5.7685 - accuracy: 0.1020 - 4s/epoch - 2ms/step\n",
      "Epoch 99/100\n",
      "1875/1875 - 4s - loss: 5.7685 - accuracy: 0.0993 - 4s/epoch - 2ms/step\n",
      "Epoch 100/100\n",
      "1875/1875 - 4s - loss: 5.7685 - accuracy: 0.1022 - 4s/epoch - 2ms/step\n"
     ]
    },
    {
     "data": {
      "text/plain": [
       "<keras.callbacks.History at 0x7ff19c8a5ae0>"
      ]
     },
     "execution_count": 6,
     "metadata": {},
     "output_type": "execute_result"
    }
   ],
   "source": [
    "model.compile(optimizer='sgd', loss=Custom_Loss(), metrics=['accuracy'])\n",
    "model.fit(x_train, y_train, epochs=100, verbose=2)"
   ]
  },
  {
   "cell_type": "code",
   "execution_count": 94,
   "metadata": {},
   "outputs": [
    {
     "name": "stdout",
     "output_type": "stream",
     "text": [
      "313/313 - 1s - loss: -8.3408e+00 - accuracy: 0.1015 - 818ms/epoch - 3ms/step\n"
     ]
    },
    {
     "data": {
      "text/plain": [
       "[-8.340822219848633, 0.1014999970793724]"
      ]
     },
     "execution_count": 94,
     "metadata": {},
     "output_type": "execute_result"
    }
   ],
   "source": [
    "model.evaluate(x_test,  y_test, verbose=2)"
   ]
  },
  {
   "cell_type": "code",
   "execution_count": null,
   "metadata": {},
   "outputs": [],
   "source": []
  }
 ],
 "metadata": {
  "kernelspec": {
   "display_name": "Python 3.10.8 ('tensorflow')",
   "language": "python",
   "name": "python3"
  },
  "language_info": {
   "codemirror_mode": {
    "name": "ipython",
    "version": 3
   },
   "file_extension": ".py",
   "mimetype": "text/x-python",
   "name": "python",
   "nbconvert_exporter": "python",
   "pygments_lexer": "ipython3",
   "version": "3.10.8"
  },
  "orig_nbformat": 4,
  "vscode": {
   "interpreter": {
    "hash": "302c105f7d704774145b5779d4dbd1bbc67b9915bf3ba9b32e8cbe0f45b4034a"
   }
  }
 },
 "nbformat": 4,
 "nbformat_minor": 2
}
